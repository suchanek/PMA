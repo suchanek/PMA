{
 "cells": [
  {
   "cell_type": "code",
   "execution_count": 1,
   "metadata": {},
   "outputs": [
    {
     "data": {
      "text/html": [
       "<script>jQuery(function() {if (jQuery(\"body.notebook_app\").length == 0) { jQuery(\".input_area\").toggle(); jQuery(\".prompt\").toggle();}});</script>"
      ]
     },
     "metadata": {},
     "output_type": "display_data"
    },
    {
     "data": {
      "text/html": [
       "<button onclick=\"jQuery('.input_area').toggle(); jQuery('.prompt').toggle();\">Toggle code</button>"
      ]
     },
     "metadata": {},
     "output_type": "display_data"
    }
   ],
   "source": [
    "from IPython.display import display\n",
    "from IPython.display import HTML\n",
    "import IPython.core.display as di # Example: di.display_html('<h3>%s:</h3>' % str, raw=True)\n",
    "\n",
    "# This line will hide code by default when the notebook is exported as HTML\n",
    "di.display_html('<script>jQuery(function() {if (jQuery(\"body.notebook_app\").length == 0) { jQuery(\".input_area\").toggle(); jQuery(\".prompt\").toggle();}});</script>', raw=True)\n",
    "\n",
    "# This line will add a button to toggle visibility of code blocks, for use with the HTML export version\n",
    "di.display_html('''<button onclick=\"jQuery('.input_area').toggle(); jQuery('.prompt').toggle();\">Toggle code</button>''', raw=True)\n"
   ]
  },
  {
   "cell_type": "code",
   "execution_count": null,
   "metadata": {},
   "outputs": [],
   "source": [
    "\n",
    "\n"
   ]
  },
  {
   "cell_type": "markdown",
   "metadata": {},
   "source": [
    "# Head Check Analysis in Python - Concept and Validation\n",
    "*Eric G. Suchanek, Ph.D. v.1, 3/9/19*\n",
    "\n",
    "The following Python code block reads .fit files from the Axiom camera at Chews Ridge as part of Dr. Shane's 'headcheck'\n",
    "procedure, and extracts a number of header fields:\n",
    "* obs-date\n",
    "* exposure time \n",
    "* airmass\n",
    "* time start\n",
    "* object\n",
    "* RA\n",
    "* DEC\n",
    "* Detector\n",
    "* Filter\n",
    "* Darktime\n",
    "\n",
    "The only fields necessary for the relevant calculations are:\n",
    "* Observatory location\n",
    "* observation date\n",
    "* exposure duration\n",
    "* object Right Ascension\n",
    "* Object Declination\n",
    "* Observatory location. \n",
    "\n",
    "The other fields are retrieved as part of code validation and to provide a \n",
    "The program computes the time mid, time end, HA, Airmass, \n",
    "in UTC and LST by using the coordinates of Chews Ridge, This is used to compute the object's\n",
    "HA, altitude and airmass. These results are displayed in tabular form. The raw image and a stretched\n",
    "version are shown side by side. The stretched version is normalized over the image intensities\n",
    "code automatically adjusts the timezone offset by checking to see if DST is in effect."
   ]
  },
  {
   "cell_type": "code",
   "execution_count": 2,
   "metadata": {
    "scrolled": false
   },
   "outputs": [
    {
     "name": "stdout",
     "output_type": "stream",
     "text": [
      "5.0 s\n"
     ]
    },
    {
     "name": "stderr",
     "output_type": "stream",
     "text": [
      "WARNING: failed to download http://maia.usno.navy.mil/ser7/finals2000A.all and http://toshi.nofs.navy.mil/ser7/finals2000A.all, using local IERS-B: db type is dbm.gnu, but the module is not available;db type is dbm.gnu, but the module is not available [astropy.utils.iers.iers]\n"
     ]
    },
    {
     "name": "stdout",
     "output_type": "stream",
     "text": [
      "File:       ./PHOT030727/C/L110_6.fits\n",
      "Object:     Landolt 110a\n",
      "Exposure:   5.0 s\n",
      "Local Time: 2003-07-28 03:10:57.760 PDT\n"
     ]
    },
    {
     "data": {
      "text/plain": [
       "<Figure size 960x360 with 3 Axes>"
      ]
     },
     "metadata": {},
     "output_type": "display_data"
    },
    {
     "name": "stdout",
     "output_type": "stream",
     "text": [
      "RA:                         18h43m09.532s\n",
      "Dec:                        -0d29m26.231s\n",
      "HA mid:                     -3h16m54.63s\n",
      "Altitude (mid exp):         26.4518 deg\n",
      "Exposure:                   5.0 s\n",
      "Airmass (hdr):              2.203\n",
      "Airmass mid,(computed):     2.245\n",
      "JD UTC start exp, (hdr):    2452848.9242796297\n",
      "JD UTC mid exp:             2452848.924308565\n",
      "JD UTC end exp:             2452848.9243375\n",
      "UTC start exp:              2003-07-28 10:10:57.760\n",
      "UTC mid exp:                2003-07-28 10:11:00.260\n",
      "UTC end exp:                2003-07-28 10:11:02.760\n",
      "Local Time start exp:       2003-07-28 03:10:57.760\n",
      "Local Time mid exp:         2003-07-28 03:11:00.260\n",
      "Local Time end exp:         2003-07-28 03:11:02.760\n",
      "LST start:                  15h26m12.3951s\n",
      "LST mid:                    15h26m14.902s\n",
      "LST end:                    15h26m17.4088s\n",
      "GST start:                  22h27m21.3924s\n",
      "GST mid:                    22h27m23.8993s\n",
      "GST end:                    22h27m26.4061s\n",
      "---------------------------------------------------\n",
      "5.0 s\n",
      "File:       ./PHOT030727/C/L110_4.fits\n",
      "Object:     Landolt 110a\n",
      "Exposure:   5.0 s\n",
      "Local Time: 2003-07-28 01:39:07.970 PDT\n"
     ]
    },
    {
     "data": {
      "text/plain": [
       "<Figure size 960x360 with 3 Axes>"
      ]
     },
     "metadata": {},
     "output_type": "display_data"
    },
    {
     "name": "stdout",
     "output_type": "stream",
     "text": [
      "RA:                         18h43m09.413s\n",
      "Dec:                        -0d29m20.227s\n",
      "HA mid:                     -4h48m59.3868s\n",
      "Altitude (mid exp):         42.1348 deg\n",
      "Exposure:                   5.0 s\n",
      "Airmass (hdr):              1.472\n",
      "Airmass mid,(computed):     1.491\n",
      "JD UTC start exp, (hdr):    2452848.8605089122\n",
      "JD UTC mid exp:             2452848.860537847\n",
      "JD UTC end exp:             2452848.8605667823\n",
      "UTC start exp:              2003-07-28 08:39:07.970\n",
      "UTC mid exp:                2003-07-28 08:39:10.470\n",
      "UTC end exp:                2003-07-28 08:39:12.970\n",
      "Local Time start exp:       2003-07-28 01:39:07.970\n",
      "Local Time mid exp:         2003-07-28 01:39:10.470\n",
      "Local Time end exp:         2003-07-28 01:39:12.970\n",
      "LST start:                  13h54m07.5194s\n",
      "LST mid:                    13h54m10.0262s\n",
      "LST end:                    13h54m12.533s\n",
      "GST start:                  20h55m16.5167s\n",
      "GST mid:                    20h55m19.0236s\n",
      "GST end:                    20h55m21.5304s\n",
      "---------------------------------------------------\n",
      "5.0 s\n",
      "File:       ./PHOT030727/C/L110_1.fits\n",
      "Object:     Landolt 110a\n",
      "Exposure:   5.0 s\n",
      "Local Time: 2003-07-27 22:56:02.330 PDT\n"
     ]
    },
    {
     "data": {
      "text/plain": [
       "<Figure size 960x360 with 3 Axes>"
      ]
     },
     "metadata": {},
     "output_type": "display_data"
    },
    {
     "name": "stdout",
     "output_type": "stream",
     "text": [
      "RA:                         18h43m10.018s\n",
      "Dec:                        -0d29m26.086s\n",
      "HA mid:                     -7h32m32.4248s\n",
      "Altitude (mid exp):         52.4825 deg\n",
      "Exposure:                   5.0 s\n",
      "Airmass (hdr):              1.243\n",
      "Airmass mid,(computed):     1.261\n",
      "JD UTC start exp, (hdr):    2452848.7472491898\n",
      "JD UTC mid exp:             2452848.747278125\n",
      "JD UTC end exp:             2452848.7473070603\n",
      "UTC start exp:              2003-07-28 05:56:02.330\n",
      "UTC mid exp:                2003-07-28 05:56:04.830\n",
      "UTC end exp:                2003-07-28 05:56:07.330\n",
      "Local Time start exp:       2003-07-27 22:56:02.330\n",
      "Local Time mid exp:         2003-07-27 22:56:04.830\n",
      "Local Time end exp:         2003-07-27 22:56:07.330\n",
      "LST start:                  11h10m35.0863s\n",
      "LST mid:                    11h10m37.5932s\n",
      "LST end:                    11h10m40.1s\n",
      "GST start:                  18h11m44.0837s\n",
      "GST mid:                    18h11m46.5906s\n",
      "GST end:                    18h11m49.0974s\n",
      "---------------------------------------------------\n",
      "5.0 s\n",
      "File:       ./PHOT030727/C/L110_5.fits\n",
      "Object:     Landolt 110a\n",
      "Exposure:   5.0 s\n",
      "Local Time: 2003-07-28 03:05:36.890 PDT\n"
     ]
    },
    {
     "data": {
      "text/plain": [
       "<Figure size 960x360 with 3 Axes>"
      ]
     },
     "metadata": {},
     "output_type": "display_data"
    },
    {
     "name": "stdout",
     "output_type": "stream",
     "text": [
      "RA:                         18h43m09.574s\n",
      "Dec:                        -0d29m24.605s\n",
      "HA mid:                     -3h22m16.4206s\n",
      "Altitude (mid exp):         27.4491 deg\n",
      "Exposure:                   5.0 s\n",
      "Airmass (hdr):              2.14\n",
      "Airmass mid,(computed):     2.169\n",
      "JD UTC start exp, (hdr):    2452848.9205658566\n",
      "JD UTC mid exp:             2452848.920594792\n",
      "JD UTC end exp:             2452848.9206237267\n",
      "UTC start exp:              2003-07-28 10:05:36.890\n",
      "UTC mid exp:                2003-07-28 10:05:39.390\n",
      "UTC end exp:                2003-07-28 10:05:41.890\n",
      "Local Time start exp:       2003-07-28 03:05:36.890\n",
      "Local Time mid exp:         2003-07-28 03:05:39.390\n",
      "Local Time end exp:         2003-07-28 03:05:41.890\n",
      "LST start:                  15h20m50.6466s\n",
      "LST mid:                    15h20m53.1534s\n",
      "LST end:                    15h20m55.6603s\n",
      "GST start:                  22h21m59.6439s\n",
      "GST mid:                    22h22m02.1508s\n",
      "GST end:                    22h22m04.6576s\n",
      "---------------------------------------------------\n",
      "5.0 s\n",
      "File:       ./PHOT030727/C/L110_3.fits\n",
      "Object:     Landolt 110a\n",
      "Exposure:   5.0 s\n",
      "Local Time: 2003-07-28 01:33:14.800 PDT\n"
     ]
    },
    {
     "data": {
      "text/plain": [
       "<Figure size 960x360 with 3 Axes>"
      ]
     },
     "metadata": {},
     "output_type": "display_data"
    },
    {
     "name": "stdout",
     "output_type": "stream",
     "text": [
      "RA:                         18h43m09.608s\n",
      "Dec:                        -0d29m21.409s\n",
      "HA mid:                     -4h54m53.7188s\n",
      "Altitude (mid exp):         42.9966 deg\n",
      "Exposure:                   5.0 s\n",
      "Airmass (hdr):              1.447\n",
      "Airmass mid,(computed):     1.466\n",
      "JD UTC start exp, (hdr):    2452848.8564212965\n",
      "JD UTC mid exp:             2452848.8564502313\n",
      "JD UTC end exp:             2452848.8564791665\n",
      "UTC start exp:              2003-07-28 08:33:14.800\n",
      "UTC mid exp:                2003-07-28 08:33:17.300\n",
      "UTC end exp:                2003-07-28 08:33:19.800\n",
      "Local Time start exp:       2003-07-28 01:33:14.800\n",
      "Local Time mid exp:         2003-07-28 01:33:17.300\n",
      "Local Time end exp:         2003-07-28 01:33:19.800\n",
      "LST start:                  13h48m13.3824s\n",
      "LST mid:                    13h48m15.8892s\n",
      "LST end:                    13h48m18.3961s\n",
      "GST start:                  20h49m22.3797s\n",
      "GST mid:                    20h49m24.8866s\n",
      "GST end:                    20h49m27.3934s\n",
      "---------------------------------------------------\n",
      "5.0 s\n",
      "File:       ./PHOT030727/C/L107_3.fits\n",
      "Object:     Landolt 107a\n",
      "Exposure:   5.0 s\n",
      "Local Time: 2003-07-27 22:30:11.340 PDT\n"
     ]
    },
    {
     "data": {
      "text/plain": [
       "<Figure size 960x360 with 3 Axes>"
      ]
     },
     "metadata": {},
     "output_type": "display_data"
    },
    {
     "name": "stdout",
     "output_type": "stream",
     "text": [
      "RA:                         15h38m56.711s\n",
      "Dec:                        -0d17m46.211s\n",
      "HA mid:                     -4h54m14.3544s\n",
      "Altitude (mid exp):         43.0464 deg\n",
      "Exposure:                   5.0 s\n",
      "Airmass (hdr):              1.471\n",
      "Airmass mid,(computed):     1.465\n",
      "JD UTC start exp, (hdr):    2452848.729297917\n",
      "JD UTC mid exp:             2452848.7293268517\n",
      "JD UTC end exp:             2452848.729355787\n",
      "UTC start exp:              2003-07-28 05:30:11.340\n",
      "UTC mid exp:                2003-07-28 05:30:13.840\n",
      "UTC end exp:                2003-07-28 05:30:16.340\n",
      "Local Time start exp:       2003-07-27 22:30:11.340\n",
      "Local Time mid exp:         2003-07-27 22:30:13.840\n",
      "Local Time end exp:         2003-07-27 22:30:16.340\n",
      "LST start:                  10h44m39.8497s\n",
      "LST mid:                    10h44m42.3566s\n",
      "LST end:                    10h44m44.8634s\n",
      "GST start:                  17h45m48.8471s\n",
      "GST mid:                    17h45m51.354s\n",
      "GST end:                    17h45m53.8608s\n",
      "---------------------------------------------------\n",
      "5.0 s\n",
      "File:       ./PHOT030727/C/L110_2.fits\n",
      "Object:     Landolt 110a\n",
      "Exposure:   5.0 s\n",
      "Local Time: 2003-07-27 23:02:39.390 PDT\n"
     ]
    },
    {
     "data": {
      "text/plain": [
       "<Figure size 960x360 with 3 Axes>"
      ]
     },
     "metadata": {},
     "output_type": "display_data"
    },
    {
     "name": "stdout",
     "output_type": "stream",
     "text": [
      "RA:                         18h43m10.224s\n",
      "Dec:                        -0d29m23.82s\n",
      "HA mid:                     -7h25m54.4837s\n",
      "Altitude (mid exp):         52.7538 deg\n",
      "Exposure:                   5.0 s\n",
      "Airmass (hdr):              1.239\n",
      "Airmass mid,(computed):     1.256\n",
      "JD UTC start exp, (hdr):    2452848.7518447917\n",
      "JD UTC mid exp:             2452848.751873727\n",
      "JD UTC end exp:             2452848.751902662\n",
      "UTC start exp:              2003-07-28 06:02:39.390\n",
      "UTC mid exp:                2003-07-28 06:02:41.890\n",
      "UTC end exp:                2003-07-28 06:02:44.390\n",
      "Local Time start exp:       2003-07-27 23:02:39.390\n",
      "Local Time mid exp:         2003-07-27 23:02:41.890\n",
      "Local Time end exp:         2003-07-27 23:02:44.390\n",
      "LST start:                  11h17m13.2335s\n",
      "LST mid:                    11h17m15.7403s\n",
      "LST end:                    11h17m18.2472s\n",
      "GST start:                  18h18m22.2309s\n",
      "GST mid:                    18h18m24.7377s\n",
      "GST end:                    18h18m27.2446s\n",
      "---------------------------------------------------\n",
      "5.0 s\n",
      "File:       ./PHOT030727/C/L107_1.fits\n",
      "Object:     Landolt 107a\n",
      "Exposure:   5.0 s\n",
      "Local Time: 2003-07-27 21:24:30.060 PDT\n"
     ]
    },
    {
     "data": {
      "text/plain": [
       "<Figure size 960x360 with 3 Axes>"
      ]
     },
     "metadata": {},
     "output_type": "display_data"
    },
    {
     "name": "stdout",
     "output_type": "stream",
     "text": [
      "RA:                         15h38m57.013s\n",
      "Dec:                        -0d17m46.971s\n",
      "HA mid:                     -6h00m06.7276s\n",
      "Altitude (mid exp):         50.7544 deg\n",
      "Exposure:                   5.0 s\n",
      "Airmass (hdr):              1.293\n",
      "Airmass mid,(computed):     1.291\n",
      "JD UTC start exp, (hdr):    2452848.68368125\n",
      "JD UTC mid exp:             2452848.6837101853\n",
      "JD UTC end exp:             2452848.68373912\n",
      "UTC start exp:              2003-07-28 04:24:30.060\n",
      "UTC mid exp:                2003-07-28 04:24:32.560\n",
      "UTC end exp:                2003-07-28 04:24:35.060\n",
      "Local Time start exp:       2003-07-27 21:24:30.060\n",
      "Local Time mid exp:         2003-07-27 21:24:32.560\n",
      "Local Time end exp:         2003-07-27 21:24:35.060\n",
      "LST start:                  9h38m47.7785s\n",
      "LST mid:                    9h38m50.2854s\n",
      "LST end:                    9h38m52.7922s\n",
      "GST start:                  16h39m56.776s\n",
      "GST mid:                    16h39m59.2828s\n",
      "GST end:                    16h40m01.7896s\n",
      "---------------------------------------------------\n",
      "5.0 s\n",
      "File:       ./PHOT030727/C/L107_2.fits\n",
      "Object:     Landolt 107a\n",
      "Exposure:   5.0 s\n",
      "Local Time: 2003-07-27 22:02:15.950 PDT\n"
     ]
    },
    {
     "data": {
      "text/plain": [
       "<Figure size 960x360 with 3 Axes>"
      ]
     },
     "metadata": {},
     "output_type": "display_data"
    },
    {
     "name": "stdout",
     "output_type": "stream",
     "text": [
      "RA:                         15h38m56.797s\n",
      "Dec:                        -0d17m42.259s\n",
      "HA mid:                     -5h22m14.4176s\n",
      "Altitude (mid exp):         46.8087 deg\n",
      "Exposure:                   5.0 s\n",
      "Airmass (hdr):              1.373\n",
      "Airmass mid,(computed):     1.372\n",
      "JD UTC start exp, (hdr):    2452848.7099068286\n",
      "JD UTC mid exp:             2452848.709935764\n",
      "JD UTC end exp:             2452848.709964699\n",
      "UTC start exp:              2003-07-28 05:02:15.950\n",
      "UTC mid exp:                2003-07-28 05:02:18.450\n",
      "UTC end exp:                2003-07-28 05:02:20.950\n",
      "Local Time start exp:       2003-07-27 22:02:15.950\n",
      "Local Time mid exp:         2003-07-27 22:02:18.450\n",
      "Local Time end exp:         2003-07-27 22:02:20.950\n",
      "LST start:                  10h16m39.8725s\n",
      "LST mid:                    10h16m42.3794s\n",
      "LST end:                    10h16m44.8862s\n",
      "GST start:                  17h17m48.8699s\n",
      "GST mid:                    17h17m51.3768s\n",
      "GST end:                    17h17m53.8836s\n",
      "---------------------------------------------------\n",
      "Processed 9 files in: 2.68198299407959 s\n"
     ]
    }
   ],
   "source": [
    "#\n",
    "# Analyze fit files from the Axiom at Chews Ridge as part of Whitney's 'headcheck' procedure.\n",
    "# This code reads .fits frames from a specified path,extracts the obs-date, exposure time, \n",
    "# airmass, time start, object, RA, DEC.\n",
    "# The program computes the time mid, time end, HA, Airmass, \n",
    "# in UTC and LST by using the coordinates of Chews Ridge, This is used to compute the object's\n",
    "# HA, altitude and airmass. These results are displayed in tabular form. The raw image and a stretched\n",
    "# version are shown side by side. The stretched version is normalized over the image intensities\n",
    "# code automatically adjusts the timezone offset by checking to see if DST is in effect.\n",
    "# \n",
    "# -egs- 3/9/19 \n",
    "\n",
    "from glob import glob\n",
    "import os\n",
    "import time\n",
    "import datetime\n",
    "\n",
    "import astropy.units as u\n",
    "import astropy.coordinates as coord\n",
    "from astropy.coordinates import SkyCoord, EarthLocation, AltAz, Latitude, Longitude\n",
    "from astropy.io import fits\n",
    "from astropy.time import Time\n",
    "\n",
    "import matplotlib.pyplot as plt\n",
    "from matplotlib.pyplot import figure\n",
    "from astropy.visualization import (SqrtStretch,ImageNormalize,PercentileInterval)\n",
    "\n",
    "#\n",
    "# DST calculation for a given date\n",
    "# expects date to be .unix format\n",
    "\n",
    "def is_dst(date):\n",
    "    return bool(time.localtime(date).tm_isdst)\n",
    "\n",
    "# Set up our observation location.\n",
    "# OOS coordinates taken from Google Earth\n",
    "sitelong = '-121:34:1'\n",
    "sitelat = '36:18:20'\n",
    "height = 1516*u.m\n",
    "site_location = EarthLocation(sitelong, sitelat, height=height)\n",
    "\n",
    "# Base constant UTC offset for US/Pacific. This can change to -7 hour when DST is in effect.\n",
    "# the local var utcoffset reflects the ACTUAL utcoffset for the given date, taking DST into account\n",
    "UTC_offset = -8*u.hour\n",
    "\n",
    "# process only the light frames. this command produces a list of files matching the string L*.fits\n",
    "path = './PHOT030727/C/'\n",
    "files = glob(path + 'L*.fits')\n",
    "\n",
    "start_time = time.time()\n",
    "count = 0\n",
    "\n",
    "# Loop over all files\n",
    "for fits_image_file in files:\n",
    "    data, hdr = fits.getdata(fits_image_file, header=True, ext=0)\n",
    "    # collect parameters from the hdr\n",
    "    date_obs = hdr['date-obs']\n",
    "    exptime = hdr['exptime']\n",
    "    obj_name = hdr['object']\n",
    "    airmass = hdr['airmass']\n",
    "    obj_ra = hdr['ra']\n",
    "    obj_dec = hdr['dec']\n",
    "    obj_detector = hdr['detector']\n",
    "    obj_filter = hdr['filter']\n",
    "    obj_darktime = hdr['darktime']\n",
    "    exposure_time = exptime*u.second\n",
    "    exp2 = 5*u.second\n",
    "    \n",
    "    exp3 = exposure_time = exp2\n",
    "    print(exp3)\n",
    "    \n",
    "    # convert the strings for ra and dec into actual angle objects for later use\n",
    "    ra = Longitude(obj_ra, unit=u.hourangle)\n",
    "    dec = Latitude(obj_dec, unit=u.deg)\n",
    "\n",
    "    # Do the time calculations - based on file date-obs from the hdr\n",
    "  \n",
    "    UTC_time_observation = Time(date_obs,format='fits',location=site_location)\n",
    "    UTC_mid_exposure_time = UTC_time_observation + exposure_time / 2\n",
    "    UTC_end_exposure_time = UTC_time_observation + exposure_time\n",
    "    \n",
    "    # check if dst is in effect\n",
    "    if is_dst(UTC_time_observation.unix):\n",
    "        utcoffset = UTC_offset + 1*u.hour\n",
    "        dst_string = 'PDT'\n",
    "    else:\n",
    "        dst_string = 'PST'\n",
    "\n",
    "    # Perform the time calculations on the beginning, mid and end times       \n",
    "    local_time_observation = Time(UTC_time_observation + utcoffset, location=site_location)\n",
    "    local_time_observation_mid = local_time_observation + exposure_time / 2\n",
    "    local_time_observation_end = local_time_observation + exposure_time\n",
    "    \n",
    "    # Compute sidereal times for the observation\n",
    "    sidereal_time_type = 'apparent' # or 'mean'\n",
    "    sidereal_time_local_start = local_time_observation.sidereal_time(sidereal_time_type) \n",
    "    sidereal_time_local_mid = local_time_observation_mid.sidereal_time(sidereal_time_type) \n",
    "    sidereal_time_local_end = local_time_observation_end.sidereal_time(sidereal_time_type) \n",
    "\n",
    "    sidereal_time_UTC_start = UTC_time_observation.sidereal_time(sidereal_time_type) \n",
    "    sidereal_time_UTC_mid = UTC_mid_exposure_time.sidereal_time(sidereal_time_type) \n",
    "    sidereal_time_UTC_end = UTC_end_exposure_time.sidereal_time(sidereal_time_type) \n",
    "\n",
    "    # object's AltAz computed from RA,Dec and site location with time as input:  UTC\n",
    "    object_Sky = SkyCoord(ra,dec,location=site_location)\n",
    "    \n",
    "    object_observed_camera_mid = SkyCoord(ra,dec,obstime=UTC_mid_exposure_time)\n",
    "    object_altaz_camera_mid = object_Sky.transform_to(AltAz(obstime=(UTC_mid_exposure_time),\n",
    "                                                            location=site_location))\n",
    "                                                            \n",
    "    computed_airmass_mid = object_altaz_camera_mid.secz\n",
    "    hourangle_mid = sidereal_time_local_mid - object_observed_camera_mid.ra\n",
    "    \n",
    "    print('File:      ', fits_image_file)\n",
    "    print('Object:    ', obj_name)\n",
    "    print('Exposure:  ', exposure_time)\n",
    "    print(\"Local Time: {} {}\".format(local_time_observation.iso, dst_string))\n",
    "    \n",
    "    norm = ImageNormalize(data, interval=PercentileInterval(.1))\n",
    "    fig = plt.figure(figsize=(8,3),dpi=120)\n",
    "    ax1 = fig.add_subplot(1, 2, 1)\n",
    "    ax1.imshow(data, origin='lower')\n",
    "    ax2 = fig.add_subplot(1,2,2)\n",
    "    im2 = ax2.imshow(data, origin='lower',norm=norm)\n",
    "    fig.colorbar(im2)\n",
    "    plt.show()\n",
    "    \n",
    "    print('RA:                        ', ra)\n",
    "    print('Dec:                       ', dec)\n",
    "    print('HA mid:                    ', hourangle_mid)\n",
    "    print(\"Altitude (mid exp):         {0.alt:.6}\".format(object_altaz_camera_mid))\n",
    "    print('Exposure:                  ', exposure_time)\n",
    "    print('Airmass (hdr):             ', airmass)\n",
    "    print('Airmass mid,(computed):     {0:.4}'.format(computed_airmass_mid))\n",
    "    print('JD UTC start exp, (hdr):   ', UTC_time_observation.jd)\n",
    "    print('JD UTC mid exp:            ', UTC_mid_exposure_time.jd)\n",
    "    print('JD UTC end exp:            ', UTC_end_exposure_time.jd)\n",
    "    print('UTC start exp:             ', UTC_time_observation.iso)\n",
    "    print('UTC mid exp:               ', UTC_mid_exposure_time.iso)\n",
    "    print('UTC end exp:               ', UTC_end_exposure_time.iso)\n",
    "    print('Local Time start exp:      ', local_time_observation.iso)\n",
    "    print('Local Time mid exp:        ', local_time_observation_mid.iso)\n",
    "    print('Local Time end exp:        ', local_time_observation_end.iso)\n",
    "    print('LST start:                 ', sidereal_time_local_start)\n",
    "    print('LST mid:                   ', sidereal_time_local_mid)\n",
    "    print('LST end:                   ', sidereal_time_local_end)\n",
    "    print('GST start:                 ', sidereal_time_UTC_start)\n",
    "    print('GST mid:                   ', sidereal_time_UTC_mid)\n",
    "    print('GST end:                   ', sidereal_time_UTC_end)\n",
    "    print('---------------------------------------------------')\n",
    "    count += 1\n",
    "    # fits.writeto(fits_image_file, data, hdr, overwrite=True)\n",
    "end_time = time.time()\n",
    "elapsed_time = (end_time - start_time)*u.s\n",
    "\n",
    "print('Processed', count, 'files in:', elapsed_time)"
   ]
  },
  {
   "cell_type": "code",
   "execution_count": null,
   "metadata": {
    "scrolled": true
   },
   "outputs": [],
   "source": []
  }
 ],
 "metadata": {
  "kernelspec": {
   "display_name": "Python 3",
   "language": "python",
   "name": "python3"
  },
  "language_info": {
   "codemirror_mode": {
    "name": "ipython",
    "version": 3
   },
   "file_extension": ".py",
   "mimetype": "text/x-python",
   "name": "python",
   "nbconvert_exporter": "python",
   "pygments_lexer": "ipython3",
   "version": "3.6.9"
  }
 },
 "nbformat": 4,
 "nbformat_minor": 2
}
