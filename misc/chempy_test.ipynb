{
 "cells": [
  {
   "cell_type": "code",
   "execution_count": 2,
   "metadata": {},
   "outputs": [
    {
     "ename": "ModuleNotFoundError",
     "evalue": "No module named 'chempy'",
     "output_type": "error",
     "traceback": [
      "\u001b[0;31m---------------------------------------------------------------------------\u001b[0m",
      "\u001b[0;31mModuleNotFoundError\u001b[0m                       Traceback (most recent call last)",
      "\u001b[0;32m<ipython-input-2-a5a20d2b6fc8>\u001b[0m in \u001b[0;36m<module>\u001b[0;34m\u001b[0m\n\u001b[0;32m----> 1\u001b[0;31m \u001b[0;32mfrom\u001b[0m \u001b[0mchempy\u001b[0m \u001b[0;32mimport\u001b[0m \u001b[0mEquilibrium\u001b[0m\u001b[0;34m\u001b[0m\u001b[0;34m\u001b[0m\u001b[0m\n\u001b[0m\u001b[1;32m      2\u001b[0m \u001b[0;32mfrom\u001b[0m \u001b[0mchempy\u001b[0m\u001b[0;34m.\u001b[0m\u001b[0mchemistry\u001b[0m \u001b[0;32mimport\u001b[0m \u001b[0mSpecies\u001b[0m\u001b[0;34m\u001b[0m\u001b[0;34m\u001b[0m\u001b[0m\n\u001b[1;32m      3\u001b[0m \u001b[0;34m\u001b[0m\u001b[0m\n\u001b[1;32m      4\u001b[0m \u001b[0mwater_autop\u001b[0m \u001b[0;34m=\u001b[0m \u001b[0mEquilibrium\u001b[0m\u001b[0;34m(\u001b[0m\u001b[0;34m{\u001b[0m\u001b[0;34m'H2O'\u001b[0m\u001b[0;34m}\u001b[0m\u001b[0;34m,\u001b[0m \u001b[0;34m{\u001b[0m\u001b[0;34m'H+'\u001b[0m\u001b[0;34m,\u001b[0m \u001b[0;34m'OH-'\u001b[0m\u001b[0;34m}\u001b[0m\u001b[0;34m,\u001b[0m \u001b[0;36m10\u001b[0m\u001b[0;34m**\u001b[0m\u001b[0;34m-\u001b[0m\u001b[0;36m14\u001b[0m\u001b[0;34m)\u001b[0m  \u001b[0;31m# unit \"molar\" assumed\u001b[0m\u001b[0;34m\u001b[0m\u001b[0;34m\u001b[0m\u001b[0m\n\u001b[1;32m      5\u001b[0m \u001b[0mammonia_prot\u001b[0m \u001b[0;34m=\u001b[0m \u001b[0mEquilibrium\u001b[0m\u001b[0;34m(\u001b[0m\u001b[0;34m{\u001b[0m\u001b[0;34m'NH4+'\u001b[0m\u001b[0;34m}\u001b[0m\u001b[0;34m,\u001b[0m \u001b[0;34m{\u001b[0m\u001b[0;34m'NH3'\u001b[0m\u001b[0;34m,\u001b[0m \u001b[0;34m'H+'\u001b[0m\u001b[0;34m}\u001b[0m\u001b[0;34m,\u001b[0m \u001b[0;36m10\u001b[0m\u001b[0;34m**\u001b[0m\u001b[0;34m-\u001b[0m\u001b[0;36m9.24\u001b[0m\u001b[0;34m)\u001b[0m  \u001b[0;31m# same here\u001b[0m\u001b[0;34m\u001b[0m\u001b[0;34m\u001b[0m\u001b[0m\n",
      "\u001b[0;31mModuleNotFoundError\u001b[0m: No module named 'chempy'"
     ]
    }
   ],
   "source": [
    "from chempy import Equilibrium\n",
    "from chempy.chemistry import Species\n",
    "\n",
    "water_autop = Equilibrium({'H2O'}, {'H+', 'OH-'}, 10**-14)  # unit \"molar\" assumed\n",
    "ammonia_prot = Equilibrium({'NH4+'}, {'NH3', 'H+'}, 10**-9.24)  # same here\n",
    "\n",
    "from chempy.equilibria import EqSystem\n",
    "\n",
    "substances = map(Species.from_formula, 'H2O OH- H+ NH3 NH4+'.split())\n",
    "eqsys = EqSystem([water_autop, ammonia_prot], substances)\n",
    "print('\\n'.join(map(str, eqsys.rxns)))  # \"rxns\" short for \"reactions\"\n",
    "\n",
    "from collections import defaultdict\n",
    "init_conc = defaultdict(float, {'H2O': 1, 'NH3': 0.1})\n",
    "x, sol, sane = eqsys.root(init_conc)\n",
    "assert sol['success'] and sane\n",
    "print(sorted(sol.keys()))  # see package \"pyneqsys\" for more info\n",
    "print(', '.join('%.2g' % v for v in x))\n"
   ]
  },
  {
   "cell_type": "code",
   "execution_count": null,
   "metadata": {},
   "outputs": [],
   "source": []
  }
 ],
 "metadata": {
  "kernelspec": {
   "display_name": "Python 3",
   "language": "python",
   "name": "python3"
  },
  "language_info": {
   "codemirror_mode": {
    "name": "ipython",
    "version": 3
   },
   "file_extension": ".py",
   "mimetype": "text/x-python",
   "name": "python",
   "nbconvert_exporter": "python",
   "pygments_lexer": "ipython3",
   "version": "3.6.8"
  }
 },
 "nbformat": 4,
 "nbformat_minor": 2
}
