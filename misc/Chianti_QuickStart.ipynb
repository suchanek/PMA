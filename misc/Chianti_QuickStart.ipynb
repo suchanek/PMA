{
 "cells": [
  {
   "cell_type": "code",
   "execution_count": 2,
   "metadata": {},
   "outputs": [
    {
     "data": {
      "text/plain": [
       "'/home/suchanek/ChiantiPy/dbase'"
      ]
     },
     "execution_count": 2,
     "metadata": {},
     "output_type": "execute_result"
    }
   ],
   "source": [
    "import os\n",
    "os.environ['XUVTOP']"
   ]
  },
  {
   "cell_type": "markdown",
   "metadata": {},
   "source": [
    "This short tutorial will demonstrate some of the capabilities of ChiantiPy and the CHIANTI database. \n",
    "It assumes that you know what the CHIANTI database provides and why you want to use it. \n",
    "The current implementation uses Version 0.6.4 of ChiantiPy and version 8.0 of the CHIANTI database and mainly provides access to methods concerned with single ions. An ion such as Fe XIV is specified by the string ‘fe_14’, in the usual CHIANTI notation.\n",
    "\n",
    "Bring up a JuPyter notebook\n",
    "\n",
    "    > jupyter3-notebook\n",
    "\n",
    "or\n",
    "\n",
    "    > jupyter-notebook\n",
    "\n",
    "It is easiest to do this in the directory where the notebook (.ipynb) resides.\n",
    "\n",
    "Once you open QuickStart.ipynb in the browser window, you will see something like this.\n",
    "\n",
    "In my Ipython 00-setup.py file I have already preformed"
   ]
  },
  {
   "cell_type": "code",
   "execution_count": 3,
   "metadata": {},
   "outputs": [
    {
     "name": "stdout",
     "output_type": "stream",
     "text": [
      " ChiantiPy version 0.8.7 \n",
      " found PyQt5 widgets\n",
      " using PyQt5 widgets\n",
      "Using matplotlib backend: Qt5Agg\n"
     ]
    }
   ],
   "source": [
    "import ChiantiPy\n",
    "import ChiantiPy.core as ch\n",
    "import numpy as np\n",
    "import matplotlib.pyplot as plt\n",
    "%matplotlib"
   ]
  },
  {
   "cell_type": "markdown",
   "metadata": {},
   "source": [
    "the following import is also useful for this demo"
   ]
  },
  {
   "cell_type": "code",
   "execution_count": 4,
   "metadata": {},
   "outputs": [],
   "source": [
    "import ChiantiPy.tools.filters as chfilters"
   ]
  },
  {
   "cell_type": "code",
   "execution_count": 5,
   "metadata": {},
   "outputs": [
    {
     "data": {
      "text/plain": [
       "'0.8.7'"
      ]
     },
     "execution_count": 5,
     "metadata": {},
     "output_type": "execute_result"
    }
   ],
   "source": [
    "ChiantiPy.__version__"
   ]
  },
  {
   "cell_type": "code",
   "execution_count": 6,
   "metadata": {},
   "outputs": [
    {
     "name": "stdout",
     "output_type": "stream",
     "text": [
      " IPython version = 7.7.0\n"
     ]
    }
   ],
   "source": [
    "import IPython\n",
    "print(' IPython version = %i.%i.%i'%(IPython.version_info[0],IPython.version_info[1],IPython.version_info[2]))"
   ]
  },
  {
   "cell_type": "markdown",
   "metadata": {},
   "source": [
    "It is useful to open a qtconsole where are the calculations can be easily examined"
   ]
  },
  {
   "cell_type": "code",
   "execution_count": 7,
   "metadata": {},
   "outputs": [],
   "source": [
    "qtconsole"
   ]
  },
  {
   "cell_type": "markdown",
   "metadata": {},
   "source": [
    "What we will really be interested in are various properties of the Fe XIV emissivities as a function of temperature and density. So, let’s define a numpy array of temperatures and a value for the electron density"
   ]
  },
  {
   "cell_type": "code",
   "execution_count": 8,
   "metadata": {},
   "outputs": [],
   "source": [
    "temp = 10.**(5.8 + 0.05*np.arange(21.))\n",
    "edens = 1.e+9"
   ]
  },
  {
   "cell_type": "markdown",
   "metadata": {},
   "source": [
    "In ChiantiPy, temperatures are currently given in degrees Kelvin and densities as the number electron density per cubic cm. Then, construct fe14 as would be typically done"
   ]
  },
  {
   "cell_type": "code",
   "execution_count": 9,
   "metadata": {},
   "outputs": [],
   "source": [
    "fe14 = ch.ion('fe_14', temperature=temp, eDensity=edens)"
   ]
  },
  {
   "cell_type": "markdown",
   "metadata": {},
   "source": [
    "alternately, since **temperature** and **eDensity** are the first keyword arguments\n",
    "fe14 = ch.ion('fe_14', temp, edens)"
   ]
  },
  {
   "cell_type": "markdown",
   "metadata": {},
   "source": [
    "Level populations\n",
    "================="
   ]
  },
  {
   "cell_type": "code",
   "execution_count": 11,
   "metadata": {},
   "outputs": [],
   "source": [
    "fe14.popPlot()"
   ]
  },
  {
   "cell_type": "markdown",
   "metadata": {},
   "source": [
    "produces a matplotlib plot window were the population of the top 10 (the default) levels are plotted as a function of temperature.\n",
    "\n",
    "If the level populations had not already been calculated, popPlot() would have invoked the populate() method which calculates the level populations and stores them in the Population dictionary, with keys = [‘protonDensity’, ‘population’, ‘temperature’, ‘density’].\n",
    "\n",
    "The populations vs. temperature is not particularly interesting.  Plotting them vs. density is more interesting and will come latere"
   ]
  },
  {
   "cell_type": "markdown",
   "metadata": {},
   "source": [
    "A ChiantiPy Convention\n",
    "======================\n",
    "\n",
    "Classes and function of ChiantiPy start with lower case letters. \n",
    "----------------------------------------------------------------\n",
    "\n",
    "Data attached to the instantiation of a class will start with a capital letter. For example,\n",
    "--------------------------------------------------------------------------------------------\n",
    "\n",
    "fe14.populate() creates fe14.Population containing the level population information\n",
    "\n",
    "fe14.emiss() creates fe14.Emiss containing the line emissivity information\n",
    "\n",
    "fe14.intensity() creates fe14.Intensity containing the line intensity information that includes the elemental abundance and the ionization equilibrium\n",
    "\n",
    "fe14.spectrum() creates fe14.Spectrum contain the line and continuum spectrum information"
   ]
  },
  {
   "cell_type": "markdown",
   "metadata": {},
   "source": [
    "Spectral Line Intensities\n",
    "========================="
   ]
  },
  {
   "cell_type": "code",
   "execution_count": 12,
   "metadata": {},
   "outputs": [
    {
     "name": "stdout",
     "output_type": "stream",
     "text": [
      "    avalue\n",
      "        em\n",
      "integrated\n",
      " intensity\n",
      "      ionS\n",
      "      lvl1\n",
      "      lvl2\n",
      "       obs\n",
      "   pretty1\n",
      "   pretty2\n",
      "       wvl\n"
     ]
    }
   ],
   "source": [
    "fe14.intensity()\n",
    "for akey in sorted(fe14.Intensity):\n",
    "    print('%10s'%(akey))"
   ]
  },
  {
   "cell_type": "markdown",
   "metadata": {},
   "source": [
    "the units for line intensities, the key **intensity**, are erg cm$^{-2}$ s$^{-1}$ sr$^{-1}$ / $\\int N_e N_H d\\ell $, if the emission meassure **em** *not* unspecified"
   ]
  },
  {
   "cell_type": "code",
   "execution_count": 13,
   "metadata": {},
   "outputs": [
    {
     "name": "stdout",
     "output_type": "stream",
     "text": [
      "using index =    10 specifying temperature =   2.00e+06, eDensity =    1.00e+09\n"
     ]
    }
   ],
   "source": [
    "fe14.intensityPlot(wvlRange=[210.,220.],linLog='log')"
   ]
  },
  {
   "cell_type": "code",
   "execution_count": 14,
   "metadata": {},
   "outputs": [],
   "source": [
    "fe14.intensityPlot(index=2, wvlRange=[210.,220.],linLog='log')"
   ]
  },
  {
   "cell_type": "code",
   "execution_count": 15,
   "metadata": {},
   "outputs": [
    {
     "name": "stdout",
     "output_type": "stream",
     "text": [
      "using index =    10 specifying temperature =   2.00e+06, eDensity =    1.00e+09 em =   1.00e+00\n",
      "   \n",
      " ------------------------------------------\n",
      "   \n",
      "  Ion  lvl1  lvl2                     lower - upper                           Wvl(A)    Intensity      A value Obs\n",
      "fe_14     1    11              3s2.3p 2P0.5 - 3s2.3d 2D1.5                  211.3170     2.19e-25     3.81e+10 Y\n",
      "fe_14     4    27              3s.3p2 4P1.5 - 3s.3p(3P).3d 4P1.5            212.1250     5.01e-28     2.21e+10 Y\n",
      "fe_14     4    28              3s.3p2 4P1.5 - 3s.3p(3P).3d 4D2.5            212.1680     3.78e-28     1.15e+10 Y\n",
      "fe_14     3    24              3s.3p2 4P0.5 - 3s.3p(3P).3d 4D0.5            213.1950     7.56e-28     4.26e+10 Y\n",
      "fe_14     3    23              3s.3p2 4P0.5 - 3s.3p(3P).3d 4D1.5            213.8820     1.30e-27     2.97e+10 Y\n",
      "fe_14     5    28              3s.3p2 4P2.5 - 3s.3p(3P).3d 4D2.5            216.5780     9.11e-28     2.83e+10 Y\n",
      "fe_14     5    25              3s.3p2 4P2.5 - 3s.3p(3P).3d 4D3.5            216.9170     1.62e-27     4.29e+10 Y\n",
      "fe_14     7    32              3s.3p2 2D2.5 - 3s.3p(3P).3d 2F3.5            218.1760     3.49e-27     1.70e+10 Y\n",
      "fe_14     4    22              3s.3p2 4P1.5 - 3s.3p(3P).3d 4P2.5            218.5720     2.24e-27     2.65e+10 Y\n",
      "fe_14     2    12              3s2.3p 2P1.5 - 3s2.3d 2D2.5                  219.1300     4.75e-26     4.27e+10 Y\n",
      "   \n",
      " ------------------------------------------\n",
      "   \n"
     ]
    }
   ],
   "source": [
    "fe14.intensityList(wvlRange=[210.,220.])"
   ]
  },
  {
   "cell_type": "markdown",
   "metadata": {},
   "source": [
    "here, we have used the default value for the keyword argument **top** which specified how many of the most intense lines to list.  Also, **index** can be specified to give a different temperature, and **relative** can be set to 1 give relative emissivities"
   ]
  },
  {
   "cell_type": "code",
   "execution_count": 16,
   "metadata": {},
   "outputs": [
    {
     "name": "stdout",
     "output_type": "stream",
     "text": [
      "using index =    11 specifying temperature =   2.24e+06, eDensity =    1.00e+09 em =   1.00e+00\n",
      "   \n",
      " ------------------------------------------\n",
      "   \n",
      "  Ion  lvl1  lvl2                     lower - upper                           Wvl(A)    Intensity      A value Obs\n",
      "fe_14     1    11              3s2.3p 2P0.5 - 3s2.3d 2D1.5                  211.3170     1.00e+00     3.81e+10 Y\n",
      "fe_14     4    27              3s.3p2 4P1.5 - 3s.3p(3P).3d 4P1.5            212.1250     2.27e-03     2.21e+10 Y\n",
      "fe_14     4    28              3s.3p2 4P1.5 - 3s.3p(3P).3d 4D2.5            212.1680     1.69e-03     1.15e+10 Y\n",
      "fe_14     3    24              3s.3p2 4P0.5 - 3s.3p(3P).3d 4D0.5            213.1950     3.39e-03     4.26e+10 Y\n",
      "fe_14     3    23              3s.3p2 4P0.5 - 3s.3p(3P).3d 4D1.5            213.8820     5.89e-03     2.97e+10 Y\n",
      "fe_14     5    28              3s.3p2 4P2.5 - 3s.3p(3P).3d 4D2.5            216.5780     4.08e-03     2.83e+10 Y\n",
      "fe_14     5    25              3s.3p2 4P2.5 - 3s.3p(3P).3d 4D3.5            216.9170     7.09e-03     4.29e+10 Y\n",
      "fe_14     7    32              3s.3p2 2D2.5 - 3s.3p(3P).3d 2F3.5            218.1760     1.56e-02     1.70e+10 Y\n",
      "fe_14     4    22              3s.3p2 4P1.5 - 3s.3p(3P).3d 4P2.5            218.5720     1.01e-02     2.65e+10 Y\n",
      "fe_14     2    12              3s2.3p 2P1.5 - 3s2.3d 2D2.5                  219.1300     2.10e-01     4.27e+10 Y\n",
      "   \n",
      " ------------------------------------------\n",
      "   \n"
     ]
    }
   ],
   "source": [
    "fe14.intensityList(wvlRange=[210.,220.], relative=1, index=11)"
   ]
  },
  {
   "cell_type": "markdown",
   "metadata": {},
   "source": [
    "optionally, an output file could also be created by setting the keyword **outFile** to the name of the desired name"
   ]
  },
  {
   "cell_type": "markdown",
   "metadata": {},
   "source": [
    "Intensity Ratios\n",
    "================"
   ]
  },
  {
   "cell_type": "code",
   "execution_count": 17,
   "metadata": {},
   "outputs": [
    {
     "name": "stdout",
     "output_type": "stream",
     "text": [
      " ndens =     1 ntemp =    21\n",
      " maxWvl = 211.317\n",
      "    6.31e+05      6.31e+06 \n",
      " no numerator lines were selected\n"
     ]
    }
   ],
   "source": [
    "fe14.intensityRatio(wvlRange=[210., 225.])"
   ]
  },
  {
   "cell_type": "markdown",
   "metadata": {},
   "source": [
    "this brings up a plot showing the relative emissivities on the top 10 Fe XIV lines\n",
    "followed by a dialog where you can selector the numerator(s) and denominator(s) of the desired intensity ratio\n",
    "so the specified ratio is then plotted\n",
    "the intensityRatio as a function of temperature and density can be save to a text file with the following"
   ]
  },
  {
   "cell_type": "code",
   "execution_count": 18,
   "metadata": {},
   "outputs": [
    {
     "ename": "AttributeError",
     "evalue": "'ion' object has no attribute 'IntensityRatio'",
     "output_type": "error",
     "traceback": [
      "\u001b[0;31m---------------------------------------------------------------------------\u001b[0m",
      "\u001b[0;31mAttributeError\u001b[0m                            Traceback (most recent call last)",
      "\u001b[0;32m<ipython-input-18-35b179189c43>\u001b[0m in \u001b[0;36m<module>\u001b[0;34m\u001b[0m\n\u001b[0;32m----> 1\u001b[0;31m \u001b[0mfe14\u001b[0m\u001b[0;34m.\u001b[0m\u001b[0mintensityRatioSave\u001b[0m\u001b[0;34m(\u001b[0m\u001b[0;34m)\u001b[0m\u001b[0;34m\u001b[0m\u001b[0;34m\u001b[0m\u001b[0m\n\u001b[0m",
      "\u001b[0;32m~/anaconda3/envs/mira/lib/python3.6/site-packages/ChiantiPy-0.8.7-py3.6.egg/ChiantiPy/base/_IonTrails.py\u001b[0m in \u001b[0;36mintensityRatioSave\u001b[0;34m(self, outFile)\u001b[0m\n\u001b[1;32m    653\u001b[0m         \"\"\"\n\u001b[1;32m    654\u001b[0m         \u001b[0;32mif\u001b[0m \u001b[0;32mnot\u001b[0m \u001b[0moutFile\u001b[0m\u001b[0;34m:\u001b[0m\u001b[0;34m\u001b[0m\u001b[0;34m\u001b[0m\u001b[0m\n\u001b[0;32m--> 655\u001b[0;31m             \u001b[0moutFile\u001b[0m \u001b[0;34m=\u001b[0m \u001b[0mself\u001b[0m\u001b[0;34m.\u001b[0m\u001b[0mIntensityRatio\u001b[0m\u001b[0;34m[\u001b[0m\u001b[0;34m'filename'\u001b[0m\u001b[0;34m]\u001b[0m\u001b[0;34m\u001b[0m\u001b[0;34m\u001b[0m\u001b[0m\n\u001b[0m\u001b[1;32m    656\u001b[0m             \u001b[0mprint\u001b[0m\u001b[0;34m(\u001b[0m\u001b[0;34m' saving ratio to filename = %s'\u001b[0m\u001b[0;34m%\u001b[0m\u001b[0;34m(\u001b[0m\u001b[0moutFile\u001b[0m\u001b[0;34m)\u001b[0m\u001b[0;34m)\u001b[0m\u001b[0;34m\u001b[0m\u001b[0;34m\u001b[0m\u001b[0m\n\u001b[1;32m    657\u001b[0m         \u001b[0;32mif\u001b[0m \u001b[0mhasattr\u001b[0m\u001b[0;34m(\u001b[0m\u001b[0mself\u001b[0m\u001b[0;34m,\u001b[0m \u001b[0;34m'IntensityRatio'\u001b[0m\u001b[0;34m)\u001b[0m\u001b[0;34m:\u001b[0m\u001b[0;34m\u001b[0m\u001b[0;34m\u001b[0m\u001b[0m\n",
      "\u001b[0;31mAttributeError\u001b[0m: 'ion' object has no attribute 'IntensityRatio'"
     ]
    }
   ],
   "source": [
    "fe14.intensityRatioSave()"
   ]
  },
  {
   "cell_type": "code",
   "execution_count": null,
   "metadata": {},
   "outputs": [],
   "source": [
    "fe14.intensityRatioSave(outFile='myratio.txt')"
   ]
  },
  {
   "cell_type": "markdown",
   "metadata": {},
   "source": [
    "saves the ratio to the ascii file 'myratio.txt'"
   ]
  },
  {
   "cell_type": "markdown",
   "metadata": {},
   "source": [
    "The role of the electron density in line intensities\n",
    "----------------------------------------------------"
   ]
  },
  {
   "cell_type": "code",
   "execution_count": 19,
   "metadata": {},
   "outputs": [],
   "source": [
    "temp = 2.e+6\n",
    "dens = 10.**(6. + 0.1*np.arange(61))\n",
    "fe14 = ch.ion('fe_14', temp, dens)\n",
    "fe14.popPlot()"
   ]
  },
  {
   "cell_type": "markdown",
   "metadata": {},
   "source": [
    "a plot of the population of the top 10 levels is produced as a function of the electron density"
   ]
  },
  {
   "cell_type": "code",
   "execution_count": 20,
   "metadata": {},
   "outputs": [
    {
     "name": "stdout",
     "output_type": "stream",
     "text": [
      " ndens =    61 ntemp =     1\n",
      " maxWvl = 211.317\n",
      " no numerator lines were selected\n"
     ]
    }
   ],
   "source": [
    "fe14.intensityRatio(wvlRange=[210.,220.])"
   ]
  },
  {
   "cell_type": "markdown",
   "metadata": {},
   "source": [
    "to obtain ratios of lines widely separated in wavelength, the **wvlRanges** keyword can be used"
   ]
  },
  {
   "cell_type": "code",
   "execution_count": 21,
   "metadata": {},
   "outputs": [
    {
     "name": "stdout",
     "output_type": "stream",
     "text": [
      " ndens =     1 ntemp =    21\n",
      " maxWvl = 195.119\n",
      "    6.31e+05      6.31e+06 \n",
      " no numerator lines were selected\n"
     ]
    }
   ],
   "source": [
    "temp = 10.**(5.8 + 0.05*np.arange(21.))\n",
    "edens = 1.e+9\n",
    "fe12 = ch.ion('fe_12', temperature=temp, eDensity=edens)\n",
    "fe12.intensityRatio(wvlRanges=[[190.,200.],[1240.,1250.]])"
   ]
  },
  {
   "cell_type": "markdown",
   "metadata": {},
   "source": [
    "the most recently calculated intensity ratio is stored in fe14.IntensityRatio, with the following keys:"
   ]
  },
  {
   "cell_type": "code",
   "execution_count": 22,
   "metadata": {},
   "outputs": [
    {
     "ename": "AttributeError",
     "evalue": "'ion' object has no attribute 'IntensityRatio'",
     "output_type": "error",
     "traceback": [
      "\u001b[0;31m---------------------------------------------------------------------------\u001b[0m",
      "\u001b[0;31mAttributeError\u001b[0m                            Traceback (most recent call last)",
      "\u001b[0;32m<ipython-input-22-9d6981c46cca>\u001b[0m in \u001b[0;36m<module>\u001b[0;34m\u001b[0m\n\u001b[0;32m----> 1\u001b[0;31m \u001b[0;32mfor\u001b[0m \u001b[0makey\u001b[0m \u001b[0;32min\u001b[0m \u001b[0msorted\u001b[0m\u001b[0;34m(\u001b[0m\u001b[0mfe14\u001b[0m\u001b[0;34m.\u001b[0m\u001b[0mIntensityRatio\u001b[0m\u001b[0;34m)\u001b[0m\u001b[0;34m:\u001b[0m\u001b[0;34m\u001b[0m\u001b[0;34m\u001b[0m\u001b[0m\n\u001b[0m\u001b[1;32m      2\u001b[0m     \u001b[0mprint\u001b[0m\u001b[0;34m(\u001b[0m\u001b[0;34m'%10s'\u001b[0m\u001b[0;34m%\u001b[0m\u001b[0;34m(\u001b[0m\u001b[0makey\u001b[0m\u001b[0;34m)\u001b[0m\u001b[0;34m)\u001b[0m\u001b[0;34m\u001b[0m\u001b[0;34m\u001b[0m\u001b[0m\n",
      "\u001b[0;31mAttributeError\u001b[0m: 'ion' object has no attribute 'IntensityRatio'"
     ]
    }
   ],
   "source": [
    "for akey in sorted(fe14.IntensityRatio):\n",
    "    print('%10s'%(akey))"
   ]
  },
  {
   "cell_type": "markdown",
   "metadata": {},
   "source": [
    "G(n,T) function or G(T)\n",
    "=======================\n",
    "\n",
    "When G(n,T), for specific spectral line, is multiplied by the line of sight **emission measure**, $\\int$ n$_e$ n_$H$ d $\\ell$, it provides the predicted value of the line intensity in units of erg cm$^{-2}$ s$^{-1}$ sr$^{-1}$, if the value for **flux** in the** Defaults** is set to **energy** (the default value).  If **flux** is set to photon, the intensity is given in units of\n",
    "\n",
    "\n",
    "photons cm$^{-2}$ s$^{-1}$ sr$^{-1}$.\n",
    "\n",
    "A **chiantirc** file is included with the ChiantiPy distribution. If it is placed in $HOME/.chianti it will be read when ChiantiPy is initiated.  Editing this file allows you to specify the values of **flux** that you want and other things such as the set of elemental abundances and the ionization equilibrium."
   ]
  },
  {
   "cell_type": "code",
   "execution_count": 23,
   "metadata": {},
   "outputs": [],
   "source": [
    "temp = 10.**(5.8 + 0.05*np.arange(21.))\n",
    "dens = 1.e+9\n",
    "fe14 = ch.ion('fe_14', temp, dens)"
   ]
  },
  {
   "cell_type": "code",
   "execution_count": 24,
   "metadata": {},
   "outputs": [
    {
     "name": "stdout",
     "output_type": "stream",
     "text": [
      " ndens =     1 ntemp =    21\n"
     ]
    },
    {
     "name": "stderr",
     "output_type": "stream",
     "text": [
      "/home/suchanek/anaconda3/envs/mira/lib/python3.6/site-packages/ChiantiPy-0.8.7-py3.6.egg/ChiantiPy/core/Ion.py:2951: UserWarning: Data has no positive values, and therefore cannot be log-scaled.\n",
      "  plt.loglog(xvalues,gofnt)\n"
     ]
    },
    {
     "ename": "IndexError",
     "evalue": "index 0 is out of bounds for axis 0 with size 0",
     "output_type": "error",
     "traceback": [
      "\u001b[0;31m---------------------------------------------------------------------------\u001b[0m",
      "\u001b[0;31mIndexError\u001b[0m                                Traceback (most recent call last)",
      "\u001b[0;32m<ipython-input-24-dd0899bc77eb>\u001b[0m in \u001b[0;36m<module>\u001b[0;34m\u001b[0m\n\u001b[0;32m----> 1\u001b[0;31m \u001b[0mfe14\u001b[0m\u001b[0;34m.\u001b[0m\u001b[0mgofnt\u001b[0m\u001b[0;34m(\u001b[0m\u001b[0mwvlRange\u001b[0m\u001b[0;34m=\u001b[0m\u001b[0;34m[\u001b[0m\u001b[0;36m210.\u001b[0m\u001b[0;34m,\u001b[0m \u001b[0;36m220.\u001b[0m\u001b[0;34m]\u001b[0m\u001b[0;34m,\u001b[0m\u001b[0mtop\u001b[0m\u001b[0;34m=\u001b[0m\u001b[0;36m5\u001b[0m\u001b[0;34m)\u001b[0m\u001b[0;34m\u001b[0m\u001b[0;34m\u001b[0m\u001b[0m\n\u001b[0m",
      "\u001b[0;32m~/anaconda3/envs/mira/lib/python3.6/site-packages/ChiantiPy-0.8.7-py3.6.egg/ChiantiPy/core/Ion.py\u001b[0m in \u001b[0;36mgofnt\u001b[0;34m(self, wvlRange, top, verbose, plot)\u001b[0m\n\u001b[1;32m   2953\u001b[0m             \u001b[0mplt\u001b[0m\u001b[0;34m.\u001b[0m\u001b[0mxlabel\u001b[0m\u001b[0;34m(\u001b[0m\u001b[0mxlabel\u001b[0m\u001b[0;34m,\u001b[0m\u001b[0mfontsize\u001b[0m\u001b[0;34m=\u001b[0m\u001b[0mfontsize\u001b[0m\u001b[0;34m)\u001b[0m\u001b[0;34m\u001b[0m\u001b[0;34m\u001b[0m\u001b[0m\n\u001b[1;32m   2954\u001b[0m             \u001b[0mplt\u001b[0m\u001b[0;34m.\u001b[0m\u001b[0mylabel\u001b[0m\u001b[0;34m(\u001b[0m\u001b[0;34m'Gofnt'\u001b[0m\u001b[0;34m,\u001b[0m\u001b[0mfontsize\u001b[0m\u001b[0;34m=\u001b[0m\u001b[0mfontsize\u001b[0m\u001b[0;34m)\u001b[0m\u001b[0;34m\u001b[0m\u001b[0;34m\u001b[0m\u001b[0m\n\u001b[0;32m-> 2955\u001b[0;31m             \u001b[0mnewTitle\u001b[0m \u001b[0;34m=\u001b[0m \u001b[0;34m'%9s'\u001b[0m\u001b[0;34m%\u001b[0m\u001b[0;34m(\u001b[0m\u001b[0mself\u001b[0m\u001b[0;34m.\u001b[0m\u001b[0mSpectroscopic\u001b[0m\u001b[0;34m)\u001b[0m \u001b[0;34m+\u001b[0m \u001b[0;34m'%12.3f %4i %4i %s - %s'\u001b[0m\u001b[0;34m%\u001b[0m\u001b[0;34m(\u001b[0m\u001b[0mwvl\u001b[0m\u001b[0;34m[\u001b[0m\u001b[0mg_line\u001b[0m\u001b[0;34m[\u001b[0m\u001b[0;36m0\u001b[0m\u001b[0;34m]\u001b[0m\u001b[0;34m]\u001b[0m\u001b[0;34m,\u001b[0m \u001b[0mlvl1\u001b[0m\u001b[0;34m[\u001b[0m\u001b[0mg_line\u001b[0m\u001b[0;34m[\u001b[0m\u001b[0;36m0\u001b[0m\u001b[0;34m]\u001b[0m\u001b[0;34m]\u001b[0m\u001b[0;34m,\u001b[0m \u001b[0mlvl2\u001b[0m\u001b[0;34m[\u001b[0m\u001b[0mg_line\u001b[0m\u001b[0;34m[\u001b[0m\u001b[0;36m0\u001b[0m\u001b[0;34m]\u001b[0m\u001b[0;34m]\u001b[0m\u001b[0;34m,\u001b[0m \u001b[0mpretty1\u001b[0m\u001b[0;34m[\u001b[0m\u001b[0mg_line\u001b[0m\u001b[0;34m[\u001b[0m\u001b[0;36m0\u001b[0m\u001b[0;34m]\u001b[0m\u001b[0;34m]\u001b[0m\u001b[0;34m,\u001b[0m \u001b[0mpretty2\u001b[0m\u001b[0;34m[\u001b[0m\u001b[0mg_line\u001b[0m\u001b[0;34m[\u001b[0m\u001b[0;36m0\u001b[0m\u001b[0;34m]\u001b[0m\u001b[0;34m]\u001b[0m\u001b[0;34m)\u001b[0m\u001b[0;34m\u001b[0m\u001b[0;34m\u001b[0m\u001b[0m\n\u001b[0m\u001b[1;32m   2956\u001b[0m             \u001b[0;32mif\u001b[0m \u001b[0mlen\u001b[0m\u001b[0;34m(\u001b[0m\u001b[0mg_line\u001b[0m\u001b[0;34m)\u001b[0m \u001b[0;34m>\u001b[0m \u001b[0;36m1\u001b[0m\u001b[0;34m:\u001b[0m\u001b[0;34m\u001b[0m\u001b[0;34m\u001b[0m\u001b[0m\n\u001b[1;32m   2957\u001b[0m                 \u001b[0mnewTitle\u001b[0m \u001b[0;34m+=\u001b[0m \u001b[0;34m'\\n'\u001b[0m\u001b[0;34m\u001b[0m\u001b[0;34m\u001b[0m\u001b[0m\n",
      "\u001b[0;31mIndexError\u001b[0m: index 0 is out of bounds for axis 0 with size 0"
     ]
    }
   ],
   "source": [
    "fe14.gofnt(wvlRange=[210., 220.],top=5)"
   ]
  },
  {
   "cell_type": "markdown",
   "metadata": {},
   "source": [
    "this brings up a plot of relative line ratios vs temperature and a single selection widget, similar to the intensityRatio process.  Multiple lines can be selected with the *control* key and their G(T) functions will summed."
   ]
  },
  {
   "cell_type": "markdown",
   "metadata": {},
   "source": [
    "The **g(n,T)** calculation is stored in the **Gofnt** dictionary, with keys"
   ]
  },
  {
   "cell_type": "code",
   "execution_count": 25,
   "metadata": {},
   "outputs": [
    {
     "data": {
      "text/plain": [
       "['eDensity', 'gofnt', 'index', 'temperature', 'wvl']"
      ]
     },
     "execution_count": 25,
     "metadata": {},
     "output_type": "execute_result"
    }
   ],
   "source": [
    "sorted(fe14.Gofnt.keys())"
   ]
  },
  {
   "cell_type": "code",
   "execution_count": 26,
   "metadata": {},
   "outputs": [
    {
     "data": {
      "text/plain": [
       "array([], dtype=float64)"
      ]
     },
     "execution_count": 26,
     "metadata": {},
     "output_type": "execute_result"
    }
   ],
   "source": [
    "fe14.Gofnt['wvl']"
   ]
  },
  {
   "cell_type": "markdown",
   "metadata": {},
   "source": [
    "while the is a fairly straightforward way to get a G(T) function, it is not very practical to use for a more than a handful of lines.  For if the fe_14 line at 211.3172 is in a list of lines to be analyzed, a more practical way is the following"
   ]
  },
  {
   "cell_type": "code",
   "execution_count": 27,
   "metadata": {},
   "outputs": [
    {
     "name": "stdout",
     "output_type": "stream",
     "text": [
      " wvl =    211.317 \n"
     ]
    }
   ],
   "source": [
    "fe14.intensity()\n",
    "dist = np.abs(np.asarray(fe14.Intensity['wvl']) - 211.3172)\n",
    "idx = np.argmin(dist)\n",
    "print(' wvl = %10.3f '%(fe14.Intensity['wvl'][idx]))\n"
   ]
  },
  {
   "cell_type": "code",
   "execution_count": 28,
   "metadata": {},
   "outputs": [
    {
     "name": "stderr",
     "output_type": "stream",
     "text": [
      "/home/suchanek/anaconda3/envs/mira/lib/python3.6/site-packages/ipykernel_launcher.py:1: UserWarning: Data has no positive values, and therefore cannot be log-scaled.\n",
      "  \"\"\"Entry point for launching an IPython kernel.\n"
     ]
    },
    {
     "data": {
      "text/plain": [
       "[<matplotlib.lines.Line2D at 0x7ff01dc7d240>]"
      ]
     },
     "execution_count": 28,
     "metadata": {},
     "output_type": "execute_result"
    }
   ],
   "source": [
    "plt.loglog(temp,fe14.Intensity['intensity'][:,idx])"
   ]
  },
  {
   "cell_type": "markdown",
   "metadata": {},
   "source": [
    "once the axes are properly scaled, this produces the same values as fe14.Gofnt['gofnt']"
   ]
  },
  {
   "cell_type": "markdown",
   "metadata": {},
   "source": [
    "Spectrum of a single ion\n",
    "========================"
   ]
  },
  {
   "cell_type": "code",
   "execution_count": 29,
   "metadata": {},
   "outputs": [
    {
     "data": {
      "text/plain": [
       "[<matplotlib.lines.Line2D at 0x7ff01dd24128>]"
      ]
     },
     "execution_count": 29,
     "metadata": {},
     "output_type": "execute_result"
    }
   ],
   "source": [
    "fe14 = ch.ion('fe_14', temperature = 2.e+6, eDensity = 1.e+9, em=1.e+27)\n",
    "wvl = 200. + 0.125*np.arange(801)\n",
    "fe14.spectrum(wvl)\n",
    "plt.figure()\n",
    "plt.plot(wvl, fe14.Spectrum['intensity'])"
   ]
  },
  {
   "cell_type": "markdown",
   "metadata": {},
   "source": [
    "this calculates the spectrum of fe_14 over the specified wavelength range and filter it with the default filter which is a gaussian (filters.gaussianR) with a ‘resolving power’ of 1000 which gives a gaussian width of wvl/1000.  Other filters available in chianti.filters include a boxcar filter and a gaussian filter where the gaussian width can be specified directly\n",
    "\n",
    "the units of the vertical axis is erg cm$^{-2}$ s$^{-1}$ sr$^{-1}$ $\\mathring A$$^{-1}$ since the value of the emission measure **em** has been specified"
   ]
  },
  {
   "cell_type": "code",
   "execution_count": 30,
   "metadata": {},
   "outputs": [
    {
     "name": "stdout",
     "output_type": "stream",
     "text": [
      " Emission Measure =     1.00e+27\n"
     ]
    }
   ],
   "source": [
    "if hasattr(fe14,'Em'):\n",
    "    print(' Emission Measure = %12.2e'%(fe14.Em))\n",
    "else:\n",
    "    print(' the value for the emission measure is unspecified')"
   ]
  },
  {
   "cell_type": "code",
   "execution_count": 31,
   "metadata": {},
   "outputs": [
    {
     "data": {
      "text/plain": [
       "[<matplotlib.lines.Line2D at 0x7ff01da966a0>]"
      ]
     },
     "execution_count": 31,
     "metadata": {},
     "output_type": "execute_result"
    }
   ],
   "source": [
    "fe14.spectrum(wvl,filter=(chfilters.gaussian,.4))\n",
    "plt.figure()\n",
    "plt.plot(wvl, fe14.Spectrum['intensity'])"
   ]
  },
  {
   "cell_type": "markdown",
   "metadata": {},
   "source": [
    "calculates the spectrum of fe_14 for a gaussian filter with a width of 0.4 Angstroms.  The current value of the spectrum is kept in fe14.Spectrum with the following keys:"
   ]
  },
  {
   "cell_type": "code",
   "execution_count": 32,
   "metadata": {},
   "outputs": [
    {
     "name": "stdout",
     "output_type": "stream",
     "text": [
      "   allLines\n",
      "         em\n",
      "     filter\n",
      " filterWidth\n",
      "  intensity\n",
      "        wvl\n",
      "     xlabel\n",
      "     ylabel\n"
     ]
    }
   ],
   "source": [
    "for akey in sorted(fe14.Spectrum.keys()):\n",
    "    print(' %10s'%(akey))"
   ]
  },
  {
   "cell_type": "code",
   "execution_count": 33,
   "metadata": {},
   "outputs": [
    {
     "name": "stdout",
     "output_type": "stream",
     "text": [
      " Emission Measure =     1.00e+27\n"
     ]
    }
   ],
   "source": [
    "if hasattr(fe14,'Em'):\n",
    "    print(' Emission Measure = %12.2e'%(fe14.Em))\n",
    "else:\n",
    "    print(' the value for the emission measure is unspecified')"
   ]
  },
  {
   "cell_type": "markdown",
   "metadata": {},
   "source": [
    "Here, the previously value of the emission measure has been used"
   ]
  },
  {
   "cell_type": "code",
   "execution_count": 34,
   "metadata": {},
   "outputs": [
    {
     "data": {
      "text/plain": [
       "Text(0, 0.5, 'erg cm$^{-2}$ s$^{-1}$ sr$^{-1} \\\\AA^{-1}$ ')"
      ]
     },
     "execution_count": 34,
     "metadata": {},
     "output_type": "execute_result"
    }
   ],
   "source": [
    "plt.figure()\n",
    "plt.plot(wvl,fe14.Spectrum['intensity'])\n",
    "plt.xlabel(fe14.Spectrum['xlabel'])\n",
    "plt.ylabel(fe14.Spectrum['ylabel'])"
   ]
  },
  {
   "cell_type": "markdown",
   "metadata": {},
   "source": [
    "In ChiantiPy 0.6, the **label** keyword has been added to the ion.spectrum method, and also to the other various spectral classes.  This allows several spectral calculations for different filters to be saved and compared"
   ]
  },
  {
   "cell_type": "code",
   "execution_count": 35,
   "metadata": {},
   "outputs": [],
   "source": [
    "temp = 10.**(5.8 + 0.1*np.arange(11.))\n",
    "dens = 1.e+9\n",
    "emeas = np.ones(11,'float64')*1.e+27\n",
    "fe14 = ch.ion('fe_14', temp, dens, em=emeas)"
   ]
  },
  {
   "cell_type": "code",
   "execution_count": 36,
   "metadata": {},
   "outputs": [],
   "source": [
    "wvl = 200. + 0.125*np.arange(801)\n",
    "fe14.spectrum(wvl,filter=(chfilters.gaussian,.4),label='.4')\n",
    "fe14.spectrum(wvl,filter=(chfilters.gaussian,1.),label='1.')"
   ]
  },
  {
   "cell_type": "code",
   "execution_count": 37,
   "metadata": {},
   "outputs": [
    {
     "name": "stdout",
     "output_type": "stream",
     "text": [
      "         .4\n",
      "         1.\n"
     ]
    }
   ],
   "source": [
    "for akey in sorted(fe14.Spectrum.keys()):\n",
    "    print(' %10s'%(akey))"
   ]
  },
  {
   "cell_type": "code",
   "execution_count": 38,
   "metadata": {},
   "outputs": [
    {
     "name": "stdout",
     "output_type": "stream",
     "text": [
      "   allLines\n",
      "         em\n",
      "     filter\n",
      " filterWidth\n",
      "  intensity\n",
      "        wvl\n",
      "     xlabel\n",
      "     ylabel\n"
     ]
    }
   ],
   "source": [
    "for akey in sorted(fe14.Spectrum['.4'].keys()):\n",
    "    print(' %10s'%(akey))"
   ]
  },
  {
   "cell_type": "code",
   "execution_count": 39,
   "metadata": {},
   "outputs": [
    {
     "data": {
      "text/plain": [
       "<matplotlib.legend.Legend at 0x7ff024350a90>"
      ]
     },
     "execution_count": 39,
     "metadata": {},
     "output_type": "execute_result"
    }
   ],
   "source": [
    "plt.figure()\n",
    "plt.plot(wvl,fe14.Spectrum['.4']['intensity'][5],label='0.4')\n",
    "plt.plot(wvl,fe14.Spectrum['1.']['intensity'][5],'-r', label = '1.0')\n",
    "plt.xlabel(fe14.Spectrum['.4']['xlabel'])\n",
    "plt.ylabel(fe14.Spectrum['.4']['ylabel'])\n",
    "plt.legend(loc='upper right')"
   ]
  },
  {
   "cell_type": "markdown",
   "metadata": {},
   "source": [
    "Free-free and free-bound continuum\n",
    "==================================\n",
    "\n",
    "The module continuum provides the ability to calculate the free-free, free-bound continuum spectrum for a large number of individual ions.  The two-photon continuum is produced only by the hydrogen-like and helium-like ions"
   ]
  },
  {
   "cell_type": "code",
   "execution_count": 40,
   "metadata": {},
   "outputs": [
    {
     "data": {
      "text/plain": [
       "<matplotlib.legend.Legend at 0x7ff01d0f2240>"
      ]
     },
     "execution_count": 40,
     "metadata": {},
     "output_type": "execute_result"
    }
   ],
   "source": [
    "temperature = [2.e+7,3.e+7]\n",
    "em = [2.e+27,1.e+27]\n",
    "c = ch.continuum('fe_25', temperature = temperature, em=em)\n",
    "wvl = 1. + 0.002*np.arange(4501)\n",
    "c.freeFree(wvl)\n",
    "plt.figure()\n",
    "plt.plot(wvl, c.FreeFree['intensity'][0],label='ff')\n",
    "c.freeBound(wvl)\n",
    "plt.plot(wvl, c.FreeBound['intensity'][0],label='fb')\n",
    "fe25=ch.ion('fe_25',temperature,1.e+9,em=em)\n",
    "fe25.twoPhoton(wvl)\n",
    "plt.plot(wvl,fe25.TwoPhoton['intensity'][0],label='2 photon')\n",
    "plt.legend(loc='upper right')"
   ]
  },
  {
   "cell_type": "markdown",
   "metadata": {},
   "source": [
    "In the continuum calculations, Fe XXV in this case, is the target ion for the free-free calculation. For the free-bound calculation, specified ion is also the target ion. In this case, the radiative recombination spectrum of Fe XXV recombining to form Fe XXIV is returned.  **Note** this will bring up an error message.  Things are probably OK for the present."
   ]
  },
  {
   "cell_type": "code",
   "execution_count": 41,
   "metadata": {},
   "outputs": [
    {
     "name": "stdout",
     "output_type": "stream",
     "text": [
      "  abundfile - sun_photospheric_2015_scott\n",
      "  ioneqfile - chianti\n",
      " wavelength - angstrom\n",
      "       flux - energy\n",
      "        gui - False\n"
     ]
    }
   ],
   "source": [
    "for akey in  ChiantiPy.tools.data.Defaults.keys():\n",
    "   print(' %10s - %s'%(akey,ChiantiPy.tools.data.Defaults[akey]))"
   ]
  },
  {
   "cell_type": "markdown",
   "metadata": {},
   "source": [
    "The multi-ion class bunch\n",
    "========================="
   ]
  },
  {
   "cell_type": "markdown",
   "metadata": {},
   "source": [
    "The multi-ion class **bunch** [new in v0.6] inherits a number of the same methods inherited by the ion class, for example *intensityList*, *intensityRatio*, and *intensityRatioSave*. As a short demonstration of its usefulness, Widing and Feldman (1989, ApJ, 344, 1046) used line ratios of Mg VI and Ne VI as diagnostics of elemental abundance variations in the solar atmosphere. For that to be accurate, it is necessary that the lines of the two ions have the same temperature response."
   ]
  },
  {
   "cell_type": "code",
   "execution_count": 42,
   "metadata": {},
   "outputs": [
    {
     "ename": "TypeError",
     "evalue": "__init__() got an unexpected keyword argument 'abundanceName'",
     "output_type": "error",
     "traceback": [
      "\u001b[0;31m---------------------------------------------------------------------------\u001b[0m",
      "\u001b[0;31mTypeError\u001b[0m                                 Traceback (most recent call last)",
      "\u001b[0;32m<ipython-input-42-28a5af8423bb>\u001b[0m in \u001b[0;36m<module>\u001b[0;34m\u001b[0m\n\u001b[1;32m      1\u001b[0m \u001b[0mt\u001b[0m \u001b[0;34m=\u001b[0m \u001b[0;36m10.\u001b[0m\u001b[0;34m**\u001b[0m\u001b[0;34m(\u001b[0m\u001b[0;36m5.0\u001b[0m\u001b[0;34m+\u001b[0m\u001b[0;36m0.1\u001b[0m\u001b[0;34m*\u001b[0m\u001b[0mnp\u001b[0m\u001b[0;34m.\u001b[0m\u001b[0marange\u001b[0m\u001b[0;34m(\u001b[0m\u001b[0;36m11\u001b[0m\u001b[0;34m)\u001b[0m\u001b[0;34m)\u001b[0m\u001b[0;34m\u001b[0m\u001b[0;34m\u001b[0m\u001b[0m\n\u001b[0;32m----> 2\u001b[0;31m \u001b[0mbnch\u001b[0m\u001b[0;34m=\u001b[0m\u001b[0mch\u001b[0m\u001b[0;34m.\u001b[0m\u001b[0mbunch\u001b[0m\u001b[0;34m(\u001b[0m\u001b[0mt\u001b[0m\u001b[0;34m,\u001b[0m\u001b[0;36m1.e+9\u001b[0m\u001b[0;34m,\u001b[0m\u001b[0mwvlRange\u001b[0m\u001b[0;34m=\u001b[0m\u001b[0;34m[\u001b[0m\u001b[0;36m300.\u001b[0m\u001b[0;34m,\u001b[0m\u001b[0;36m500.\u001b[0m\u001b[0;34m]\u001b[0m\u001b[0;34m,\u001b[0m\u001b[0mionList\u001b[0m\u001b[0;34m=\u001b[0m\u001b[0;34m[\u001b[0m\u001b[0;34m'ne_6'\u001b[0m\u001b[0;34m,\u001b[0m\u001b[0;34m'mg_6'\u001b[0m\u001b[0;34m]\u001b[0m\u001b[0;34m,\u001b[0m\u001b[0mabundanceName\u001b[0m\u001b[0;34m=\u001b[0m\u001b[0;34m'unity'\u001b[0m\u001b[0;34m)\u001b[0m\u001b[0;34m\u001b[0m\u001b[0;34m\u001b[0m\u001b[0m\n\u001b[0m\u001b[1;32m      3\u001b[0m \u001b[0mbnch\u001b[0m\u001b[0;34m.\u001b[0m\u001b[0mintensityRatio\u001b[0m\u001b[0;34m(\u001b[0m\u001b[0mwvlRange\u001b[0m\u001b[0;34m=\u001b[0m\u001b[0;34m[\u001b[0m\u001b[0;36m395.\u001b[0m\u001b[0;34m,\u001b[0m\u001b[0;36m405.\u001b[0m\u001b[0;34m]\u001b[0m\u001b[0;34m,\u001b[0m\u001b[0mtop\u001b[0m\u001b[0;34m=\u001b[0m\u001b[0;36m6\u001b[0m\u001b[0;34m)\u001b[0m\u001b[0;34m\u001b[0m\u001b[0;34m\u001b[0m\u001b[0m\n",
      "\u001b[0;31mTypeError\u001b[0m: __init__() got an unexpected keyword argument 'abundanceName'"
     ]
    }
   ],
   "source": [
    "t = 10.**(5.0+0.1*np.arange(11))\n",
    "bnch=ch.bunch(t,1.e+9,wvlRange=[300.,500.],ionList=['ne_6','mg_6'],abundanceName='unity')\n",
    "bnch.intensityRatio(wvlRange=[395.,405.],top=6)"
   ]
  },
  {
   "cell_type": "markdown",
   "metadata": {},
   "source": [
    "there seems to be a significant temperature dependence to the ratio, even though both are formed near 4.e+5 K."
   ]
  },
  {
   "cell_type": "markdown",
   "metadata": {},
   "source": [
    "A new keyword argument **keepIons** has been added in v0.6 to the bunch and the 3 spectrum classes."
   ]
  },
  {
   "cell_type": "code",
   "execution_count": 43,
   "metadata": {},
   "outputs": [],
   "source": [
    "dwvl = 0.01\n",
    "nwvl = (406.-394.)/dwvl\n",
    "wvl = 394. + dwvl*np.arange(nwvl+1)"
   ]
  },
  {
   "cell_type": "code",
   "execution_count": 44,
   "metadata": {},
   "outputs": [
    {
     "name": "stdout",
     "output_type": "stream",
     "text": [
      " elapsed seconds =       16.000\n",
      "mg_11 no lines in wavelength range       394.00 -       406.00\n",
      "mg_11d no lines in wavelength range       394.00 -       406.00\n",
      "mg_12 no lines in wavelength range       394.00 -       406.00\n",
      "mg_2 no lines in wavelength range       394.00 -       406.00\n",
      "mg_7 no lines in wavelength range       394.00 -       406.00\n",
      "ne_3 no lines in wavelength range       394.00 -       406.00\n",
      "ne_4 no lines in wavelength range       394.00 -       406.00\n",
      "ne_7 no lines in wavelength range       394.00 -       406.00\n",
      "ne_9 no lines in wavelength range       394.00 -       406.00\n",
      "ne_9d no lines in wavelength range       394.00 -       406.00\n",
      " elapsed seconds =    0.000e+00\n"
     ]
    }
   ],
   "source": [
    "bnch2=ch.bunch(t, 1.e+9, wvlRange=[wvl.min(),wvl.max()], elementList=['ne','mg'], keepIons=1,em=1.e+27)\n",
    "bnch2.convolve(wvl,filter=(chfilters.gaussian,5.*dwvl))"
   ]
  },
  {
   "cell_type": "code",
   "execution_count": 45,
   "metadata": {},
   "outputs": [
    {
     "data": {
      "text/plain": [
       "Text(0.5, 1, 'Temperature =   3.98e+05 for t[6]')"
      ]
     },
     "execution_count": 45,
     "metadata": {},
     "output_type": "execute_result"
    }
   ],
   "source": [
    "plt.plot(wvl, bnch2.Spectrum['intensity'][6],label='Total')\n",
    "plt.title('Temperature = %10.2e for t[6]'%(t[6]))"
   ]
  },
  {
   "cell_type": "code",
   "execution_count": 46,
   "metadata": {},
   "outputs": [
    {
     "name": "stdout",
     "output_type": "stream",
     "text": [
      "mg_10\n",
      "mg_11\n",
      "mg_11d\n",
      "mg_12\n",
      "mg_2\n",
      "mg_3\n",
      "mg_4\n",
      "mg_5\n",
      "mg_6\n",
      "mg_7\n",
      "mg_8\n",
      "mg_9\n",
      "ne_10\n",
      "ne_2\n",
      "ne_3\n",
      "ne_4\n",
      "ne_5\n",
      "ne_6\n",
      "ne_7\n",
      "ne_8\n",
      "ne_9\n",
      "ne_9d\n"
     ]
    }
   ],
   "source": [
    "for one in sorted(bnch2.IonInstances.keys()):\n",
    "    print('%s'%(one))"
   ]
  },
  {
   "cell_type": "code",
   "execution_count": 47,
   "metadata": {},
   "outputs": [
    {
     "data": {
      "text/plain": [
       "[<matplotlib.lines.Line2D at 0x7ff01c2cfb00>]"
      ]
     },
     "execution_count": 47,
     "metadata": {},
     "output_type": "execute_result"
    }
   ],
   "source": [
    "plt.plot(wvl,bnch2.IonInstances['mg_6'].Spectrum['intensity'][6],'r',label='mg_6')"
   ]
  },
  {
   "cell_type": "code",
   "execution_count": 48,
   "metadata": {},
   "outputs": [
    {
     "data": {
      "text/plain": [
       "<matplotlib.legend.Legend at 0x7ff01d6ab940>"
      ]
     },
     "execution_count": 48,
     "metadata": {},
     "output_type": "execute_result"
    }
   ],
   "source": [
    "plt.legend(loc='upper left')"
   ]
  },
  {
   "cell_type": "markdown",
   "metadata": {},
   "source": [
    "Spectra of multiple ions and continuum\n",
    "======================================"
   ]
  },
  {
   "cell_type": "markdown",
   "metadata": {},
   "source": [
    "The spectrum for a selection of all of the ions in the CHIANTI database can also be calculated. There are 3 spectral classes.\n",
    "\n",
    "1.  spectrum - the single processor implementation that can be used anywhere\n",
    "2.  mspectrum - uses the Python multiprocessing class and **cannot** be used in a IPython qtconsole or notebook\n",
    "3.  ipymspectrum [new in v0.6] - uses the IPython parallel class and can be used in a IPython qtconsole or notebook\n",
    "\n",
    "\n",
    "spectrum, mspectrum and ipymspectrum can all be instantiated with the same arguments and keyword arguments.  Most of the examples below use the ipymspectrum class for speed."
   ]
  },
  {
   "cell_type": "markdown",
   "metadata": {},
   "source": [
    "The single processor spectrum class\n",
    "-----------------------------------"
   ]
  },
  {
   "cell_type": "code",
   "execution_count": null,
   "metadata": {},
   "outputs": [],
   "source": [
    "temp = [1.e+6, 2.e+6]\n",
    "dens = 1.e+9\n",
    "wvl = 200. + 0.05*np.arange(2001)\n",
    "emeasure = [1.e+27 ,1.e+27]\n",
    "s = ch.spectrum(temp, dens, wvl, filter = (chfilters.gaussian,.2), em = emeasure, doContinuum=0, minAbund=1.e-5)\n",
    "plt.figure()\n",
    "plt.subplot(311)\n",
    "plt.plot(wvl, s.Spectrum['integrated'])\n",
    "plt.title('integrated')\n",
    "plt.subplot(312)\n",
    "plt.plot(wvl, s.Spectrum['intensity'][0])\n",
    "plt.subplot(313)\n",
    "plt.plot(wvl, s.Spectrum['intensity'][1])"
   ]
  },
  {
   "cell_type": "markdown",
   "metadata": {},
   "source": [
    "this may raise an error message regarding /usr/lib64/python2.7/site-packages/matplotlib/tri/triangulation.py.  At present, this does not seem to be a problem"
   ]
  },
  {
   "cell_type": "markdown",
   "metadata": {},
   "source": [
    "The multiple processor ipymspectrum class\n",
    "-----------------------------------------"
   ]
  },
  {
   "cell_type": "markdown",
   "metadata": {},
   "source": [
    "next, we will use the ipymspectrum class.  First, it is necessary to start up the cluster.  In some shell\n",
    "\n",
    "> ipcluster start --n=4\n",
    "\n",
    "this will start 4 engines if you have 4 cores.  It will only start an many engines as there are cores available"
   ]
  },
  {
   "cell_type": "code",
   "execution_count": 12,
   "metadata": {},
   "outputs": [],
   "source": [
    "temp = [1.e+6, 2.e+6]\n",
    "dens = 1.e+9\n",
    "wvl = 200. + 0.05*np.arange(2001)\n",
    "emeasure = [1.e+27 ,1.e+27]"
   ]
  },
  {
   "cell_type": "markdown",
   "metadata": {},
   "source": [
    "the following code may raise some RuntimeWarnings like\n",
    "\n",
    "IPython could not determine IPs ..., or \n",
    "\n",
    "Controller appears to be listening on localhost, but not on this machine ...\n",
    "\n",
    "but the code does actually run"
   ]
  },
  {
   "cell_type": "code",
   "execution_count": null,
   "metadata": {},
   "outputs": [],
   "source": [
    "s = ch.ipymspectrum(temp, dens, wvl, filter = (chfilters.gaussian,.2), em = emeasure, doContinuum=0, minAbund=1.e-5)\n",
    "plt.figure()\n",
    "plt.plot(wvl, s.Spectrum['integrated'])\n",
    "plt.title('Integrated')"
   ]
  },
  {
   "cell_type": "markdown",
   "metadata": {},
   "source": [
    "Using a 4 core processor running at about 3.5 GHz:\n",
    "* For a minAbund of 1.e-4, the spectra of 25 ions were calculated in 68 s. On a single processor it took 118 s.\n",
    "* For a minAbund of 1.e-5, then the spectra of 100 ions would be calculated in 72 s. The previous example with the single processor spectrum class took about  129 s on the same computer.\n",
    "* For a minAbund of 1.e-6, then the spectra of 170 ions would be calculated in 90 s.  On a single processor it took 183 s.\n",
    "\n",
    "Using only 3 cores:\n",
    "* For a minAbund of 1.e-5, then the spectra of 100 ions would be calculated in 73 s.\n",
    "\n",
    "Using only 2 cores:\n",
    "* For a minAbund of 1.e-5, then the spectra of 100 ions would be calculated in 88 s.\n",
    "\n",
    "Using only 1 core, with ch.spectrum:\n",
    "* For a minAbund of 1.e-5, then the spectra of 100 ions would be calculated in 133 s."
   ]
  },
  {
   "cell_type": "markdown",
   "metadata": {},
   "source": [
    "[New in version 0.6] One can also use a different abundance file than the default by specifying the abundanceName keyword. For example, abundanceName = ‘cosmic_1973_allen.abund’. If the specified file is not found in XUVTOP/abundance, then a widget will pop up and one can select the abundance file from a list.\n",
    "\n",
    "It is also possible to specify a selection of ions by means of the ionList keyword, for example, ionList=[‘fe_11’,’fe_12’,’fe_13’] or with the elementList keyword, for example, elementList=[‘mg’,’si’]\n"
   ]
  },
  {
   "cell_type": "code",
   "execution_count": null,
   "metadata": {},
   "outputs": [],
   "source": [
    "s2 = ch.ipymspectrum(temp, dens, wvl, filter = (chfilters.gaussian,.2), em = emeasure, doContinuum=0, keepIons=1, elementList=['si'], minAbund=1.e-4)\n",
    "plt.subplot(211)\n",
    "plt.plot(wvl,s2.Spectrum['intensity'][0])\n",
    "plt.ylabel(r'erg cm$^{-2}$ s$^{-1}$ sr$^{-1} \\AA^{-1}$')\n",
    "plt.subplot(212)\n",
    "plt.plot(wvl,s2.IonInstances['si_9'].Spectrum['intensity'][0])\n",
    "plt.ylabel(r'erg cm$^{-2}$ s$^{-1}$ sr$^{-1} \\AA^{-1}$')\n",
    "plt.xlabel(r'Wavelength ($\\AA$)')\n",
    "plt.title('Si IX')"
   ]
  },
  {
   "cell_type": "markdown",
   "metadata": {},
   "source": [
    "Because **keepIons** has been set, the ion instances of all of the ions are maintained in the s2.IonInstances dictionary. It has been possible to compare the spectrum of all of the ions with the spectrum of a single ion."
   ]
  },
  {
   "cell_type": "code",
   "execution_count": null,
   "metadata": {},
   "outputs": [],
   "source": [
    "temp=5.e+6\n",
    "dens=1.e+9\n",
    "dwvl = .005\n",
    "nwvl = (50. - 1.)/dwvl\n",
    "wvl=1. + dwvl*np.arange(nwvl+1)"
   ]
  },
  {
   "cell_type": "markdown",
   "metadata": {},
   "source": [
    "by setting abundanceName to 1, a widget with a list of possible abundance sets will pop up and allow you to select one.  Alternative, you can set abundanceName to the name of one of the abundance file (without the .abund suffix) and it will use that set."
   ]
  },
  {
   "cell_type": "code",
   "execution_count": null,
   "metadata": {},
   "outputs": [],
   "source": [
    "s3 = ch.ipymspectrum(temp, dens, wvl, filter = (chfilters.gaussian,5.*dwvl),doContinuum=1, em=1.e+40,minAbund=1.e-5,abundanceName=1)\n",
    "plt.figure()\n",
    "plt.plot(wvl, s3.Spectrum['intensity'])"
   ]
  },
  {
   "cell_type": "code",
   "execution_count": null,
   "metadata": {},
   "outputs": [],
   "source": [
    "print(' number of ions calculated %i '%(len(s3.IonsCalculated)))"
   ]
  },
  {
   "cell_type": "markdown",
   "metadata": {},
   "source": [
    "Since the continuum was calculated, it can be plotted separately"
   ]
  },
  {
   "cell_type": "code",
   "execution_count": null,
   "metadata": {},
   "outputs": [],
   "source": [
    "plt.figure()\n",
    "plt.plot(wvl, s3.FreeFree['intensity'],label='FF')\n",
    "plt.plot(wvl, s3.FreeBound['intensity'],label = 'FB')\n",
    "plt.plot(wvl, s3.TwoPhoton['intensity'], label = 'TP')\n",
    "plt.plot(wvl,s3.FreeBound['intensity']+s3.FreeFree['intensity']+s3.TwoPhoton['intensity'],label='FF+FB+TP')\n",
    "plt.legend(loc='upper right')"
   ]
  },
  {
   "cell_type": "code",
   "execution_count": null,
   "metadata": {},
   "outputs": [],
   "source": [
    "temperature = 2.e+7\n",
    "density = 1.e+9\n",
    "em = 1.e+27\n",
    "wvl = 1.84 + 0.0001*np.arange(601)\n",
    "s4 = ch.ipymspectrum(temperature, density ,wvl, filter = (chfilters.gaussian,.0003), doContinuum=1, em=em, minAbund=1.e-5,verbose=0)"
   ]
  },
  {
   "cell_type": "code",
   "execution_count": null,
   "metadata": {},
   "outputs": [],
   "source": [
    "plt.figure()\n",
    "plt.plot(wvl,s4.Spectrum['intensity'])\n",
    "plt.ylabel(r'erg cm$^{-2}$ s$^{-1}$ sr$^{-1} \\AA^{-1}$')\n",
    "plt.xlabel(r'Wavelength ($\\AA$)')"
   ]
  },
  {
   "cell_type": "code",
   "execution_count": null,
   "metadata": {},
   "outputs": [],
   "source": [
    "temp = 10.**(4.+0.05*np.arange(81))\n",
    "dens = 1.e+9\n",
    "rl = ch.radLoss(temp, dens, minAbund=2.e-5)\n",
    "rl.radLossPlot()"
   ]
  },
  {
   "cell_type": "markdown",
   "metadata": {},
   "source": [
    "the radiative losses are stored in the dictionary rl.RadLoss\n",
    "\n",
    "it is also possible to set the keyword argument **abundancedName** to use different sets of abundances"
   ]
  },
  {
   "cell_type": "code",
   "execution_count": null,
   "metadata": {},
   "outputs": [],
   "source": [
    "for akey in sorted(rl.RadLoss.keys()):\n",
    "    print(' %s '%(akey))"
   ]
  },
  {
   "cell_type": "code",
   "execution_count": null,
   "metadata": {},
   "outputs": [],
   "source": []
  }
 ],
 "metadata": {
  "kernelspec": {
   "display_name": "Python 3",
   "language": "python",
   "name": "python3"
  },
  "language_info": {
   "codemirror_mode": {
    "name": "ipython",
    "version": 3
   },
   "file_extension": ".py",
   "mimetype": "text/x-python",
   "name": "python",
   "nbconvert_exporter": "python",
   "pygments_lexer": "ipython3",
   "version": "3.6.9"
  }
 },
 "nbformat": 4,
 "nbformat_minor": 1
}
