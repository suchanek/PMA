{
 "cells": [
  {
   "cell_type": "markdown",
   "metadata": {},
   "source": [
    "# Gaia Python Tutorial: Cluster Analysis - DR1 version\n",
    "*Author: Deborah Baines*\n",
    "\n",
    "*This tutorial has taken the Gaia Archive tutorial (located at the Gaia Archive, http://archives.esac.esa.int/gaia -> Help -> Tutorials -> Cluster analysis ) and adapted it to python.\n",
    "The tutorial uses the Gaia TAP+ (astroquery.gaia) module, http://astroquery.readthedocs.io/en/latest/gaia/gaia.html#module-astroquery.gaia .*"
   ]
  },
  {
   "cell_type": "markdown",
   "metadata": {},
   "source": [
    "*This tutorial is focused on a possible scientific exploration exercise for a known cluster, the Pleiades (M45), using data from the Gaia Archive.*\n",
    " \n",
    "*First, we import all the required python modules:*"
   ]
  },
  {
   "cell_type": "code",
   "execution_count": 19,
   "metadata": {},
   "outputs": [],
   "source": [
    "import astropy.units as u\n",
    "from astropy.coordinates.sky_coordinate import SkyCoord\n",
    "from astropy.units import Quantity\n",
    "from astroquery.gaia import Gaia"
   ]
  },
  {
   "cell_type": "code",
   "execution_count": 20,
   "metadata": {},
   "outputs": [],
   "source": [
    "%matplotlib inline\n",
    "import matplotlib.pyplot as plt\n",
    "import numpy as np\n",
    "\n",
    "# Suppress warnings. Comment this out if you wish to see the warning messages\n",
    "import warnings\n",
    "warnings.filterwarnings('ignore')"
   ]
  },
  {
   "cell_type": "markdown",
   "metadata": {},
   "source": [
    "*Do the following to load and look at the available Gaia table names:*"
   ]
  },
  {
   "cell_type": "code",
   "execution_count": 21,
   "metadata": {},
   "outputs": [
    {
     "name": "stdout",
     "output_type": "stream",
     "text": [
      "Retrieving tables...\n",
      "Parsing tables...\n",
      "Done.\n",
      "external.external.apassdr9\n",
      "external.external.gaiadr2_geometric_distance\n",
      "external.external.ravedr5_com\n",
      "external.external.ravedr5_dr5\n",
      "external.external.ravedr5_gra\n",
      "external.external.ravedr5_on\n",
      "public.public.hipparcos\n",
      "public.public.hipparcos_newreduction\n",
      "public.public.hubble_sc\n",
      "public.public.igsl_source\n",
      "public.public.igsl_source_catalog_ids\n",
      "public.public.tycho2\n",
      "public.public.dual\n",
      "tap_config.tap_config.coord_sys\n",
      "tap_schema.tap_schema.columns\n",
      "tap_schema.tap_schema.key_columns\n",
      "tap_schema.tap_schema.keys\n",
      "tap_schema.tap_schema.schemas\n",
      "tap_schema.tap_schema.tables\n",
      "gaiadr1.gaiadr1.aux_qso_icrf2_match\n",
      "gaiadr1.gaiadr1.ext_phot_zero_point\n",
      "gaiadr1.gaiadr1.allwise_best_neighbour\n",
      "gaiadr1.gaiadr1.allwise_neighbourhood\n",
      "gaiadr1.gaiadr1.gsc23_best_neighbour\n",
      "gaiadr1.gaiadr1.gsc23_neighbourhood\n",
      "gaiadr1.gaiadr1.ppmxl_best_neighbour\n",
      "gaiadr1.gaiadr1.ppmxl_neighbourhood\n",
      "gaiadr1.gaiadr1.sdss_dr9_best_neighbour\n",
      "gaiadr1.gaiadr1.sdss_dr9_neighbourhood\n",
      "gaiadr1.gaiadr1.tmass_best_neighbour\n",
      "gaiadr1.gaiadr1.tmass_neighbourhood\n",
      "gaiadr1.gaiadr1.ucac4_best_neighbour\n",
      "gaiadr1.gaiadr1.ucac4_neighbourhood\n",
      "gaiadr1.gaiadr1.urat1_best_neighbour\n",
      "gaiadr1.gaiadr1.urat1_neighbourhood\n",
      "gaiadr1.gaiadr1.cepheid\n",
      "gaiadr1.gaiadr1.phot_variable_time_series_gfov\n",
      "gaiadr1.gaiadr1.phot_variable_time_series_gfov_statistical_parameters\n",
      "gaiadr1.gaiadr1.rrlyrae\n",
      "gaiadr1.gaiadr1.variable_summary\n",
      "gaiadr1.gaiadr1.allwise_original_valid\n",
      "gaiadr1.gaiadr1.gsc23_original_valid\n",
      "gaiadr1.gaiadr1.ppmxl_original_valid\n",
      "gaiadr1.gaiadr1.sdssdr9_original_valid\n",
      "gaiadr1.gaiadr1.tmass_original_valid\n",
      "gaiadr1.gaiadr1.ucac4_original_valid\n",
      "gaiadr1.gaiadr1.urat1_original_valid\n",
      "gaiadr1.gaiadr1.gaia_source\n",
      "gaiadr1.gaiadr1.tgas_source\n",
      "gaiadr2.gaiadr2.aux_allwise_agn_gdr2_cross_id\n",
      "gaiadr2.gaiadr2.aux_iers_gdr2_cross_id\n",
      "gaiadr2.gaiadr2.aux_sso_orbit_residuals\n",
      "gaiadr2.gaiadr2.aux_sso_orbits\n",
      "gaiadr2.gaiadr2.dr1_neighbourhood\n",
      "gaiadr2.gaiadr2.allwise_best_neighbour\n",
      "gaiadr2.gaiadr2.allwise_neighbourhood\n",
      "gaiadr2.gaiadr2.apassdr9_best_neighbour\n",
      "gaiadr2.gaiadr2.apassdr9_neighbourhood\n",
      "gaiadr2.gaiadr2.gsc23_best_neighbour\n",
      "gaiadr2.gaiadr2.gsc23_neighbourhood\n",
      "gaiadr2.gaiadr2.hipparcos2_best_neighbour\n",
      "gaiadr2.gaiadr2.hipparcos2_neighbourhood\n",
      "gaiadr2.gaiadr2.panstarrs1_best_neighbour\n",
      "gaiadr2.gaiadr2.panstarrs1_neighbourhood\n",
      "gaiadr2.gaiadr2.ppmxl_best_neighbour\n",
      "gaiadr2.gaiadr2.ppmxl_neighbourhood\n",
      "gaiadr2.gaiadr2.ravedr5_best_neighbour\n",
      "gaiadr2.gaiadr2.ravedr5_neighbourhood\n",
      "gaiadr2.gaiadr2.sdssdr9_best_neighbour\n",
      "gaiadr2.gaiadr2.sdssdr9_neighbourhood\n",
      "gaiadr2.gaiadr2.tmass_best_neighbour\n",
      "gaiadr2.gaiadr2.tmass_neighbourhood\n",
      "gaiadr2.gaiadr2.tycho2_best_neighbour\n",
      "gaiadr2.gaiadr2.tycho2_neighbourhood\n",
      "gaiadr2.gaiadr2.urat1_best_neighbour\n",
      "gaiadr2.gaiadr2.urat1_neighbourhood\n",
      "gaiadr2.gaiadr2.sso_observation\n",
      "gaiadr2.gaiadr2.sso_source\n",
      "gaiadr2.gaiadr2.vari_cepheid\n",
      "gaiadr2.gaiadr2.vari_classifier_class_definition\n",
      "gaiadr2.gaiadr2.vari_classifier_definition\n",
      "gaiadr2.gaiadr2.vari_classifier_result\n",
      "gaiadr2.gaiadr2.vari_long_period_variable\n",
      "gaiadr2.gaiadr2.vari_rotation_modulation\n",
      "gaiadr2.gaiadr2.vari_rrlyrae\n",
      "gaiadr2.gaiadr2.vari_short_timescale\n",
      "gaiadr2.gaiadr2.vari_time_series_statistics\n",
      "gaiadr2.gaiadr2.panstarrs1_original_valid\n",
      "gaiadr2.gaiadr2.gaia_source\n"
     ]
    }
   ],
   "source": [
    "tables = Gaia.load_tables(only_names=True)\n",
    "for table in (tables):\n",
    "    print (table.get_qualified_name())"
   ]
  },
  {
   "cell_type": "markdown",
   "metadata": {},
   "source": [
    "*Next, we retrieve all the available data in the region of interest. *\n",
    "\n",
    "*To do this we perform an asynchronous query (asynchronous rather than synchronous queries should be performed when retrieving more than 2000 rows) centred on the Pleides (coordinates: 56.75, +24.1167) with a search radius of 2 degrees and save the results to a file.*\n",
    "\n",
    "*Note: The query to the archive is with ADQL (Astronomical Data Query Language). For a description of ADQL and more examples see the Gaia DR1 ADQL cookbook: https://gaia.ac.uk/data/gaia-data-release-1/adql-cookbook *"
   ]
  },
  {
   "cell_type": "code",
   "execution_count": 22,
   "metadata": {},
   "outputs": [
    {
     "name": "stdout",
     "output_type": "stream",
     "text": [
      "Jobid: 1551037714613O\n",
      "Phase: COMPLETED\n",
      "Owner: None\n",
      "Output file: async_20190224114834.vot\n",
      "Results: None\n"
     ]
    }
   ],
   "source": [
    "job = Gaia.launch_job_async(\"SELECT * \\\n",
    "FROM gaiadr1.gaia_source \\\n",
    "WHERE CONTAINS(POINT('ICRS',gaiadr1.gaia_source.ra,gaiadr1.gaia_source.dec),CIRCLE('ICRS',56.75,24.1167,2))=1;\" \\\n",
    ", dump_to_file=True)\n",
    "\n",
    "print (job)"
   ]
  },
  {
   "cell_type": "markdown",
   "metadata": {},
   "source": [
    "*Inspect the output table and number of rows (around 1e5 results are found):*"
   ]
  },
  {
   "cell_type": "code",
   "execution_count": 23,
   "metadata": {},
   "outputs": [
    {
     "name": "stdout",
     "output_type": "stream",
     "text": [
      "    source_id    \n",
      "-----------------\n",
      "66926207631181184\n",
      "66818318054203520\n",
      "66917823855519360\n",
      "66830859358837888\n",
      "66809423175240448\n",
      "66944761890240000\n",
      "66980191076373760\n",
      "66781621852927232\n",
      "66827805636652928\n",
      "66947545031024640\n",
      "              ...\n",
      "66649989694512256\n",
      "65666785781176576\n",
      "64014803920669568\n",
      "64137880504644992\n",
      "66542306274948224\n",
      "64005909043397504\n",
      "66689881351473664\n",
      "66436615718993792\n",
      "65645757620918912\n",
      "66718434293042560\n",
      "64103559419447296\n",
      "Length = 98538 rows\n"
     ]
    }
   ],
   "source": [
    "r = job.get_results()\n",
    "print (r['source_id'])"
   ]
  },
  {
   "cell_type": "markdown",
   "metadata": {},
   "source": [
    "*To identify the cluster, create a proper motion plot of proper motion in RA (pmra) versus proper motion in DEC (pmdec) in the range pmra [-60,80] and pmdec [-120,30]:*"
   ]
  },
  {
   "cell_type": "code",
   "execution_count": 24,
   "metadata": {},
   "outputs": [
    {
     "data": {
      "image/png": "[encoded data removed]",
      "text/plain": [
       "<Figure size 432x288 with 1 Axes>"
      ]
     },
     "metadata": {
      "needs_background": "light"
     },
     "output_type": "display_data"
    }
   ],
   "source": [
    "plt.scatter(r['pmra'], r['pmdec'], color='r', alpha=0.3)\n",
    "plt.xlim(-60,80)\n",
    "plt.ylim(-120,30)\n",
    "\n",
    "plt.show()"
   ]
  },
  {
   "cell_type": "markdown",
   "metadata": {},
   "source": [
    "*Perform another asynchronous query to filter the results by quality:*"
   ]
  },
  {
   "cell_type": "code",
   "execution_count": 25,
   "metadata": {},
   "outputs": [],
   "source": [
    "sel_str = \"SELECT * \\\n",
    "FROM gaiadr1.gaia_source \\\n",
    "WHERE CONTAINS(POINT('ICRS',gaiadr1.gaia_source.ra,gaiadr1.gaia_source.dec),CIRCLE('ICRS',56.75,24.1167,2))=1 \\\n",
    "AND abs(pmra_error/pmra)<0.10 \\\n",
    "AND abs(pmdec_error/pmdec)<0.10 \\\n",
    "AND pmra IS NOT NULL AND abs(pmra)>0 \\\n",
    "AND pmdec IS NOT NULL AND abs(pmdec)>0;\"\n",
    "\n",
    "job2 = Gaia.launch_job_async(\"SELECT * \\\n",
    "FROM gaiadr1.gaia_source \\\n",
    "WHERE CONTAINS(POINT('ICRS',gaiadr1.gaia_source.ra,gaiadr1.gaia_source.dec),CIRCLE('ICRS',56.75,24.1167,2))=1 \\\n",
    "AND abs(pmra_error/pmra)<0.10 \\\n",
    "AND abs(pmdec_error/pmdec)<0.10 \\\n",
    "AND pmra IS NOT NULL AND abs(pmra)>0 \\\n",
    "AND pmdec IS NOT NULL AND abs(pmdec)>0;\", dump_to_file=True)"
   ]
  },
  {
   "cell_type": "markdown",
   "metadata": {},
   "source": [
    "*Again, inspect the output table and number of rows:*"
   ]
  },
  {
   "cell_type": "code",
   "execution_count": 26,
   "metadata": {},
   "outputs": [
    {
     "name": "stdout",
     "output_type": "stream",
     "text": [
      "    source_id    \n",
      "-----------------\n",
      "66623395256627712\n",
      "66581957412169728\n",
      "65614730777165824\n",
      "64053561704835584\n",
      "65828207832006400\n",
      "66858862543722112\n",
      "66863054431798272\n",
      "66588520122169728\n",
      "66657823714473856\n",
      "66592437132341248\n",
      "              ...\n",
      "66912360656318208\n",
      "66471215975411200\n",
      "66729257611496704\n",
      "64013704408496896\n",
      "64013807487711360\n",
      "66506331628024832\n",
      "66715101399291392\n",
      "66724447247218048\n",
      "66610957031353856\n",
      "66857281995760000\n",
      "66570549979009280\n",
      "Length = 218 rows\n"
     ]
    }
   ],
   "source": [
    "j = job2.get_results()\n",
    "print (j['source_id']) "
   ]
  },
  {
   "cell_type": "markdown",
   "metadata": {},
   "source": [
    "*Plot these new filtered results on the same plot as the previous search:*"
   ]
  },
  {
   "cell_type": "code",
   "execution_count": 27,
   "metadata": {},
   "outputs": [
    {
     "data": {
      "image/png": "[encoded data removed]",
      "text/plain": [
       "<Figure size 432x288 with 1 Axes>"
      ]
     },
     "metadata": {
      "needs_background": "light"
     },
     "output_type": "display_data"
    }
   ],
   "source": [
    "plt.scatter(r['pmra'], r['pmdec'], color='r', alpha=0.3)\n",
    "plt.scatter(j['pmra'], j['pmdec'], color='b', alpha=0.3)\n",
    "plt.xlim(-60,80)\n",
    "plt.ylim(-120,30)\n",
    "\n",
    "plt.show()"
   ]
  },
  {
   "cell_type": "markdown",
   "metadata": {},
   "source": [
    "*Now we are going to take the candidate objects to be in the cluster. Based on the proper motion plot, we execute the same job with the following constraints on the proper motions in RA and DEC: pmra between 15 and 25, pmdec between -55 and -40:*"
   ]
  },
  {
   "cell_type": "code",
   "execution_count": 28,
   "metadata": {},
   "outputs": [],
   "source": [
    "job3 = Gaia.launch_job_async(\"SELECT * \\\n",
    "FROM gaiadr1.gaia_source \\\n",
    "WHERE CONTAINS(POINT('ICRS',gaiadr1.gaia_source.ra,gaiadr1.gaia_source.dec),CIRCLE('ICRS',56.75,24.1167,2))=1 \\\n",
    "AND abs(pmra_error/pmra)<0.10 \\\n",
    "AND abs(pmdec_error/pmdec)<0.10 \\\n",
    "AND pmra IS NOT NULL AND abs(pmra)>0 \\\n",
    "AND pmdec IS NOT NULL AND abs(pmdec)>0 \\\n",
    "AND pmra BETWEEN 15 AND 25 \\\n",
    "AND pmdec BETWEEN -55 AND -40;\", dump_to_file=True)"
   ]
  },
  {
   "cell_type": "markdown",
   "metadata": {},
   "source": [
    "*Again, inspect the output table and number of rows, and call the job 'm45cluster':*"
   ]
  },
  {
   "cell_type": "code",
   "execution_count": 29,
   "metadata": {},
   "outputs": [
    {
     "name": "stdout",
     "output_type": "stream",
     "text": [
      "     parallax     \n",
      "       mas        \n",
      "------------------\n",
      " 7.454564828231018\n",
      "   7.5239065408351\n",
      " 6.930109371732377\n",
      " 7.578892136582589\n",
      " 7.328286272889863\n",
      " 7.023364688368016\n",
      " 8.138967164330523\n",
      " 8.144555523410178\n",
      " 7.364846831313057\n",
      "7.1694418609395765\n",
      "               ...\n",
      "  7.28265135413373\n",
      " 7.468173593228016\n",
      " 7.658985698496882\n",
      "7.2023395286122085\n",
      "  8.29209579454844\n",
      "  7.14613982210898\n",
      " 7.836102805006427\n",
      "7.8762955633015945\n",
      " 7.066701274479442\n",
      "7.3330438493994405\n",
      "Length = 106 rows\n"
     ]
    }
   ],
   "source": [
    "m45cluster = job3.get_results() \n",
    "print (m45cluster['parallax']) "
   ]
  },
  {
   "cell_type": "markdown",
   "metadata": {},
   "source": [
    "*Plot these new filtered results on the same plot as the previous search:*"
   ]
  },
  {
   "cell_type": "code",
   "execution_count": 30,
   "metadata": {},
   "outputs": [
    {
     "data": {
      "image/png": "[encoded data removed]",
      "text/plain": [
       "<Figure size 432x288 with 1 Axes>"
      ]
     },
     "metadata": {
      "needs_background": "light"
     },
     "output_type": "display_data"
    }
   ],
   "source": [
    "plt.scatter(r['pmra'], r['pmdec'], color='r', alpha=0.3)\n",
    "plt.scatter(j['pmra'], j['pmdec'], color='b', alpha=0.3)\n",
    "plt.scatter(m45cluster['pmra'], m45cluster['pmdec'], color='g', alpha=0.3)\n",
    "plt.xlim(-60,80)\n",
    "plt.ylim(-120,30)\n",
    "\n",
    "plt.show()"
   ]
  },
  {
   "cell_type": "markdown",
   "metadata": {},
   "source": [
    "*Calculate the average parallax and standard deviation of the parallax for the M45 cluster candidates:*"
   ]
  },
  {
   "cell_type": "code",
   "execution_count": 31,
   "metadata": {},
   "outputs": [
    {
     "name": "stdout",
     "output_type": "stream",
     "text": [
      "7.468669557496789 0.8348227325587293\n"
     ]
    }
   ],
   "source": [
    "avg_parallax = np.mean(m45cluster['parallax']) \n",
    "stddev_parallax = np.std(m45cluster['parallax']) \n",
    "print (avg_parallax, stddev_parallax)"
   ]
  },
  {
   "cell_type": "markdown",
   "metadata": {},
   "source": [
    "*Now, we want to add information from other catalogues, in this example from 2MASS. To do this we make use of the pre-computed cross-matched tables provided in the Gaia archive.*\n",
    "\n",
    "*We obtain the 2MASS photometric data by using the Gaia - 2MASS cross-matched best neighbour table (gaiadr1.tmass_best_neighbour) to identify the sources and the 2MASS original table (gaiadr1.tmass_original_valid) to retrieve the photometry:*"
   ]
  },
  {
   "cell_type": "code",
   "execution_count": 32,
   "metadata": {},
   "outputs": [
    {
     "name": "stdout",
     "output_type": "stream",
     "text": [
      "Query finished.\n"
     ]
    }
   ],
   "source": [
    "job4 = Gaia.launch_job_async(\"SELECT * \\\n",
    "FROM gaiadr1.gaia_source AS g, gaiadr1.tmass_best_neighbour AS tbest, gaiadr1.tmass_original_valid AS tmass \\\n",
    "WHERE g.source_id = tbest.source_id AND tbest.tmass_oid = tmass.tmass_oid \\\n",
    "AND CONTAINS(POINT('ICRS',g.ra,g.dec),CIRCLE('ICRS',56.75,24.1167,2))=1 \\\n",
    "AND abs(g.pmra_error/g.pmra)<0.10 \\\n",
    "AND abs(g.pmdec_error/g.pmdec)<0.10 \\\n",
    "AND g.pmra IS NOT NULL AND abs(g.pmra)>0 \\\n",
    "AND g.pmdec IS NOT NULL AND abs(g.pmdec)>0 \\\n",
    "AND g.pmra BETWEEN 15 AND 25 \\\n",
    "AND g.pmdec BETWEEN -55 AND -40;\", dump_to_file=False)"
   ]
  },
  {
   "cell_type": "markdown",
   "metadata": {},
   "source": [
    "*Finally, confirm the output table has Gaia and 2MASS photometry and check the number of rows in the table:*"
   ]
  },
  {
   "cell_type": "code",
   "execution_count": 15,
   "metadata": {},
   "outputs": [
    {
     "name": "stdout",
     "output_type": "stream",
     "text": [
      " phot_g_mean_mag    j_m    h_m   ks_m\n",
      "       mag          mag    mag   mag \n",
      "------------------ ------ ----- -----\n",
      "10.757800849005008  9.603 9.202 9.094\n",
      " 6.073301943844488  5.968 6.051 5.976\n",
      "10.643169127592188  9.535 9.219 9.137\n",
      "  6.82750238785118  6.699 6.733 6.692\n",
      " 10.15654586177056  9.117 8.868 8.758\n",
      " 7.537147252150579   7.28  7.29 7.257\n",
      "  8.13286526000272  7.588 7.528  7.47\n",
      " 8.526811916775689  7.892 7.767 7.738\n",
      "  9.02342350637215  8.236 8.033 8.002\n",
      " 7.024616005401143  6.848  6.92 6.895\n",
      "               ...    ...   ...   ...\n",
      "10.511033521483427  9.477  9.14 9.072\n",
      "11.597470392962894 10.261 9.835  9.73\n",
      "10.591447284586406  9.531 9.192 9.123\n",
      "10.325731863675678   9.35 9.092 8.996\n",
      "   9.9103711452616  8.983 8.711 8.632\n",
      " 9.333511794582734  8.533 8.329 8.282\n",
      " 8.112675586895094  7.673 7.599 7.576\n",
      " 6.327547776037669  6.228 6.248 6.257\n",
      " 8.187849825277272  7.526 7.393 7.352\n",
      "11.149659997470195  9.949 9.564 9.439\n",
      "Length = 106 rows\n"
     ]
    }
   ],
   "source": [
    "p = job4.get_results() \n",
    "print (p['phot_g_mean_mag', 'j_m', 'h_m', 'ks_m']) "
   ]
  },
  {
   "cell_type": "markdown",
   "metadata": {},
   "source": [
    "All of the above has been performed as an anonymous user to the Gaia archive. To log in to the archive, keep and share your results, see the following instructions: http://astroquery.readthedocs.io/en/latest/gaia/gaia.html#authenticated-access"
   ]
  },
  {
   "cell_type": "markdown",
   "metadata": {},
   "source": [
    "**Additional information**\n",
    "\n",
    "*The above query to obtain the 2MASS catalogue data can also be performed by using an 'INNER JOIN' in the ADQL query. For example:*"
   ]
  },
  {
   "cell_type": "code",
   "execution_count": 16,
   "metadata": {},
   "outputs": [
    {
     "name": "stdout",
     "output_type": "stream",
     "text": [
      "Query finished.\n"
     ]
    }
   ],
   "source": [
    "job5 = Gaia.launch_job_async(\"SELECT * \\\n",
    "FROM gaiadr1.gaia_source \\\n",
    "INNER JOIN gaiadr1.tmass_best_neighbour ON gaiadr1.gaia_source.source_id = gaiadr1.tmass_best_neighbour.source_id \\\n",
    "INNER JOIN gaiadr1.tmass_original_valid ON gaiadr1.tmass_original_valid.tmass_oid = gaiadr1.tmass_best_neighbour.tmass_oid \\\n",
    "WHERE CONTAINS(POINT('ICRS',gaiadr1.gaia_source.ra,gaiadr1.gaia_source.dec),CIRCLE('ICRS',56.75,24.1167,2))=1 \\\n",
    "AND abs(pmra_error/pmra)<0.10 \\\n",
    "AND abs(pmdec_error/pmdec)<0.10 \\\n",
    "AND pmra IS NOT NULL AND abs(pmra)>0 \\\n",
    "AND pmdec IS NOT NULL AND abs(pmdec)>0 \\\n",
    "AND pmra BETWEEN 15 AND 25 \\\n",
    "AND pmdec BETWEEN -55 AND -40;\", dump_to_file=False)"
   ]
  },
  {
   "cell_type": "markdown",
   "metadata": {},
   "source": [
    "*Confirm the output table has Gaia and 2MASS photometry and check the number of rows in the table is the same as above (106 rows):*"
   ]
  },
  {
   "cell_type": "code",
   "execution_count": 17,
   "metadata": {},
   "outputs": [
    {
     "name": "stdout",
     "output_type": "stream",
     "text": [
      " phot_g_mean_mag    j_m    h_m   ks_m\n",
      "       mag          mag    mag   mag \n",
      "------------------ ------ ----- -----\n",
      "10.757800849005008  9.603 9.202 9.094\n",
      " 6.073301943844488  5.968 6.051 5.976\n",
      "10.643169127592188  9.535 9.219 9.137\n",
      "  6.82750238785118  6.699 6.733 6.692\n",
      " 10.15654586177056  9.117 8.868 8.758\n",
      " 7.537147252150579   7.28  7.29 7.257\n",
      "  8.13286526000272  7.588 7.528  7.47\n",
      " 8.526811916775689  7.892 7.767 7.738\n",
      "  9.02342350637215  8.236 8.033 8.002\n",
      " 7.024616005401143  6.848  6.92 6.895\n",
      "               ...    ...   ...   ...\n",
      "10.511033521483427  9.477  9.14 9.072\n",
      "11.597470392962894 10.261 9.835  9.73\n",
      "10.591447284586406  9.531 9.192 9.123\n",
      "10.325731863675678   9.35 9.092 8.996\n",
      "   9.9103711452616  8.983 8.711 8.632\n",
      " 9.333511794582734  8.533 8.329 8.282\n",
      " 8.112675586895094  7.673 7.599 7.576\n",
      " 6.327547776037669  6.228 6.248 6.257\n",
      " 8.187849825277272  7.526 7.393 7.352\n",
      "11.149659997470195  9.949 9.564 9.439\n",
      "Length = 106 rows\n"
     ]
    }
   ],
   "source": [
    "test = job5.get_results() \n",
    "print (test['phot_g_mean_mag', 'j_m', 'h_m', 'ks_m']) "
   ]
  },
  {
   "cell_type": "markdown",
   "metadata": {
    "collapsed": true
   },
   "source": [
    "*Visually inspect the results are the same by plotting the same as above:* "
   ]
  },
  {
   "cell_type": "code",
   "execution_count": 18,
   "metadata": {},
   "outputs": [
    {
     "data": {
      "image/png": "[encoded data removed]",
      "text/plain": [
       "<Figure size 432x288 with 1 Axes>"
      ]
     },
     "metadata": {
      "needs_background": "light"
     },
     "output_type": "display_data"
    }
   ],
   "source": [
    "plt.scatter(r['pmra'], r['pmdec'], color='r', alpha=0.3)\n",
    "plt.scatter(j['pmra'], j['pmdec'], color='b', alpha=0.3)\n",
    "plt.scatter(m45cluster['pmra'], m45cluster['pmdec'], color='g', alpha=0.3)\n",
    "plt.scatter(test['pmra'], test['pmdec'], color='y', alpha=0.3)\n",
    "plt.xlim(-60,80)\n",
    "plt.ylim(-120,30)\n",
    "\n",
    "plt.show()"
   ]
  },
  {
   "cell_type": "code",
   "execution_count": null,
   "metadata": {},
   "outputs": [],
   "source": []
  }
 ],
 "metadata": {
  "anaconda-cloud": {},
  "kernelspec": {
   "display_name": "Python 3",
   "language": "python",
   "name": "python3"
  },
  "language_info": {
   "codemirror_mode": {
    "name": "ipython",
    "version": 3
   },
   "file_extension": ".py",
   "mimetype": "text/x-python",
   "name": "python",
   "nbconvert_exporter": "python",
   "pygments_lexer": "ipython3",
   "version": "3.7.2"
  }
 },
 "nbformat": 4,
 "nbformat_minor": 1
}
