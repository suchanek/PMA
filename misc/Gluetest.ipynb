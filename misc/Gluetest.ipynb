{
 "cells": [
  {
   "cell_type": "code",
   "execution_count": null,
   "metadata": {},
   "outputs": [],
   "source": [
    "from glue.core.data_factories import load_data\n",
    "from glue.core import DataCollection\n",
    "from glue.core.link_helpers import LinkSame\n",
    "from glue.app.qt.application import GlueApplication\n",
    "\n",
    "#load 2 datasets from files\n",
    "image = load_data('w5.fits')\n",
    "catalog = load_data('w5_psc.vot')\n",
    "dc = DataCollection([image, catalog])\n",
    "\n",
    "# link positional information\n",
    "dc.add_link(LinkSame(image.id['Right Ascension'], catalog.id['RAJ2000']))\n",
    "dc.add_link(LinkSame(image.id['Declination'], catalog.id['DEJ2000']))\n",
    "\n",
    "#start Glue\n",
    "app = GlueApplication(dc)\n",
    "app.start()"
   ]
  }
 ],
 "metadata": {
  "kernelspec": {
   "display_name": "Python 3",
   "language": "python",
   "name": "python3"
  },
  "language_info": {
   "codemirror_mode": {
    "name": "ipython",
    "version": 3
   },
   "file_extension": ".py",
   "mimetype": "text/x-python",
   "name": "python",
   "nbconvert_exporter": "python",
   "pygments_lexer": "ipython3",
   "version": "3.6.7"
  }
 },
 "nbformat": 4,
 "nbformat_minor": 2
}
