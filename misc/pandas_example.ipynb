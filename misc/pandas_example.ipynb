{
 "cells": [
  {
   "cell_type": "code",
   "execution_count": 1,
   "metadata": {},
   "outputs": [
    {
     "name": "stderr",
     "output_type": "stream",
     "text": [
      "/Users/suchanek/anaconda3/envs/TF/lib/python3.6/importlib/_bootstrap.py:219: RuntimeWarning: numpy.ufunc size changed, may indicate binary incompatibility. Expected 192 from C header, got 216 from PyObject\n",
      "  return f(*args, **kwds)\n"
     ]
    },
    {
     "name": "stdout",
     "output_type": "stream",
     "text": [
      "               height (m)          mountain range  summited\n",
      "name                                                       \n",
      "Mount Everest        8848     Mahalangur Himalaya      1953\n",
      "K2                   8611       Baltoro Karakoram      1954\n",
      "Kangchenjunga        8586  Kangchenjunga Himalaya      1955\n",
      "Lhotse               8516     Mahalangur Himalaya      1956\n",
      "name\n",
      "Mount Everest    8848\n",
      "K2               8611\n",
      "Kangchenjunga    8586\n",
      "Lhotse           8516\n",
      "Name: height (m), dtype: int64\n",
      "[8848 8611 8586 8516]\n",
      "name\n",
      "Mount Everest       Mahalangur Himalaya\n",
      "K2                    Baltoro Karakoram\n",
      "Kangchenjunga    Kangchenjunga Himalaya\n",
      "Lhotse              Mahalangur Himalaya\n",
      "Name: mountain range, dtype: object\n",
      "height (m)                     8611\n",
      "mountain range    Baltoro Karakoram\n",
      "summited                       1954\n",
      "Name: K2, dtype: object\n",
      "Baltoro Karakoram\n",
      "               height (m)          mountain range  summited\n",
      "name                                                       \n",
      "Mount Everest        8848     Mahalangur Himalaya      1953\n",
      "K2                   8611       Baltoro Karakoram      1954\n",
      "Kangchenjunga        8586  Kangchenjunga Himalaya      1955\n",
      "Lhotse               8516     Mahalangur Himalaya      1956\n",
      "               height (m)  summited\n",
      "name                               \n",
      "Mount Everest        8848      1953\n",
      "K2                   8611      1954\n",
      "Kangchenjunga        8586      1955\n",
      "Lhotse               8516      1956\n",
      "               height (m)          mountain range  summited\n",
      "name                                                       \n",
      "Kangchenjunga        8586  Kangchenjunga Himalaya      1955\n",
      "Lhotse               8516     Mahalangur Himalaya      1956\n",
      "height (m)                       8848\n",
      "mountain range    Mahalangur Himalaya\n",
      "summited                         1953\n",
      "Name: Mount Everest, dtype: object\n",
      "name\n",
      "Mount Everest    1953\n",
      "K2               1954\n",
      "Kangchenjunga    1955\n",
      "Lhotse           1956\n",
      "Name: summited, dtype: int64\n",
      "1953\n",
      "        height (m)       mountain range  summited\n",
      "name                                             \n",
      "K2            8611    Baltoro Karakoram      1954\n",
      "Lhotse        8516  Mahalangur Himalaya      1956\n",
      "               height (m)          mountain range\n",
      "name                                             \n",
      "Mount Everest        8848     Mahalangur Himalaya\n",
      "K2                   8611       Baltoro Karakoram\n",
      "Kangchenjunga        8586  Kangchenjunga Himalaya\n",
      "Lhotse               8516     Mahalangur Himalaya\n",
      "height (m)                     8611\n",
      "mountain range    Baltoro Karakoram\n",
      "Name: K2, dtype: object\n"
     ]
    },
    {
     "ename": "IndexingError",
     "evalue": "Too many indexers",
     "output_type": "error",
     "traceback": [
      "\u001b[0;31m---------------------------------------------------------------------------\u001b[0m",
      "\u001b[0;31mIndexingError\u001b[0m                             Traceback (most recent call last)",
      "\u001b[0;32m<ipython-input-1-1d4b73e28149>\u001b[0m in \u001b[0;36m<module>\u001b[0;34m\u001b[0m\n\u001b[1;32m     40\u001b[0m \u001b[0mprint\u001b[0m\u001b[0;34m(\u001b[0m\u001b[0mmtns\u001b[0m\u001b[0;34m.\u001b[0m\u001b[0miloc\u001b[0m\u001b[0;34m[\u001b[0m\u001b[0;34m:\u001b[0m\u001b[0;34m,\u001b[0m \u001b[0;36m0\u001b[0m\u001b[0;34m:\u001b[0m\u001b[0;36m2\u001b[0m\u001b[0;34m]\u001b[0m\u001b[0;34m)\u001b[0m\u001b[0;34m\u001b[0m\u001b[0;34m\u001b[0m\u001b[0m\n\u001b[1;32m     41\u001b[0m \u001b[0mprint\u001b[0m\u001b[0;34m(\u001b[0m\u001b[0mmtns\u001b[0m\u001b[0;34m.\u001b[0m\u001b[0miloc\u001b[0m\u001b[0;34m[\u001b[0m\u001b[0;34m:\u001b[0m\u001b[0;34m,\u001b[0m \u001b[0;36m0\u001b[0m\u001b[0;34m:\u001b[0m\u001b[0;36m2\u001b[0m\u001b[0;34m]\u001b[0m\u001b[0;34m.\u001b[0m\u001b[0mloc\u001b[0m\u001b[0;34m[\u001b[0m\u001b[0;34m'K2'\u001b[0m\u001b[0;34m,\u001b[0m \u001b[0;34m:\u001b[0m\u001b[0;34m]\u001b[0m\u001b[0;34m)\u001b[0m\u001b[0;34m\u001b[0m\u001b[0;34m\u001b[0m\u001b[0m\n\u001b[0;32m---> 42\u001b[0;31m \u001b[0mprint\u001b[0m\u001b[0;34m(\u001b[0m\u001b[0mmtns\u001b[0m\u001b[0;34m.\u001b[0m\u001b[0miloc\u001b[0m\u001b[0;34m[\u001b[0m\u001b[0;34m:\u001b[0m\u001b[0;34m,\u001b[0m \u001b[0;36m0\u001b[0m\u001b[0;34m]\u001b[0m\u001b[0;34m.\u001b[0m\u001b[0mloc\u001b[0m\u001b[0;34m[\u001b[0m\u001b[0;34m'K2'\u001b[0m\u001b[0;34m,\u001b[0m \u001b[0;34m:\u001b[0m\u001b[0;34m]\u001b[0m\u001b[0;34m)\u001b[0m\u001b[0;34m\u001b[0m\u001b[0;34m\u001b[0m\u001b[0m\n\u001b[0m",
      "\u001b[0;32m~/anaconda3/envs/TF/lib/python3.6/site-packages/pandas/core/indexing.py\u001b[0m in \u001b[0;36m__getitem__\u001b[0;34m(self, key)\u001b[0m\n\u001b[1;32m   1492\u001b[0m             \u001b[0;32mexcept\u001b[0m \u001b[0;34m(\u001b[0m\u001b[0mKeyError\u001b[0m\u001b[0;34m,\u001b[0m \u001b[0mIndexError\u001b[0m\u001b[0;34m,\u001b[0m \u001b[0mAttributeError\u001b[0m\u001b[0;34m)\u001b[0m\u001b[0;34m:\u001b[0m\u001b[0;34m\u001b[0m\u001b[0;34m\u001b[0m\u001b[0m\n\u001b[1;32m   1493\u001b[0m                 \u001b[0;32mpass\u001b[0m\u001b[0;34m\u001b[0m\u001b[0;34m\u001b[0m\u001b[0m\n\u001b[0;32m-> 1494\u001b[0;31m             \u001b[0;32mreturn\u001b[0m \u001b[0mself\u001b[0m\u001b[0;34m.\u001b[0m\u001b[0m_getitem_tuple\u001b[0m\u001b[0;34m(\u001b[0m\u001b[0mkey\u001b[0m\u001b[0;34m)\u001b[0m\u001b[0;34m\u001b[0m\u001b[0;34m\u001b[0m\u001b[0m\n\u001b[0m\u001b[1;32m   1495\u001b[0m         \u001b[0;32melse\u001b[0m\u001b[0;34m:\u001b[0m\u001b[0;34m\u001b[0m\u001b[0;34m\u001b[0m\u001b[0m\n\u001b[1;32m   1496\u001b[0m             \u001b[0;31m# we by definition only have the 0th axis\u001b[0m\u001b[0;34m\u001b[0m\u001b[0;34m\u001b[0m\u001b[0;34m\u001b[0m\u001b[0m\n",
      "\u001b[0;32m~/anaconda3/envs/TF/lib/python3.6/site-packages/pandas/core/indexing.py\u001b[0m in \u001b[0;36m_getitem_tuple\u001b[0;34m(self, tup)\u001b[0m\n\u001b[1;32m    871\u001b[0m \u001b[0;34m\u001b[0m\u001b[0m\n\u001b[1;32m    872\u001b[0m         \u001b[0;31m# no multi-index, so validate all of the indexers\u001b[0m\u001b[0;34m\u001b[0m\u001b[0;34m\u001b[0m\u001b[0;34m\u001b[0m\u001b[0m\n\u001b[0;32m--> 873\u001b[0;31m         \u001b[0mself\u001b[0m\u001b[0;34m.\u001b[0m\u001b[0m_has_valid_tuple\u001b[0m\u001b[0;34m(\u001b[0m\u001b[0mtup\u001b[0m\u001b[0;34m)\u001b[0m\u001b[0;34m\u001b[0m\u001b[0;34m\u001b[0m\u001b[0m\n\u001b[0m\u001b[1;32m    874\u001b[0m \u001b[0;34m\u001b[0m\u001b[0m\n\u001b[1;32m    875\u001b[0m         \u001b[0;31m# ugly hack for GH #836\u001b[0m\u001b[0;34m\u001b[0m\u001b[0;34m\u001b[0m\u001b[0;34m\u001b[0m\u001b[0m\n",
      "\u001b[0;32m~/anaconda3/envs/TF/lib/python3.6/site-packages/pandas/core/indexing.py\u001b[0m in \u001b[0;36m_has_valid_tuple\u001b[0;34m(self, key)\u001b[0m\n\u001b[1;32m    219\u001b[0m         \u001b[0;32mfor\u001b[0m \u001b[0mi\u001b[0m\u001b[0;34m,\u001b[0m \u001b[0mk\u001b[0m \u001b[0;32min\u001b[0m \u001b[0menumerate\u001b[0m\u001b[0;34m(\u001b[0m\u001b[0mkey\u001b[0m\u001b[0;34m)\u001b[0m\u001b[0;34m:\u001b[0m\u001b[0;34m\u001b[0m\u001b[0;34m\u001b[0m\u001b[0m\n\u001b[1;32m    220\u001b[0m             \u001b[0;32mif\u001b[0m \u001b[0mi\u001b[0m \u001b[0;34m>=\u001b[0m \u001b[0mself\u001b[0m\u001b[0;34m.\u001b[0m\u001b[0mobj\u001b[0m\u001b[0;34m.\u001b[0m\u001b[0mndim\u001b[0m\u001b[0;34m:\u001b[0m\u001b[0;34m\u001b[0m\u001b[0;34m\u001b[0m\u001b[0m\n\u001b[0;32m--> 221\u001b[0;31m                 \u001b[0;32mraise\u001b[0m \u001b[0mIndexingError\u001b[0m\u001b[0;34m(\u001b[0m\u001b[0;34m'Too many indexers'\u001b[0m\u001b[0;34m)\u001b[0m\u001b[0;34m\u001b[0m\u001b[0;34m\u001b[0m\u001b[0m\n\u001b[0m\u001b[1;32m    222\u001b[0m             \u001b[0;32mtry\u001b[0m\u001b[0;34m:\u001b[0m\u001b[0;34m\u001b[0m\u001b[0;34m\u001b[0m\u001b[0m\n\u001b[1;32m    223\u001b[0m                 \u001b[0mself\u001b[0m\u001b[0;34m.\u001b[0m\u001b[0m_validate_key\u001b[0m\u001b[0;34m(\u001b[0m\u001b[0mk\u001b[0m\u001b[0;34m,\u001b[0m \u001b[0mi\u001b[0m\u001b[0;34m)\u001b[0m\u001b[0;34m\u001b[0m\u001b[0;34m\u001b[0m\u001b[0m\n",
      "\u001b[0;31mIndexingError\u001b[0m: Too many indexers"
     ]
    }
   ],
   "source": [
    "\"\"\"\n",
    "An example illustrating how to index pandas DataFrames. \n",
    "\"\"\"\n",
    "import numpy as np\n",
    "import pandas as pd\n",
    "\n",
    "mtns = pd.DataFrame([\n",
    "    {'name': 'Mount Everest',\n",
    "        'height (m)': 8848,\n",
    "        'summited': 1953,\n",
    "        'mountain range': 'Mahalangur Himalaya'},\n",
    "    {'name': 'K2',\n",
    "        'height (m)': 8611,\n",
    "        'summited': 1954,\n",
    "        'mountain range': 'Baltoro Karakoram'},\n",
    "    {'name': 'Kangchenjunga',\n",
    "        'height (m)': 8586,\n",
    "        'summited': 1955,\n",
    "        'mountain range': 'Kangchenjunga Himalaya'},\n",
    "    {'name': 'Lhotse',\n",
    "        'height (m)': 8516,\n",
    "        'summited': 1956,\n",
    "        'mountain range': 'Mahalangur Himalaya'},\n",
    "])\n",
    "mtns.set_index('name', inplace=True)\n",
    "\n",
    "print(mtns)\n",
    "print(mtns.loc[:, 'height (m)'])\n",
    "print(mtns.loc[:, 'height (m)'].values)\n",
    "print(mtns.loc[:, 'mountain range'])\n",
    "print(mtns.loc['K2', :])\n",
    "print(mtns.loc['K2', 'mountain range'])\n",
    "print(mtns.loc[:, 'height (m)': 'summited'])\n",
    "print(mtns.loc[:, ['height (m)', 'summited']])\n",
    "print(mtns.loc[mtns.loc[:, 'summited'] > 1954, :])\n",
    "print(mtns.iloc[0, :])\n",
    "print(mtns.iloc[:, 2])\n",
    "print(mtns.iloc[0, 2])\n",
    "print(mtns.iloc[[1, 3], :])\n",
    "print(mtns.iloc[:, 0:2])\n",
    "print(mtns.iloc[:, 0:2].loc['K2', :])\n",
    "print(mtns.iloc[:, 0].loc['K2', :])"
   ]
  },
  {
   "cell_type": "code",
   "execution_count": 2,
   "metadata": {},
   "outputs": [
    {
     "name": "stdout",
     "output_type": "stream",
     "text": [
      "height (m)                     8611\n",
      "mountain range    Baltoro Karakoram\n",
      "summited                       1954\n",
      "Name: K2, dtype: object\n"
     ]
    }
   ],
   "source": [
    "print(mtns.loc['K2', :])"
   ]
  },
  {
   "cell_type": "code",
   "execution_count": null,
   "metadata": {},
   "outputs": [],
   "source": []
  }
 ],
 "metadata": {
  "kernelspec": {
   "display_name": "Python 3",
   "language": "python",
   "name": "python3"
  },
  "language_info": {
   "codemirror_mode": {
    "name": "ipython",
    "version": 3
   },
   "file_extension": ".py",
   "mimetype": "text/x-python",
   "name": "python",
   "nbconvert_exporter": "python",
   "pygments_lexer": "ipython3",
   "version": "3.6.7"
  }
 },
 "nbformat": 4,
 "nbformat_minor": 2
}
