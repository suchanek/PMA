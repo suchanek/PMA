{
 "cells": [
  {
   "cell_type": "code",
   "execution_count": 5,
   "metadata": {},
   "outputs": [
    {
     "data": {
      "application/vnd.jupyter.widget-view+json": {
       "model_id": "d8da979d505b4e6f9f8e4c95eba9b73f",
       "version_major": 2,
       "version_minor": 0
      },
      "text/plain": [
       "VBox(children=(VBox(children=(HBox(children=(Label(value='levels:'), FloatSlider(value=0.1, max=1.0, step=0.00…"
      ]
     },
     "metadata": {},
     "output_type": "display_data"
    },
    {
     "data": {
      "application/vnd.jupyter.widget-view+json": {
       "model_id": "589c7e60a8e847dba9b5887e421ee210",
       "version_major": 2,
       "version_minor": 0
      },
      "text/plain": [
       "Volume(data=array([[[3.47319590e-44, 1.78137666e-15, 1.01497365e-14, ...,\n",
       "         1.01497365e-14, 1.78137666e…"
      ]
     },
     "metadata": {},
     "output_type": "display_data"
    }
   ],
   "source": [
    "import ipyvolume as ipv\n",
    "import ipyvolume.examples as examples\n",
    "\n",
    "ipv.figure()\n",
    "examples.example_ylm(m=0, n=2, shape=128, limits=[-4, 4], draw=True, show=True)\n"
   ]
  },
  {
   "cell_type": "code",
   "execution_count": 6,
   "metadata": {},
   "outputs": [
    {
     "data": {
      "application/vnd.jupyter.widget-view+json": {
       "model_id": "adb5ab92143044259231c02a50dab3cc",
       "version_major": 2,
       "version_minor": 0
      },
      "text/plain": [
       "VBox(children=(VBox(children=(Figure(camera=PerspectiveCamera(fov=46.0, position=(0.0, 0.0, 2.0), quaternion=(…"
      ]
     },
     "metadata": {},
     "output_type": "display_data"
    }
   ],
   "source": [
    "#ipywidgets-display::\n",
    "import ipyvolume as ipv\n",
    "import numpy as np\n",
    "x, y, z, u, v, w = np.random.random((6, 1000))*2-1\n",
    "selected = np.random.randint(0, 1000, 100)\n",
    "ipv.figure()\n",
    "quiver = ipv.quiver(x, y, z, u, v, w, size=5, size_selected=8, selected=selected)\n",
    "\n",
    "from ipywidgets import FloatSlider, ColorPicker, VBox, jslink\n",
    "size = FloatSlider(min=0, max=30, step=0.1)\n",
    "size_selected = FloatSlider(min=0, max=30, step=0.1)\n",
    "color = ColorPicker()\n",
    "color_selected = ColorPicker()\n",
    "jslink((quiver, 'size'), (size, 'value'))\n",
    "jslink((quiver, 'size_selected'), (size_selected, 'value'))\n",
    "jslink((quiver, 'color'), (color, 'value'))\n",
    "jslink((quiver, 'color_selected'), (color_selected, 'value'))\n",
    "VBox([ipv.gcc(), size, size_selected, color, color_selected])"
   ]
  },
  {
   "cell_type": "code",
   "execution_count": 7,
   "metadata": {},
   "outputs": [
    {
     "data": {
      "application/vnd.jupyter.widget-view+json": {
       "model_id": "8318bdc7b2ca4a12a979fc54644d76ad",
       "version_major": 2,
       "version_minor": 0
      },
      "text/plain": [
       "VBox(children=(Figure(animation=200.0, camera=PerspectiveCamera(fov=46.0, position=(0.0, 0.0, 2.0), quaternion…"
      ]
     },
     "metadata": {},
     "output_type": "display_data"
    }
   ],
   "source": [
    "ipv.figure()\n",
    "ss = ipv.scatter(x, z, y, marker=\"sphere\")\n",
    "ipv.animation_control(ss, interval=200)\n",
    "ipv.ylim(-3,3)\n",
    "ipv.show()"
   ]
  },
  {
   "cell_type": "code",
   "execution_count": 8,
   "metadata": {},
   "outputs": [
    {
     "data": {
      "application/vnd.jupyter.widget-view+json": {
       "model_id": "",
       "version_major": 2,
       "version_minor": 0
      },
      "text/plain": [
       "VBox(children=(VBox(children=(Figure(camera=PerspectiveCamera(fov=46.0, position=(0.0, 0.0, 2.0), quaternion=(…"
      ]
     },
     "metadata": {},
     "output_type": "display_data"
    }
   ],
   "source": [
    "#ipywidgets-display::\n",
    "import ipyvolume as ipv\n",
    "import numpy as np\n",
    "x, y, z, u, v, w = np.random.random((6, 1000))*2-1\n",
    "selected = np.random.randint(0, 1000, 100)\n",
    "ipv.figure()\n",
    "quiver = ipv.quiver(x, y, z, u, v, w, size=5, size_selected=8, selected=selected)\n",
    "\n",
    "from ipywidgets import FloatSlider, ColorPicker, VBox, jslink\n",
    "size = FloatSlider(min=0, max=30, step=0.1)\n",
    "size_selected = FloatSlider(min=0, max=30, step=0.1)\n",
    "color = ColorPicker()\n",
    "color_selected = ColorPicker()\n",
    "jslink((quiver, 'size'), (size, 'value'))\n",
    "jslink((quiver, 'size_selected'), (size_selected, 'value'))\n",
    "jslink((quiver, 'color'), (color, 'value'))\n",
    "jslink((quiver, 'color_selected'), (color_selected, 'value'))\n",
    "VBox([ipv.gcc(), size, size_selected, color, color_selected])\n",
    "\n"
   ]
  },
  {
   "cell_type": "code",
   "execution_count": 11,
   "metadata": {},
   "outputs": [
    {
     "data": {
      "application/vnd.jupyter.widget-view+json": {
       "model_id": "6357d763fcbe4e1fa074273e95dd74b6",
       "version_major": 2,
       "version_minor": 0
      },
      "text/plain": [
       "VBox(children=(VBox(children=(Figure(camera=PerspectiveCamera(fov=46.0, position=(0.0, 0.0, 2.0), quaternion=(…"
      ]
     },
     "metadata": {},
     "output_type": "display_data"
    }
   ],
   "source": [
    "#ipywidgets-display::\n",
    "import ipyvolume as ipv\n",
    "import numpy as np\n",
    "x, y, z, u, v, w = np.random.random((6, 1000))*2-1\n",
    "selected = np.random.randint(0, 1000, 100)\n",
    "\n",
    "#figure(width=None, height=None, layout={'width':'100%', 'height':'100%'}).\n",
    "#ipv.figure(width=800, height=800, layout={'width':'100%', 'height':'100%'})\n",
    "ipv.figure(width=800, height=800)\n",
    "quiver = ipv.quiver(x, y, z, u, v, w, size=5, size_selected=8, selected=selected)\n",
    "\n",
    "from ipywidgets import FloatSlider, ColorPicker, VBox, jslink\n",
    "size = FloatSlider(min=0, max=30, step=0.1)\n",
    "size_selected = FloatSlider(min=0, max=30, step=0.1)\n",
    "color = ColorPicker()\n",
    "color_selected = ColorPicker()\n",
    "jslink((quiver, 'size'), (size, 'value'))\n",
    "jslink((quiver, 'size_selected'), (size_selected, 'value'))\n",
    "jslink((quiver, 'color'), (color, 'value'))\n",
    "jslink((quiver, 'color_selected'), (color_selected, 'value'))\n",
    "VBox([ipv.gcc(), size, size_selected, color, color_selected])\n",
    "\n"
   ]
  },
  {
   "cell_type": "code",
   "execution_count": null,
   "metadata": {},
   "outputs": [],
   "source": []
  },
  {
   "cell_type": "code",
   "execution_count": null,
   "metadata": {},
   "outputs": [],
   "source": []
  }
 ],
 "metadata": {
  "kernelspec": {
   "display_name": "Python 3",
   "language": "python",
   "name": "python3"
  },
  "language_info": {
   "codemirror_mode": {
    "name": "ipython",
    "version": 3
   },
   "file_extension": ".py",
   "mimetype": "text/x-python",
   "name": "python",
   "nbconvert_exporter": "python",
   "pygments_lexer": "ipython3",
   "version": "3.6.7"
  }
 },
 "nbformat": 4,
 "nbformat_minor": 2
}
