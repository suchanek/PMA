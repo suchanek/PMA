{
 "cells": [
  {
   "cell_type": "code",
   "execution_count": 31,
   "metadata": {
    "scrolled": false
   },
   "outputs": [
    {
     "name": "stdout",
     "output_type": "stream",
     "text": [
      "Using atan(alpha/delta) across each point, correcting for delta < 0 in degrees, yields:\n",
      "81.86989764584403\n",
      "-81.86989764584403\n",
      "261.86989764584405\n",
      "98.13010235415597\n",
      "\n",
      "Using atan(delta/alpha) across each point, correcting for delta < 0 in degrees, but flipping the atan to delta/alpha yields:\n",
      "8.130102354155978\n",
      "-8.130102354155978\n",
      "188.13010235415598\n",
      "171.86989764584402\n",
      "\n",
      "Using atan(alpha/delta) across each point, in degrees, but not adding 180 at all yields:\n",
      "81.86989764584403\n",
      "-81.86989764584403\n",
      "81.86989764584403\n",
      "-81.86989764584403\n",
      "\n",
      "Using atan2(delta/alpha) and correcting for delta < 0, in degrees, yields:\n",
      "8.13010235415598\n",
      "171.86989764584402\n",
      "188.13010235415598\n",
      "351.86989764584405\n",
      "\n",
      "So, using atan2(delta/alpha) and correcting for delta < works. \n"
     ]
    }
   ],
   "source": [
    "# calculating pm angles from input vectors\n",
    "\n",
    "import numpy as np\n",
    "\n",
    "# my current function\n",
    "def cart2ang(x, y):\n",
    "    phi = np.arctan2(y,x)\n",
    "    phi = phi * 180.0 / np.pi # to degrees\n",
    "    if y < 0.0:\n",
    "        phi+=360.0\n",
    "    return(phi)\n",
    "\n",
    "# as discussed with alpha/delta\n",
    "def bruce(alpha,delta):\n",
    "    ang = np.arctan(alpha/delta)\n",
    "    ang = ang * 180.0 / np.pi\n",
    "    if delta < 0:\n",
    "        ang+=180.0\n",
    "    return(ang)\n",
    "\n",
    "# with 'normal' delta/alpha\n",
    "def bruce2(alpha,delta):\n",
    "    ang = np.arctan(delta/alpha)\n",
    "    ang = ang * 180.0 / np.pi\n",
    "    if delta < 0:\n",
    "        ang+=180.0\n",
    "    return(ang)\n",
    "\n",
    "# as discussed with alpha/delta with no correction\n",
    "def bruce3(alpha,delta):\n",
    "    ang = np.arctan(alpha/delta)\n",
    "    ang = ang * 180.0 / np.pi\n",
    "    return(ang)\n",
    "\n",
    "# input degrees to radians\n",
    "a = 70 * np.pi / 180.0\n",
    "d = 10 * np.pi / 180.0\n",
    "\n",
    "print(\"Using atan(alpha/delta) across each point, correcting for delta < 0 in degrees, yields:\")\n",
    "print(bruce(a,d))\n",
    "print(bruce(-a,d))\n",
    "print(bruce(-a,-d))\n",
    "print(bruce(a,-d))\n",
    "\n",
    "print(\"\\nUsing atan(delta/alpha) across each point, correcting for delta < 0 in degrees, but flipping the atan to delta/alpha yields:\")\n",
    "print(bruce2(a,d))\n",
    "print(bruce2(-a,d))\n",
    "print(bruce2(-a,-d))\n",
    "print(bruce2(a,-d))\n",
    "\n",
    "print(\"\\nUsing atan(alpha/delta) across each point, in degrees, but not adding 180 at all yields:\")\n",
    "print(bruce3(a,d))\n",
    "print(bruce3(-a,d))\n",
    "print(bruce3(-a,-d))\n",
    "print(bruce3(a,-d))\n",
    "\n",
    "print(\"\\nUsing atan2(delta/alpha) and correcting for delta < 0, in degrees, yields:\")\n",
    "print(cart2ang(a,d))\n",
    "print(cart2ang(-a,d))\n",
    "print(cart2ang(-a,-d))\n",
    "print(cart2ang(a,-d))\n",
    "\n",
    "print(\"\\nSo, using atan2(delta/alpha) and correcting for delta < works. \")\n",
    "\n",
    "\n"
   ]
  },
  {
   "cell_type": "code",
   "execution_count": null,
   "metadata": {},
   "outputs": [],
   "source": []
  }
 ],
 "metadata": {
  "kernelspec": {
   "display_name": "Python 3",
   "language": "python",
   "name": "python3"
  },
  "language_info": {
   "codemirror_mode": {
    "name": "ipython",
    "version": 3
   },
   "file_extension": ".py",
   "mimetype": "text/x-python",
   "name": "python",
   "nbconvert_exporter": "python",
   "pygments_lexer": "ipython3",
   "version": "3.6.7"
  }
 },
 "nbformat": 4,
 "nbformat_minor": 2
}
