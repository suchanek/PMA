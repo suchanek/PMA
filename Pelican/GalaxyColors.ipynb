{
 "cells": [
  {
   "cell_type": "code",
   "execution_count": 1,
   "metadata": {},
   "outputs": [
    {
     "name": "stderr",
     "output_type": "stream",
     "text": [
      "/Users/suchanek/anaconda3/envs/TF/lib/python3.6/importlib/_bootstrap.py:219: RuntimeWarning: numpy.ufunc size changed, may indicate binary incompatibility. Expected 192 from C header, got 216 from PyObject\n",
      "  return f(*args, **kwds)\n"
     ]
    },
    {
     "name": "stdout",
     "output_type": "stream",
     "text": [
      "querying for 50000 objects\n",
      "SELECT TOP 50000\n",
      "  p.u, p.g, p.r, p.i, p.z, s.class, s.z, s.zerr\n",
      "FROM PhotoObj AS p\n",
      "  JOIN SpecObj AS s ON s.bestobjid = p.objid\n",
      "WHERE \n",
      "  p.u BETWEEN 0 AND 19.6\n",
      "  AND p.g BETWEEN 0 AND 20\n",
      "  AND s.class <> 'UNKNOWN'\n",
      "  AND s.class <> 'STAR'\n",
      "  AND s.class <> 'SKY'\n",
      "  AND s.class <> 'STAR_LATE'\n",
      "finished.\n"
     ]
    },
    {
     "ename": "TypeError",
     "evalue": "slice indices must be integers or None or have an __index__ method",
     "output_type": "error",
     "traceback": [
      "\u001b[0;31m---------------------------------------------------------------------------\u001b[0m",
      "\u001b[0;31mTypeError\u001b[0m                                 Traceback (most recent call last)",
      "\u001b[0;32m<ipython-input-1-f779a00d8c19>\u001b[0m in \u001b[0;36m<module>\u001b[0;34m\u001b[0m\n\u001b[1;32m     43\u001b[0m \u001b[0;31m# divide into training and testing data\u001b[0m\u001b[0;34m\u001b[0m\u001b[0;34m\u001b[0m\u001b[0;34m\u001b[0m\u001b[0m\n\u001b[1;32m     44\u001b[0m \u001b[0mNtrain\u001b[0m \u001b[0;34m=\u001b[0m \u001b[0mN\u001b[0m \u001b[0;34m/\u001b[0m \u001b[0;36m2\u001b[0m\u001b[0;34m\u001b[0m\u001b[0;34m\u001b[0m\u001b[0m\n\u001b[0;32m---> 45\u001b[0;31m \u001b[0mXtrain\u001b[0m \u001b[0;34m=\u001b[0m \u001b[0mX\u001b[0m\u001b[0;34m[\u001b[0m\u001b[0;34m:\u001b[0m\u001b[0mNtrain\u001b[0m\u001b[0;34m]\u001b[0m\u001b[0;34m\u001b[0m\u001b[0;34m\u001b[0m\u001b[0m\n\u001b[0m\u001b[1;32m     46\u001b[0m \u001b[0mztrain\u001b[0m \u001b[0;34m=\u001b[0m \u001b[0mz\u001b[0m\u001b[0;34m[\u001b[0m\u001b[0;34m:\u001b[0m\u001b[0mNtrain\u001b[0m\u001b[0;34m]\u001b[0m\u001b[0;34m\u001b[0m\u001b[0;34m\u001b[0m\u001b[0m\n\u001b[1;32m     47\u001b[0m \u001b[0;34m\u001b[0m\u001b[0m\n",
      "\u001b[0;31mTypeError\u001b[0m: slice indices must be integers or None or have an __index__ method"
     ]
    }
   ],
   "source": [
    "\"\"\"\n",
    "K-Neighbors for Photometric Redshifts\n",
    "-------------------------------------\n",
    "\n",
    "Estimate redshifts from the colors of sdss galaxies and quasars.\n",
    "This uses colors from a sample of 50,000 objects with SDSS photometry\n",
    "and ugriz magnitudes.  The example shows how far one can get with an\n",
    "extremely simple machine learning approach to the photometric redshift\n",
    "problem.\n",
    "\n",
    "The function :func:`fetch_sdss_galaxy_colors` used below actually queries\n",
    "the SDSS CASjobs server for the colors of the 50,000 galaxies.\n",
    "\"\"\"\n",
    "# Author: Jake VanderPlas <vanderplas@astro.washington.edu>\n",
    "# License: BSD\n",
    "#   The figure is an example from astroML: see http://astroML.github.com\n",
    "import numpy as np\n",
    "from matplotlib import pyplot as plt\n",
    "\n",
    "from sklearn.neighbors import KNeighborsRegressor\n",
    "\n",
    "from astroML.datasets import fetch_sdss_galaxy_colors\n",
    "from astroML.plotting import scatter_contour\n",
    "\n",
    "n_neighbors = 1\n",
    "\n",
    "data = fetch_sdss_galaxy_colors()\n",
    "\n",
    "N = len(data)\n",
    "\n",
    "# shuffle data\n",
    "np.random.seed(0)\n",
    "np.random.shuffle(data)\n",
    "\n",
    "# put colors in a matrix\n",
    "X = np.zeros((N, 4))\n",
    "X[:, 0] = data['u'] - data['g']\n",
    "X[:, 1] = data['g'] - data['r']\n",
    "X[:, 2] = data['r'] - data['i']\n",
    "X[:, 3] = data['i'] - data['z']\n",
    "z = data['redshift']\n",
    "\n",
    "# divide into training and testing data\n",
    "Ntrain = N / 2\n",
    "Xtrain = X[:Ntrain]\n",
    "ztrain = z[:Ntrain]\n",
    "\n",
    "Xtest = X[Ntrain:]\n",
    "ztest = z[Ntrain:]\n",
    "\n",
    "knn = KNeighborsRegressor(n_neighbors, weights='uniform')\n",
    "zpred = knn.fit(Xtrain, ztrain).predict(Xtest)\n",
    "\n",
    "axis_lim = np.array([-0.1, 2.5])\n",
    "\n",
    "rms = np.sqrt(np.mean((ztest - zpred) ** 2))\n",
    "print(\"RMS error = %.2g\" % rms)\n",
    "\n",
    "ax = plt.axes()\n",
    "plt.scatter(ztest, zpred, c='k', lw=0, s=4)\n",
    "plt.plot(axis_lim, axis_lim, '--k')\n",
    "plt.plot(axis_lim, axis_lim + rms, ':k')\n",
    "plt.plot(axis_lim, axis_lim - rms, ':k')\n",
    "plt.xlim(axis_lim)\n",
    "plt.ylim(axis_lim)\n",
    "\n",
    "plt.text(0.99, 0.02, \"RMS error = %.2g\" % rms,\n",
    "         ha='right', va='bottom', transform=ax.transAxes,\n",
    "         bbox=dict(ec='w', fc='w'), fontsize=16)\n",
    "\n",
    "plt.title('Photo-z: Nearest Neigbor Regression')\n",
    "plt.xlabel(r'$\\mathrm{z_{spec}}$', fontsize=14)\n",
    "plt.ylabel(r'$\\mathrm{z_{phot}}$', fontsize=14)\n",
    "plt.show()\n",
    "\n"
   ]
  },
  {
   "cell_type": "code",
   "execution_count": 2,
   "metadata": {},
   "outputs": [
    {
     "ename": "TypeError",
     "evalue": "slice indices must be integers or None or have an __index__ method",
     "output_type": "error",
     "traceback": [
      "\u001b[0;31m---------------------------------------------------------------------------\u001b[0m",
      "\u001b[0;31mTypeError\u001b[0m                                 Traceback (most recent call last)",
      "\u001b[0;32m<ipython-input-2-7bae78fc67f0>\u001b[0m in \u001b[0;36m<module>\u001b[0;34m\u001b[0m\n\u001b[1;32m     13\u001b[0m \u001b[0;31m# divide into training and testing data\u001b[0m\u001b[0;34m\u001b[0m\u001b[0;34m\u001b[0m\u001b[0;34m\u001b[0m\u001b[0m\n\u001b[1;32m     14\u001b[0m \u001b[0mNtrain\u001b[0m \u001b[0;34m=\u001b[0m \u001b[0mN\u001b[0m \u001b[0;34m/\u001b[0m \u001b[0;36m2\u001b[0m\u001b[0;34m\u001b[0m\u001b[0;34m\u001b[0m\u001b[0m\n\u001b[0;32m---> 15\u001b[0;31m \u001b[0mXtrain\u001b[0m \u001b[0;34m=\u001b[0m \u001b[0mX\u001b[0m\u001b[0;34m[\u001b[0m\u001b[0mNtrain\u001b[0m\u001b[0;34m:\u001b[0m\u001b[0;34m]\u001b[0m\u001b[0;34m\u001b[0m\u001b[0;34m\u001b[0m\u001b[0m\n\u001b[0m\u001b[1;32m     16\u001b[0m \u001b[0mztrain\u001b[0m \u001b[0;34m=\u001b[0m \u001b[0mz\u001b[0m\u001b[0;34m[\u001b[0m\u001b[0mNtrain\u001b[0m\u001b[0;34m:\u001b[0m\u001b[0;34m]\u001b[0m\u001b[0;34m\u001b[0m\u001b[0;34m\u001b[0m\u001b[0m\n\u001b[1;32m     17\u001b[0m \u001b[0;34m\u001b[0m\u001b[0m\n",
      "\u001b[0;31mTypeError\u001b[0m: slice indices must be integers or None or have an __index__ method"
     ]
    }
   ],
   "source": [
    "# shuffle data\n",
    "np.random.seed(0)\n",
    "np.random.shuffle(data)\n",
    "\n",
    "# put colors in a matrix\n",
    "X = np.zeros((N, 4))\n",
    "X[:, 0] = data['u'] - data['g']\n",
    "X[:, 1] = data['g'] - data['r']\n",
    "X[:, 2] = data['r'] - data['i']\n",
    "X[:, 3] = data['i'] - data['z']\n",
    "z = data['redshift']\n",
    "\n",
    "# divide into training and testing data\n",
    "Ntrain = N / 2\n",
    "Xtrain = X[Ntrain:]\n",
    "ztrain = z[Ntrain:]\n",
    "\n",
    "Xtest = X[-Ntrain:]\n",
    "ztest = z[-Ntrain:]\n",
    "\n",
    "knn = KNeighborsRegressor(n_neighbors, weights='uniform')\n",
    "zpred = knn.fit(Xtrain, ztrain).predict(Xtest)\n",
    "\n",
    "axis_lim = np.array([-0.1, 2.5])\n",
    "\n",
    "rms = np.sqrt(np.mean((ztest - zpred) ** 2))\n",
    "print(\"RMS error = %.2g\" % rms)\n",
    "\n",
    "ax = plt.axes()\n",
    "plt.scatter(ztest, zpred, c='k', lw=0, s=4)\n",
    "plt.plot(axis_lim, axis_lim, '--k')\n",
    "plt.plot(axis_lim, axis_lim + rms, ':k')\n",
    "plt.plot(axis_lim, axis_lim - rms, ':k')\n",
    "plt.xlim(axis_lim)\n",
    "plt.ylim(axis_lim)\n",
    "\n",
    "plt.text(0.99, 0.02, \"RMS error = %.2g\" % rms,\n",
    "         ha='right', va='bottom', transform=ax.transAxes,\n",
    "         bbox=dict(ec='w', fc='w'), fontsize=16)\n",
    "\n",
    "plt.title('Photo-z: Nearest Neigbor Regression')\n",
    "plt.xlabel(r'$\\mathrm{z_{spec}}$', fontsize=14)\n",
    "plt.ylabel(r'$\\mathrm{z_{phot}}$', fontsize=14)\n",
    "plt.show()\n",
    "\n"
   ]
  },
  {
   "cell_type": "code",
   "execution_count": null,
   "metadata": {},
   "outputs": [],
   "source": []
  }
 ],
 "metadata": {
  "kernelspec": {
   "display_name": "Python 3",
   "language": "python",
   "name": "python3"
  },
  "language_info": {
   "codemirror_mode": {
    "name": "ipython",
    "version": 3
   },
   "file_extension": ".py",
   "mimetype": "text/x-python",
   "name": "python",
   "nbconvert_exporter": "python",
   "pygments_lexer": "ipython3",
   "version": "3.6.7"
  }
 },
 "nbformat": 4,
 "nbformat_minor": 2
}
