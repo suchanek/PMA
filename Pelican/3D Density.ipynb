{
 "cells": [
  {
   "cell_type": "code",
   "execution_count": 1,
   "metadata": {},
   "outputs": [
    {
     "name": "stderr",
     "output_type": "stream",
     "text": [
      "/Users/suchanek/anaconda3/envs/TF/lib/python3.6/importlib/_bootstrap.py:219: RuntimeWarning: numpy.ufunc size changed, may indicate binary incompatibility. Expected 192 from C header, got 216 from PyObject\n",
      "  return f(*args, **kwds)\n"
     ]
    }
   ],
   "source": [
    "import numpy as np\n",
    "from scipy import stats\n",
    "from mayavi import mlab\n",
    "import multiprocessing\n",
    "\n",
    "def calc_kde(data):\n",
    "    return kde(data.T)\n",
    "\n",
    "mu, sigma = 0, 0.1 \n",
    "x = 10*np.random.normal(mu, sigma, 5000)\n",
    "y = 10*np.random.normal(mu, sigma, 5000)\n",
    "z = 10*np.random.normal(mu, sigma, 5000)\n",
    "\n",
    "xyz = np.vstack([x,y,z])\n",
    "kde = stats.gaussian_kde(xyz)\n",
    "\n",
    "# Evaluate kde on a grid\n",
    "xmin, ymin, zmin = x.min(), y.min(), z.min()\n",
    "xmax, ymax, zmax = x.max(), y.max(), z.max()\n",
    "xi, yi, zi = np.mgrid[xmin:xmax:30j, ymin:ymax:30j, zmin:zmax:30j]\n",
    "coords = np.vstack([item.ravel() for item in [xi, yi, zi]]) \n",
    "\n",
    "# Multiprocessing\n",
    "cores = multiprocessing.cpu_count()\n",
    "pool = multiprocessing.Pool(processes=cores)\n",
    "results = pool.map(calc_kde, np.array_split(coords.T, 2))\n",
    "density = np.concatenate(results).reshape(xi.shape)\n",
    "\n",
    "# Plot scatter with mayavi\n",
    "figure = mlab.figure('DensityPlot')\n",
    "\n",
    "grid = mlab.pipeline.scalar_field(xi, yi, zi, density)\n",
    "min = density.min()\n",
    "max=density.max()\n",
    "mlab.pipeline.volume(grid, vmin=min, vmax=min + .5*(max-min))\n",
    "\n",
    "mlab.axes()\n",
    "mlab.show()"
   ]
  },
  {
   "cell_type": "code",
   "execution_count": null,
   "metadata": {},
   "outputs": [],
   "source": []
  }
 ],
 "metadata": {
  "kernelspec": {
   "display_name": "Python 3",
   "language": "python",
   "name": "python3"
  },
  "language_info": {
   "codemirror_mode": {
    "name": "ipython",
    "version": 3
   },
   "file_extension": ".py",
   "mimetype": "text/x-python",
   "name": "python",
   "nbconvert_exporter": "python",
   "pygments_lexer": "ipython3",
   "version": "3.6.7"
  }
 },
 "nbformat": 4,
 "nbformat_minor": 2
}
