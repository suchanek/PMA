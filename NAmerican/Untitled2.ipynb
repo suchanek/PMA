{
 "cells": [
  {
   "cell_type": "code",
   "execution_count": null,
   "metadata": {},
   "outputs": [],
   "source": [
    "import plotly as py\n",
    "import plotly_express as px"
   ]
  },
  {
   "cell_type": "code",
   "execution_count": null,
   "metadata": {},
   "outputs": [],
   "source": [
    "import os\n",
    "import sys\n",
    "\n",
    "from os import getenv\n",
    "\n",
    "print(sys.platform)"
   ]
  },
  {
   "cell_type": "code",
   "execution_count": null,
   "metadata": {},
   "outputs": [],
   "source": [
    "from pathlib import *\n",
    "str(Path.home())"
   ]
  },
  {
   "cell_type": "code",
   "execution_count": 2,
   "metadata": {},
   "outputs": [
    {
     "name": "stderr",
     "output_type": "stream",
     "text": [
      "WARNING: AstropyDeprecationWarning: astropy.extern.six will be removed in 4.0, use the six module directly if it is still needed [astropy.extern.six]\n"
     ]
    }
   ],
   "source": [
    "from astroquery.lamda import Lamda"
   ]
  },
  {
   "cell_type": "code",
   "execution_count": 3,
   "metadata": {},
   "outputs": [
    {
     "data": {
      "text/plain": [
       "'/Users/suchanek/.astropy/cache/astroquery/Lamda'"
      ]
     },
     "execution_count": 3,
     "metadata": {},
     "output_type": "execute_result"
    }
   ],
   "source": [
    "Lamda.cache_location"
   ]
  },
  {
   "cell_type": "code",
   "execution_count": 5,
   "metadata": {},
   "outputs": [],
   "source": [
    "collrates, radtransitions, envlevels = Lamda.query(mol='co')"
   ]
  },
  {
   "cell_type": "code",
   "execution_count": 6,
   "metadata": {},
   "outputs": [
    {
     "data": {
      "text/plain": [
       "{'PH2': <Table length=820>\n",
       " Transition Upper Lower C_ij(T=2) ... C_ij(T=1000) C_ij(T=2000) C_ij(T=3000)\n",
       "   int64    int64 int64  float64  ...   float64      float64      float64   \n",
       " ---------- ----- ----- --------- ... ------------ ------------ ------------\n",
       "          1     2     1 2.954e-11 ...    3.409e-11    3.598e-11    3.818e-11\n",
       "          2     3     1  2.87e-11 ...    4.885e-11     5.61e-11    6.083e-11\n",
       "          3     3     2  8.89e-11 ...      7.2e-11    7.596e-11    7.983e-11\n",
       "          4     4     1  4.65e-12 ...    1.748e-11    1.837e-11    1.904e-11\n",
       "          5     4     2 4.734e-11 ...    8.204e-11     9.63e-11    1.049e-10\n",
       "          6     4     3 1.108e-10 ...    9.062e-11     9.73e-11    1.022e-10\n",
       "          7     5     1 2.819e-12 ...     1.06e-11    1.271e-11    1.309e-11\n",
       "          8     5     2 6.145e-12 ...    3.989e-11    3.822e-11    3.439e-11\n",
       "          9     5     3 6.058e-11 ...    8.953e-11    9.551e-11    9.291e-11\n",
       "         10     5     4 8.243e-11 ...    9.479e-11    8.774e-11    7.702e-11\n",
       "        ...   ...   ...       ... ...          ...          ...          ...\n",
       "        811    41    31 4.541e-13 ...    1.065e-11    1.372e-11      1.5e-11\n",
       "        812    41    32 6.509e-13 ...    1.244e-11    1.923e-11    2.262e-11\n",
       "        813    41    33  1.24e-12 ...    1.528e-11    1.846e-11    1.988e-11\n",
       "        814    41    34 1.709e-12 ...    2.275e-11    3.273e-11    3.674e-11\n",
       "        815    41    35 3.226e-12 ...    2.116e-11    2.535e-11    2.753e-11\n",
       "        816    41    36  4.77e-12 ...    4.409e-11    5.635e-11    5.969e-11\n",
       "        817    41    37 7.803e-12 ...    3.126e-11    4.055e-11    4.538e-11\n",
       "        818    41    38 1.637e-11 ...    8.596e-11    9.558e-11      9.5e-11\n",
       "        819    41    39 2.014e-11 ...    7.462e-11    1.025e-10    1.137e-10\n",
       "        820    41    40 8.176e-11 ...    1.661e-10    1.584e-10     1.47e-10,\n",
       " 'OH2': <Table length=820>\n",
       " Transition Upper Lower C_ij(T=2) ... C_ij(T=1000) C_ij(T=2000) C_ij(T=3000)\n",
       "   int64    int64 int64  float64  ...   float64      float64      float64   \n",
       " ---------- ----- ----- --------- ... ------------ ------------ ------------\n",
       "          1     2     1 4.231e-11 ...    3.756e-11    3.946e-11     4.17e-11\n",
       "          2     3     1 6.132e-11 ...     5.78e-11     6.51e-11    6.963e-11\n",
       "          3     3     2 8.368e-11 ...    7.756e-11    8.249e-11    8.638e-11\n",
       "          4     4     1 6.017e-12 ...    1.813e-11    1.949e-11    2.027e-11\n",
       "          5     4     2 7.455e-11 ...    9.423e-11    1.091e-10    1.178e-10\n",
       "          6     4     3 9.578e-11 ...    9.602e-11    1.043e-10    1.095e-10\n",
       "          7     5     1 5.777e-12 ...    1.143e-11    1.409e-11    1.513e-11\n",
       "          8     5     2 8.554e-12 ...     4.39e-11    4.475e-11    4.364e-11\n",
       "          9     5     3 7.852e-11 ...    1.008e-10    1.117e-10    1.149e-10\n",
       "         10     5     4 8.495e-11 ...    1.064e-10     1.07e-10    1.031e-10\n",
       "        ...   ...   ...       ... ...          ...          ...          ...\n",
       "        811    41    31 4.735e-13 ...    1.241e-11    1.665e-11     1.88e-11\n",
       "        812    41    32 6.746e-13 ...    1.443e-11    2.339e-11    2.842e-11\n",
       "        813    41    33 1.272e-12 ...    1.756e-11     2.21e-11    2.453e-11\n",
       "        814    41    34 1.738e-12 ...    2.546e-11    3.786e-11    4.354e-11\n",
       "        815    41    35 3.254e-12 ...      2.4e-11    2.974e-11    3.305e-11\n",
       "        816    41    36  4.84e-12 ...    4.769e-11     6.19e-11    6.651e-11\n",
       "        817    41    37 7.869e-12 ...    3.447e-11    4.522e-11    5.126e-11\n",
       "        818    41    38 1.663e-11 ...    9.078e-11    9.986e-11    9.899e-11\n",
       "        819    41    39 2.035e-11 ...    7.702e-11    1.021e-10    1.132e-10\n",
       "        820    41    40 8.281e-11 ...    1.723e-10    1.559e-10    1.399e-10}"
      ]
     },
     "execution_count": 6,
     "metadata": {},
     "output_type": "execute_result"
    }
   ],
   "source": [
    "collrates"
   ]
  },
  {
   "cell_type": "code",
   "execution_count": 7,
   "metadata": {},
   "outputs": [
    {
     "data": {
      "text/html": [
       "<i>Table length=40</i>\n",
       "<table id=\"table140563301347512\" class=\"table-striped table-bordered table-condensed\">\n",
       "<thead><tr><th>Transition</th><th>Upper</th><th>Lower</th><th>EinsteinA</th><th>Frequency</th><th>E_u(K)</th></tr></thead>\n",
       "<thead><tr><th>int64</th><th>int64</th><th>int64</th><th>float64</th><th>float64</th><th>float64</th></tr></thead>\n",
       "<tr><td>1</td><td>2</td><td>1</td><td>7.203e-08</td><td>115.2712018</td><td>5.53</td></tr>\n",
       "<tr><td>2</td><td>3</td><td>2</td><td>6.91e-07</td><td>230.538</td><td>16.6</td></tr>\n",
       "<tr><td>3</td><td>4</td><td>3</td><td>2.497e-06</td><td>345.7959899</td><td>33.19</td></tr>\n",
       "<tr><td>4</td><td>5</td><td>4</td><td>6.126e-06</td><td>461.0407682</td><td>55.32</td></tr>\n",
       "<tr><td>5</td><td>6</td><td>5</td><td>1.221e-05</td><td>576.2679305</td><td>82.97</td></tr>\n",
       "<tr><td>6</td><td>7</td><td>6</td><td>2.137e-05</td><td>691.4730763</td><td>116.16</td></tr>\n",
       "<tr><td>7</td><td>8</td><td>7</td><td>3.422e-05</td><td>806.651806</td><td>154.87</td></tr>\n",
       "<tr><td>8</td><td>9</td><td>8</td><td>5.134e-05</td><td>921.7997</td><td>199.11</td></tr>\n",
       "<tr><td>9</td><td>10</td><td>9</td><td>7.33e-05</td><td>1036.912393</td><td>248.88</td></tr>\n",
       "<tr><td>10</td><td>11</td><td>10</td><td>0.0001006</td><td>1151.985452</td><td>304.16</td></tr>\n",
       "<tr><td>...</td><td>...</td><td>...</td><td>...</td><td>...</td><td>...</td></tr>\n",
       "<tr><td>31</td><td>32</td><td>31</td><td>0.002524</td><td>3551.592361</td><td>2735.28</td></tr>\n",
       "<tr><td>32</td><td>33</td><td>32</td><td>0.002735</td><td>3664.68418</td><td>2911.15</td></tr>\n",
       "<tr><td>33</td><td>34</td><td>33</td><td>0.002952</td><td>3777.635728</td><td>3092.45</td></tr>\n",
       "<tr><td>34</td><td>35</td><td>34</td><td>0.003175</td><td>3890.442717</td><td>3279.15</td></tr>\n",
       "<tr><td>35</td><td>36</td><td>35</td><td>0.003404</td><td>4003.1007876</td><td>3471.27</td></tr>\n",
       "<tr><td>36</td><td>37</td><td>36</td><td>0.003638</td><td>4115.605585</td><td>3668.78</td></tr>\n",
       "<tr><td>37</td><td>38</td><td>37</td><td>0.003878</td><td>4227.9527744</td><td>3871.69</td></tr>\n",
       "<tr><td>38</td><td>39</td><td>38</td><td>0.00412</td><td>4340.138112</td><td>4079.98</td></tr>\n",
       "<tr><td>39</td><td>40</td><td>39</td><td>0.004365</td><td>4452.1571221</td><td>4293.64</td></tr>\n",
       "<tr><td>40</td><td>41</td><td>40</td><td>0.004613</td><td>4564.0056399</td><td>4512.67</td></tr>\n",
       "</table>"
      ],
      "text/plain": [
       "<Table length=40>\n",
       "Transition Upper Lower EinsteinA  Frequency    E_u(K)\n",
       "  int64    int64 int64  float64    float64    float64\n",
       "---------- ----- ----- --------- ------------ -------\n",
       "         1     2     1 7.203e-08  115.2712018    5.53\n",
       "         2     3     2  6.91e-07      230.538    16.6\n",
       "         3     4     3 2.497e-06  345.7959899   33.19\n",
       "         4     5     4 6.126e-06  461.0407682   55.32\n",
       "         5     6     5 1.221e-05  576.2679305   82.97\n",
       "         6     7     6 2.137e-05  691.4730763  116.16\n",
       "         7     8     7 3.422e-05   806.651806  154.87\n",
       "         8     9     8 5.134e-05     921.7997  199.11\n",
       "         9    10     9  7.33e-05  1036.912393  248.88\n",
       "        10    11    10 0.0001006  1151.985452  304.16\n",
       "       ...   ...   ...       ...          ...     ...\n",
       "        31    32    31  0.002524  3551.592361 2735.28\n",
       "        32    33    32  0.002735   3664.68418 2911.15\n",
       "        33    34    33  0.002952  3777.635728 3092.45\n",
       "        34    35    34  0.003175  3890.442717 3279.15\n",
       "        35    36    35  0.003404 4003.1007876 3471.27\n",
       "        36    37    36  0.003638  4115.605585 3668.78\n",
       "        37    38    37  0.003878 4227.9527744 3871.69\n",
       "        38    39    38   0.00412  4340.138112 4079.98\n",
       "        39    40    39  0.004365 4452.1571221 4293.64\n",
       "        40    41    40  0.004613 4564.0056399 4512.67"
      ]
     },
     "execution_count": 7,
     "metadata": {},
     "output_type": "execute_result"
    }
   ],
   "source": [
    "radtransitions"
   ]
  },
  {
   "cell_type": "code",
   "execution_count": 8,
   "metadata": {},
   "outputs": [
    {
     "ename": "NameError",
     "evalue": "name 'enlevels' is not defined",
     "output_type": "error",
     "traceback": [
      "\u001b[0;31m---------------------------------------------------------------------------\u001b[0m",
      "\u001b[0;31mNameError\u001b[0m                                 Traceback (most recent call last)",
      "\u001b[0;32m<ipython-input-8-49c5ece05b82>\u001b[0m in \u001b[0;36m<module>\u001b[0;34m\u001b[0m\n\u001b[0;32m----> 1\u001b[0;31m \u001b[0menlevels\u001b[0m\u001b[0;34m\u001b[0m\u001b[0;34m\u001b[0m\u001b[0m\n\u001b[0m",
      "\u001b[0;31mNameError\u001b[0m: name 'enlevels' is not defined"
     ]
    }
   ],
   "source": [
    "enlevels"
   ]
  },
  {
   "cell_type": "code",
   "execution_count": 9,
   "metadata": {},
   "outputs": [
    {
     "data": {
      "text/html": [
       "<i>Table length=41</i>\n",
       "<table id=\"table140563543244696\" class=\"table-striped table-bordered table-condensed\">\n",
       "<thead><tr><th>Level</th><th>Energy</th><th>Weight</th><th>J</th></tr></thead>\n",
       "<thead><tr><th>int64</th><th>float64</th><th>int64</th><th>str2</th></tr></thead>\n",
       "<tr><td>1</td><td>0.0</td><td>1</td><td>0</td></tr>\n",
       "<tr><td>2</td><td>3.845033413</td><td>3</td><td>1</td></tr>\n",
       "<tr><td>3</td><td>11.534919938</td><td>5</td><td>2</td></tr>\n",
       "<tr><td>4</td><td>23.069512649</td><td>7</td><td>3</td></tr>\n",
       "<tr><td>5</td><td>38.448164669</td><td>9</td><td>4</td></tr>\n",
       "<tr><td>6</td><td>57.670329083</td><td>11</td><td>5</td></tr>\n",
       "<tr><td>7</td><td>80.735459105</td><td>13</td><td>6</td></tr>\n",
       "<tr><td>8</td><td>107.642407981</td><td>15</td><td>7</td></tr>\n",
       "<tr><td>9</td><td>138.390328288</td><td>17</td><td>8</td></tr>\n",
       "<tr><td>10</td><td>172.978074417</td><td>19</td><td>9</td></tr>\n",
       "<tr><td>...</td><td>...</td><td>...</td><td>...</td></tr>\n",
       "<tr><td>32</td><td>1901.130769241</td><td>63</td><td>31</td></tr>\n",
       "<tr><td>33</td><td>2023.371506269</td><td>65</td><td>32</td></tr>\n",
       "<tr><td>34</td><td>2149.37986436</td><td>67</td><td>33</td></tr>\n",
       "<tr><td>35</td><td>2279.151100482</td><td>69</td><td>34</td></tr>\n",
       "<tr><td>36</td><td>2412.68016922</td><td>71</td><td>35</td></tr>\n",
       "<tr><td>37</td><td>2549.961925315</td><td>73</td><td>36</td></tr>\n",
       "<tr><td>38</td><td>2690.991324173</td><td>75</td><td>37</td></tr>\n",
       "<tr><td>39</td><td>2835.762724236</td><td>77</td><td>38</td></tr>\n",
       "<tr><td>40</td><td>2984.270676211</td><td>79</td><td>39</td></tr>\n",
       "<tr><td>41</td><td>3136.509541175</td><td>81</td><td>40</td></tr>\n",
       "</table>"
      ],
      "text/plain": [
       "<Table length=41>\n",
       "Level     Energy     Weight  J  \n",
       "int64    float64     int64  str2\n",
       "----- -------------- ------ ----\n",
       "    1            0.0      1    0\n",
       "    2    3.845033413      3    1\n",
       "    3   11.534919938      5    2\n",
       "    4   23.069512649      7    3\n",
       "    5   38.448164669      9    4\n",
       "    6   57.670329083     11    5\n",
       "    7   80.735459105     13    6\n",
       "    8  107.642407981     15    7\n",
       "    9  138.390328288     17    8\n",
       "   10  172.978074417     19    9\n",
       "  ...            ...    ...  ...\n",
       "   32 1901.130769241     63   31\n",
       "   33 2023.371506269     65   32\n",
       "   34  2149.37986436     67   33\n",
       "   35 2279.151100482     69   34\n",
       "   36  2412.68016922     71   35\n",
       "   37 2549.961925315     73   36\n",
       "   38 2690.991324173     75   37\n",
       "   39 2835.762724236     77   38\n",
       "   40 2984.270676211     79   39\n",
       "   41 3136.509541175     81   40"
      ]
     },
     "execution_count": 9,
     "metadata": {},
     "output_type": "execute_result"
    }
   ],
   "source": [
    "envlevels"
   ]
  },
  {
   "cell_type": "code",
   "execution_count": 10,
   "metadata": {},
   "outputs": [
    {
     "name": "stdout",
     "output_type": "stream",
     "text": [
      "{'J/other/BAJ/24.62': 'BVRI Photometry of 14 PMS stars (Ibryamov+, 2016)'}\n"
     ]
    }
   ],
   "source": [
    "from astroquery.vizier import Vizier\n",
    "catalog_list = Vizier.find_catalogs('NGC 7000')\n",
    "print({k:v.description for k,v in catalog_list.items()})\n"
   ]
  },
  {
   "cell_type": "code",
   "execution_count": null,
   "metadata": {},
   "outputs": [],
   "source": []
  }
 ],
 "metadata": {
  "kernelspec": {
   "display_name": "Python 3",
   "language": "python",
   "name": "python3"
  },
  "language_info": {
   "codemirror_mode": {
    "name": "ipython",
    "version": 3
   },
   "file_extension": ".py",
   "mimetype": "text/x-python",
   "name": "python",
   "nbconvert_exporter": "python",
   "pygments_lexer": "ipython3",
   "version": "3.7.3"
  }
 },
 "nbformat": 4,
 "nbformat_minor": 2
}
