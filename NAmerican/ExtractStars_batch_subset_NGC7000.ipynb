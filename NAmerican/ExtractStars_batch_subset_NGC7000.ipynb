{
 "cells": [
  {
   "cell_type": "markdown",
   "metadata": {},
   "source": [
    "# NGC 7000 Data Extraction and 3D Velocity calculations\n",
    "*Eric G. Suchanek, Ph.D. 10/6/2019*\n",
    "\n",
    "This code performs a Gaia rectangular search from within the North American Nebula (NGC 7000) and extracts\n",
    "* non-null fields pmra, pmdec, with parallax > 0. The query strings are stored in the mirapy module, filename *egs.py*, and can be easily modified.\n",
    "\n",
    "3d velocities were calculated per the formulae discussed in: http://www.astronexus.com/a-a/motions-long-term. These values were then written out to a csv file containing the query results. The approximate center of NGC 7000 is used for the query center. The approximate distance to the nebula is 675pc.\n",
    "\n",
    "The code is sufficiently general to be re-used to perform stellar extractions against the Gaia DR2 database, perform pm angle and 3d velocity calculations, and write the output to a well-defined file in .csv format. Simply set the center point and extents as well as the project_name variables. \n"
   ]
  },
  {
   "cell_type": "code",
   "execution_count": 3,
   "metadata": {},
   "outputs": [
    {
     "name": "stdout",
     "output_type": "stream",
     "text": [
      "mirapy version: v.0.2019.10.dev\n"
     ]
    }
   ],
   "source": [
    "# Author: Eric G. Suchanek, Ph.D., MIRA#\n",
    "# Setup the libraries and initialize any global variables.\n",
    "# This code must be run first prior to any other cells.\n",
    "#\n",
    "# Suppress warnings. Comment this out if you wish to see the warning messages\n",
    "import warnings\n",
    "warnings.filterwarnings('ignore')\n",
    "\n",
    "# We go offline with plotly first, since this is all local\n",
    "#\n",
    "import numpy as np\n",
    "from pandas import DataFrame\n",
    "\n",
    "import plotly.offline\n",
    "import plotly_express as px\n",
    "\n",
    "from time import time\n",
    "# make sure the mirapy module is in the python module include path\n",
    "import mirapy\n",
    "print('mirapy version:', mirapy.__version__)\n",
    "\n",
    "from mirapy import * \n",
    "import mirapy.egs as egs\n",
    "from mirapy.utils import pprint_elapsed, query_Simbad_obj_pos, query_Simbad_obj_SC"
   ]
  },
  {
   "cell_type": "code",
   "execution_count": 9,
   "metadata": {},
   "outputs": [
    {
     "name": "stdout",
     "output_type": "stream",
     "text": [
      "Center position for object: NGC7000 is RA: 20:58:47 Dec: +44:19.8\n"
     ]
    }
   ],
   "source": [
    "# Program to extract stars based on systematic variation of extraction size, \n",
    "# centered on NGC 7000 (the North American Nebula)\n",
    "\n",
    "# specify the absolute path prefix (relative to the User's HOME directory), for \n",
    "# the location of the extracted stars will need to use this when reading as well!\n",
    "\n",
    "obj_name = \"NGC7000\"\n",
    "project_dir = \"/MIRA/data/PM_subset/\"\n",
    "file_prefix = obj_name + \"_\"\n",
    "\n",
    "# Center of NGC 7000\n",
    "# ra_center = \"20h58m47s\" \n",
    "# dec_center = \"44d19m48s\" \n",
    "\n",
    "ra_center, dec_center = query_Simbad_obj_pos(obj_name)\n",
    "print(\"Center position for object:\", obj_name, \"is RA:\", ra_center, \"Dec:\", dec_center)"
   ]
  },
  {
   "cell_type": "code",
   "execution_count": null,
   "metadata": {
    "scrolled": false
   },
   "outputs": [],
   "source": [
    "star_count_list = []\n",
    "time_list = []\n",
    "\n",
    "start = time()\n",
    "\n",
    "# list of extract sizes. 5m to 120m in 5m steps:\n",
    "size_list = [str(size)+\"m\" for size in range(5,125,5)]\n",
    "\n",
    "# loop over various extraction sizes. note we are doing square extractions so width = height\n",
    "print(\"Starting batch run for sizes: \", size_list)\n",
    "print()\n",
    "\n",
    "for sz in size_list:\n",
    "    start2 = time()\n",
    "    print(\"Starting query, size:\", sz, \"x\", sz)\n",
    "    star_count, secs, output_filename = egs.extract_Gaia_stars(ra_center, dec_center, sz, sz,\n",
    "                                                               project_dir, file_prefix)\n",
    "    print('--> Returned:', star_count, 'stars in:', output_filename)\n",
    "    pprint_elapsed(start2)\n",
    "    print()\n",
    "    star_count_list.append(star_count)\n",
    "    time_list.append(secs) \n",
    "\n",
    "print('Batch extract completed.')\n",
    "pprint_elapsed(start)"
   ]
  },
  {
   "cell_type": "code",
   "execution_count": null,
   "metadata": {},
   "outputs": [],
   "source": [
    "\n",
    "df = DataFrame()\n",
    "df['starcount'] = star_count_list\n",
    "df['Size'] = size_list\n",
    "df['Seconds'] = time_list\n",
    "\n",
    "title_str = \"Star Count vs Extent\"\n",
    "fig = px.scatter(df, x=\"Size\", y=\"starcount\", template='plotly_dark', title=title_str,\n",
    "                log_y=False)\n",
    "fig.show()\n",
    "\n",
    "\n",
    "title_str = \"Query Time vs Extent\"\n",
    "fig2 = px.scatter(df, x=\"Size\", y=\"Seconds\", template='plotly_dark', title=title_str,\n",
    "                 log_y=True)\n",
    "fig2.show()"
   ]
  },
  {
   "cell_type": "code",
   "execution_count": null,
   "metadata": {},
   "outputs": [],
   "source": []
  },
  {
   "cell_type": "code",
   "execution_count": null,
   "metadata": {},
   "outputs": [],
   "source": []
  },
  {
   "cell_type": "code",
   "execution_count": null,
   "metadata": {},
   "outputs": [],
   "source": [
    "# just trying out the Gaia class extract routine...\n",
    "from astroquery.gaia import Gaia\n",
    "import astropy.units as u\n",
    "\n",
    "start = time()\n",
    "result = Gaia.query_object_async(\"20h58m47s 44d19m48s\", width=.125*u.deg, height=.125*u.deg,verbose=False)\n",
    "print('Stars returned:', len(result))\n",
    "pprint_elapsed(start, verbose=False)\n",
    "df = result.to_pandas()\n",
    "df.describe()"
   ]
  },
  {
   "cell_type": "code",
   "execution_count": null,
   "metadata": {},
   "outputs": [],
   "source": []
  },
  {
   "cell_type": "code",
   "execution_count": 7,
   "metadata": {},
   "outputs": [
    {
     "name": "stdout",
     "output_type": "stream",
     "text": [
      "20h58m47s 44d19m48s\n",
      "<SkyCoord (ICRS): (ra, dec) in deg\n",
      "    (314.69583333, 44.33)>\n",
      "20:58:47   +44:19.8\n"
     ]
    }
   ],
   "source": [
    "ra_center = \"20h58m47s\" \n",
    "dec_center = \"44d19m48s\"\n",
    "print(ra_center, dec_center)\n",
    "sc2 = utils.query_Simbad_obj_SC(\"NGC7000\")\n",
    "print(sc2)\n",
    "ras, decs = query_Simbad_obj_pos(\"NGC7000\")\n",
    "\n",
    "print(ras, \" \", decs)"
   ]
  },
  {
   "cell_type": "code",
   "execution_count": null,
   "metadata": {},
   "outputs": [],
   "source": []
  },
  {
   "cell_type": "code",
   "execution_count": null,
   "metadata": {},
   "outputs": [],
   "source": []
  }
 ],
 "metadata": {
  "kernelspec": {
   "display_name": "Python 3",
   "language": "python",
   "name": "python3"
  },
  "language_info": {
   "codemirror_mode": {
    "name": "ipython",
    "version": 3
   },
   "file_extension": ".py",
   "mimetype": "text/x-python",
   "name": "python",
   "nbconvert_exporter": "python",
   "pygments_lexer": "ipython3",
   "version": "3.6.7"
  },
  "widgets": {
   "application/vnd.jupyter.widget-state+json": {
    "state": {},
    "version_major": 2,
    "version_minor": 0
   }
  }
 },
 "nbformat": 4,
 "nbformat_minor": 4
}
