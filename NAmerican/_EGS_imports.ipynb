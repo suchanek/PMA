{
 "cells": [
  {
   "cell_type": "code",
   "execution_count": null,
   "metadata": {},
   "outputs": [],
   "source": [
    "# Auther: Eric G. Suchanek, Ph.D. (c) 2019#\n",
    "# Setup the libraries and initialize any global variables.\n",
    "# This code must be run first prior to any other cells.\n",
    "#\n",
    "# Suppress warnings. Comment this out if you wish to see the warning messages\n",
    "import warnings\n",
    "warnings.filterwarnings('ignore')\n",
    "\n",
    "import numpy as np\n",
    "from pandas import DataFrame\n",
    "\n",
    "from mirapy import *\n",
    "import mirapy.egs as egs\n",
    "import mirapy.utils as utils\n",
    "from mirapy.utils import pprint_elapsed\n",
    "\n",
    "#\n",
    "# We go offline with cufflinks first, since this is all local\n",
    "#\n",
    "import cufflinks as cf\n",
    "cf.go_offline()\n",
    "cf.set_config_file(offline=False, world_readable=True, theme=\"space\")\n",
    "import plotly.offline\n",
    "\n",
    "# global variable used for pprinting the elapsed time. one of linux, imac, pc\n",
    "_sys = linux\n"
   ]
  }
 ],
 "metadata": {
  "kernelspec": {
   "display_name": "Python 3",
   "language": "python",
   "name": "python3"
  },
  "language_info": {
   "codemirror_mode": {
    "name": "ipython",
    "version": 3
   },
   "file_extension": ".py",
   "mimetype": "text/x-python",
   "name": "python",
   "nbconvert_exporter": "python",
   "pygments_lexer": "ipython3",
   "version": "3.6.7"
  }
 },
 "nbformat": 4,
 "nbformat_minor": 2
}
