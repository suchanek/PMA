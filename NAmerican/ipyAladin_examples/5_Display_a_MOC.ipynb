{
 "cells": [
  {
   "cell_type": "code",
   "execution_count": 1,
   "metadata": {},
   "outputs": [
    {
     "data": {
      "application/vnd.jupyter.widget-view+json": {
       "model_id": "eb9d6e3693c5475990e5876a45612d0f",
       "version_major": 2,
       "version_minor": 0
      },
      "text/plain": [
       "Aladin(fov=135.0, options=['allow_full_zoomout', 'coo_frame', 'fov', 'full_screen', 'log', 'overlay_survey', '…"
      ]
     },
     "metadata": {},
     "output_type": "display_data"
    }
   ],
   "source": [
    "import ipyaladin as ipyal\n",
    "aladin= ipyal.Aladin(target='15 26 20.534 -57 02 14.74', fov=135, survey='P/Mellinger/color')\n",
    "aladin"
   ]
  },
  {
   "cell_type": "code",
   "execution_count": 2,
   "metadata": {},
   "outputs": [],
   "source": [
    "aladin.add_moc_from_URL('https://alasky.u-strasbg.fr/footprints/tables/vizier/II_337_vvv1/MOC?nside=256', {'color': 'violet', 'opacity': 0.3})"
   ]
  },
  {
   "cell_type": "code",
   "execution_count": 3,
   "metadata": {},
   "outputs": [],
   "source": [
    "moc = {\"4\":[32,33,36,51,54,55,98,99,102,112,113,116,117,1101,1118,\n",
    "1600,1638,2581,2582,2588,2590,2612,2614,2620,2622,2708,2710,2716,2718,2749\n",
    "],\n",
    "\"5\":[42,43,150,151,152,153,156,157,194,195,198,199,200,201,203,\n",
    "210,378,379,382,383,387,390,391,402,403,406,407,412,413,456,\n",
    "457,460,461,472,1470,1751,1755,1756,1757,1758,1766,1767,1769,1770,1771,\n",
    "1772,1773,1776,1777,1778,1811,1817,1818,1831,1835,1836,1838,1840,1920,1921,\n",
    "1922,4188,4189,4363,4366,4367,4389,4400,4401,4450,4451,4454,4456,4457,4460,\n",
    "4461,4463,4476,4478,4479,4561,4564,4565,6229,6408,6409,6411,6412,6414,6433,\n",
    "6436,6438,6439,6444,6445,6447,6533,6544,6546,6577,6579,6582,6588,6590,6591,\n",
    "6933,6935,6984,6986,7008,7011,7017,10321,10323,10332,10333,10334,10356,10358,10364,\n",
    "10366,10445,10447,10469,10477,10479,10821,10823,10878,10960,10961,10963,10964,10966,10969,\n",
    "10971,10972,10974,10975,11004,11005,11007,11176,11178,11370,11373,11405,11406,11407,11410,\n",
    "11411,11412,11413,11414,11416,11425,11426,11427,11428,11432]}"
   ]
  },
  {
   "cell_type": "code",
   "execution_count": 4,
   "metadata": {},
   "outputs": [],
   "source": [
    "aladin.add_moc_from_dict(moc, {'adaptativeDisplay': False})"
   ]
  },
  {
   "cell_type": "code",
   "execution_count": null,
   "metadata": {
    "collapsed": true
   },
   "outputs": [],
   "source": []
  }
 ],
 "metadata": {
  "kernelspec": {
   "display_name": "Python 3",
   "language": "python",
   "name": "python3"
  },
  "language_info": {
   "codemirror_mode": {
    "name": "ipython",
    "version": 3
   },
   "file_extension": ".py",
   "mimetype": "text/x-python",
   "name": "python",
   "nbconvert_exporter": "python",
   "pygments_lexer": "ipython3",
   "version": "3.7.3"
  }
 },
 "nbformat": 4,
 "nbformat_minor": 2
}
