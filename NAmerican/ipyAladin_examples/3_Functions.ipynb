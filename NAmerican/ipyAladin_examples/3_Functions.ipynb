{
 "cells": [
  {
   "cell_type": "code",
   "execution_count": 1,
   "metadata": {},
   "outputs": [],
   "source": [
    "import ipyaladin as ipyal"
   ]
  },
  {
   "cell_type": "code",
   "execution_count": 2,
   "metadata": {},
   "outputs": [
    {
     "data": {
      "application/vnd.jupyter.widget-view+json": {
       "model_id": "97e73c7aa18f4990abe895b08c696e0d",
       "version_major": 2,
       "version_minor": 0
      },
      "text/plain": [
       "Aladin(fov=10.0, options=['allow_full_zoomout', 'coo_frame', 'fov', 'full_screen', 'log', 'overlay_survey', 'o…"
      ]
     },
     "metadata": {},
     "output_type": "display_data"
    }
   ],
   "source": [
    "aladin= ipyal.Aladin(survey= 'P/DSS2/red',\n",
    "                              fov= 10,\n",
    "                              target= 'LMC',\n",
    "                              reticle_color= '#ff89ff')\n",
    "aladin"
   ]
  },
  {
   "cell_type": "code",
   "execution_count": 3,
   "metadata": {},
   "outputs": [],
   "source": [
    "url= 'http://vizier.u-strasbg.fr/viz-bin/votable?-source=HIP2&-c=LMC&-out.add=_RAJ,_DEJ&-oc.form=dm&-out.meta=DhuL&-out.max=9999&-c.rm=180'\n",
    "options= {'sourceSize':12, 'color': '#f08080'}\n",
    "aladin.add_catalog_from_URL(url, options)"
   ]
  },
  {
   "cell_type": "code",
   "execution_count": 4,
   "metadata": {},
   "outputs": [],
   "source": [
    "def getObjectData(data):\n",
    "    return data\n",
    "\n",
    "def getObjectRaDecProduct(data):\n",
    "    return data['ra']*data['dec']\n",
    "\n",
    "# when trigerred, the listeners on the js side of the application will send a json object whose parameter data\n",
    "# will be used by the python functions\n",
    "# (data is a litteral object on the js side, it will be converted as a dictionary object on the python side)\n",
    "aladin.add_listener('objectHovered', getObjectRaDecProduct)\n",
    "aladin.add_listener('objectClicked', getObjectData)"
   ]
  },
  {
   "cell_type": "code",
   "execution_count": 8,
   "metadata": {},
   "outputs": [
    {
     "data": {
      "application/vnd.jupyter.widget-view+json": {
       "model_id": "7a7f7d5bbfcd4ecaba34ec84b76dd807",
       "version_major": 2,
       "version_minor": 0
      },
      "text/plain": [
       "Aladin(fov=1.0, options=['allow_full_zoomout', 'coo_frame', 'fov', 'full_screen', 'log', 'overlay_survey', 'ov…"
      ]
     },
     "metadata": {},
     "output_type": "display_data"
    }
   ],
   "source": [
    "aladin_bis= ipyal.Aladin(target='269.956288 -23.823863', fov=1)\n",
    "aladin_bis"
   ]
  },
  {
   "cell_type": "code",
   "execution_count": 9,
   "metadata": {},
   "outputs": [],
   "source": [
    "aladin_bis.set_color_map('rainbow')"
   ]
  },
  {
   "cell_type": "code",
   "execution_count": 7,
   "metadata": {},
   "outputs": [],
   "source": [
    "aladin_bis.get_JPEG_thumbnail()"
   ]
  },
  {
   "cell_type": "code",
   "execution_count": null,
   "metadata": {},
   "outputs": [],
   "source": []
  }
 ],
 "metadata": {
  "kernelspec": {
   "display_name": "Python 3",
   "language": "python",
   "name": "python3"
  },
  "language_info": {
   "codemirror_mode": {
    "name": "ipython",
    "version": 3
   },
   "file_extension": ".py",
   "mimetype": "text/x-python",
   "name": "python",
   "nbconvert_exporter": "python",
   "pygments_lexer": "ipython3",
   "version": "3.7.3"
  }
 },
 "nbformat": 4,
 "nbformat_minor": 2
}
