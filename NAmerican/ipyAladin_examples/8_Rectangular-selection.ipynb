{
 "cells": [
  {
   "cell_type": "markdown",
   "metadata": {},
   "source": [
    "### Example of rectangular selection\n",
    "Once all the cells below have been executed, you will be able to press the _Select_ button, drag a rectangle enclosing the sources you wish to select and see their names in the table at the right of the ipyaladin view."
   ]
  },
  {
   "cell_type": "code",
   "execution_count": 9,
   "metadata": {
    "scrolled": false
   },
   "outputs": [
    {
     "data": {
      "application/vnd.jupyter.widget-view+json": {
       "model_id": "42e10edd831e41a5b3ff09c3088e6889",
       "version_major": 2,
       "version_minor": 0
      },
      "text/html": [
       "<p>Failed to display Jupyter Widget of type <code>Box</code>.</p>\n",
       "<p>\n",
       "  If you're reading this message in the Jupyter Notebook or JupyterLab Notebook, it may mean\n",
       "  that the widgets JavaScript is still loading. If this message persists, it\n",
       "  likely means that the widgets JavaScript library is either not installed or\n",
       "  not enabled. See the <a href=\"https://ipywidgets.readthedocs.io/en/stable/user_install.html\">Jupyter\n",
       "  Widgets Documentation</a> for setup instructions.\n",
       "</p>\n",
       "<p>\n",
       "  If you're reading this message in another frontend (for example, a static\n",
       "  rendering on GitHub or <a href=\"https://nbviewer.jupyter.org/\">NBViewer</a>),\n",
       "  it may mean that your frontend doesn't currently support widgets.\n",
       "</p>\n"
      ],
      "text/plain": [
       "Box(children=(Aladin(fov=0.2, layout=Layout(width='50%'), options=['allow_full_zoomout', 'coo_frame', 'fov', 'full_screen', 'log', 'overlay_survey', 'overlay_survey_opacity', 'reticle_color', 'reticle_size', 'show_catalog', 'show_coo_grid', 'show_frame', 'show_fullscreen_control', 'show_goto_control', 'show_layers_control', 'show_reticle', 'show_share_control', 'show_zoom_control', 'survey', 'target'], target='M 1'), Button(description='Select', style=ButtonStyle()), HTML(value='', layout=Layout(height='auto', overflow='auto'))), layout=Layout(align_items='stretch', display='flex', flex_flow='row', height='100vh', margin='-100px 0 0 0', overflow='hidden', padding='100px 0 0 0 ', width='100%'))"
      ]
     },
     "metadata": {},
     "output_type": "display_data"
    }
   ],
   "source": [
    "from ipyaladin import Aladin\n",
    "from ipywidgets import Layout, Box, widgets\n",
    "\n",
    "aladin = Aladin(layout=Layout(width='50%'), target='M 1', fov=0.2)\n",
    "\n",
    "\n",
    "button = widgets.Button(description=\"Select\")\n",
    "def on_button_clicked(b):\n",
    "    aladin.rectangular_selection()\n",
    "\n",
    "button.on_click(on_button_clicked)\n",
    "table_info = widgets.HTML(layout=Layout(height='auto', overflow='auto'))\n",
    "\n",
    "\n",
    "box_layout = Layout(display='flex',\n",
    "                    flex_flow='row',\n",
    "                    align_items='stretch',\n",
    "                    width='100%',\n",
    "                    position='relative',\n",
    "                    overflow='hidden',\n",
    "                    height='100vh',\n",
    "                    margin='-100px 0 0 0',\n",
    "                    padding='100px 0 0 0 '\n",
    "                   )\n",
    "box = Box(children=[aladin, button, table_info], layout=box_layout)\n",
    "box\n",
    "\n",
    "\n"
   ]
  },
  {
   "cell_type": "markdown",
   "metadata": {},
   "source": [
    "Execute the cell below before pressing the _Select_ button."
   ]
  },
  {
   "cell_type": "code",
   "execution_count": 7,
   "metadata": {},
   "outputs": [],
   "source": [
    "from astroquery.simbad import Simbad\n",
    "import astropy.units as u\n",
    "\n",
    "table = Simbad.query_region(\"M 1\", radius=0.1 * u.deg)\n",
    "aladin.add_table(table)\n",
    "\n",
    "def process_result(sources):\n",
    "    s = '<table border=\"1\">'\n",
    "    s += '<tr><th>MAIN_ID</th><th>RA</th><th>DEC</th></tr>'\n",
    "    for source in sources:\n",
    "        s += '<tr><td>%s</td><td>%s</td><td>%s</td></tr>' % (source['data']['MAIN_ID'], source['data']['RA'], source['data']['DEC'])\n",
    "    s += '</table>'\n",
    "    table_info.value = s\n",
    "    \n",
    "aladin.add_listener('select', process_result)"
   ]
  },
  {
   "cell_type": "code",
   "execution_count": 3,
   "metadata": {},
   "outputs": [],
   "source": [
    "\n",
    "\n"
   ]
  },
  {
   "cell_type": "code",
   "execution_count": 4,
   "metadata": {},
   "outputs": [],
   "source": []
  },
  {
   "cell_type": "code",
   "execution_count": null,
   "metadata": {},
   "outputs": [],
   "source": []
  }
 ],
 "metadata": {
  "kernelspec": {
   "display_name": "Python 3",
   "language": "python",
   "name": "python3"
  },
  "language_info": {
   "codemirror_mode": {
    "name": "ipython",
    "version": 3
   },
   "file_extension": ".py",
   "mimetype": "text/x-python",
   "name": "python",
   "nbconvert_exporter": "python",
   "pygments_lexer": "ipython3",
   "version": "3.6.3"
  }
 },
 "nbformat": 4,
 "nbformat_minor": 2
}
